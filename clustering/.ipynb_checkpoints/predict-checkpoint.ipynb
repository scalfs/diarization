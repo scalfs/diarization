{
 "cells": [
  {
   "cell_type": "code",
   "execution_count": 1,
   "metadata": {},
   "outputs": [],
   "source": [
    "import os\n",
    "import numpy as np\n",
    "from collections import defaultdict\n",
    "\n",
    "base_dir = '/home/jovyan/work'\n",
    "\n",
    "# sequences of segment-level embeddings\n",
    "voxcon_test_seqs = np.load(f'{base_dir}/sequences/fixed-voxcon-test-sequences.npy', allow_pickle=True).tolist()\n",
    "voxsrc21_seqs = np.load(f'{base_dir}/sequences/voxsrc21-sequences.npy', allow_pickle=True).tolist()\n",
    "\n",
    "# segments intervals, for creating resulting RTTM and calculating DER and JER\n",
    "voxcon_test_intervals = np.load(f'{base_dir}/sequences/fixed-voxcon-test-intervals.npy', allow_pickle=True).tolist()\n",
    "voxsrc21_intervals = np.load(f'{base_dir}/sequences/voxsrc21-intervals.npy', allow_pickle=True).tolist()\n",
    "\n",
    "# ids sorted by processing order (regarding to seqs and interval clusters)\n",
    "voxcon_test_audio_ids = [\"aepyx\",\"aiqwk\",\"bjruf\",\"bmsyn\",\"bxcfq\",\"byapz\",\"clfcg\",\"cqfmj\",\"crylr\",\"cvofp\",\"dgvwu\",\"dohag\",\"dxbbt\",\"dzsef\",\"eauve\",\"eazeq\",\"eguui\",\"epygx\",\"eqsta\",\"euqef\",\"fijfi\",\"fpfvy\",\"fqrnu\",\"fxnwf\",\"fyqoe\",\"gcfwp\",\"gtjow\",\"gtnjb\",\"gukoa\",\"guvqf\",\"gylzn\",\"gyomp\",\"hcyak\",\"heolf\",\"hhepf\",\"ibrnm\",\"ifwki\",\"iiprr\",\"ikhje\",\"jdrwl\",\"jjkrt\",\"jjvkx\",\"jrfaz\",\"jsbdo\",\"jttar\",\"jxpom\",\"jzkzt\",\"kajfh\",\"kmunk\",\"kpjud\",\"ktvto\",\"kvkje\",\"lbfnx\",\"ledhe\",\"lilfy\",\"ljpes\",\"lkikz\",\"lpola\",\"lscfc\",\"ltgmz\",\"lubpm\",\"luobn\",\"mjmgr\",\"msbyq\",\"mupzb\",\"myjoe\",\"nlvdr\",\"nprxc\",\"ocfop\",\"ofbxh\",\"olzkb\",\"ooxlj\",\"oqwpd\",\"otmpf\",\"ouvtt\",\"poucc\",\"ppexo\",\"pwnsw\",\"qadia\",\"qeejz\",\"qlrry\",\"qwepo\",\"rarij\",\"rmvsh\",\"rxulz\",\"sebyw\",\"sexgc\",\"sfdvy\",\"svxzm\",\"tkybe\",\"tpslg\",\"uedkc\",\"uqxlg\",\"usqam\",\"vncid\",\"vylyk\",\"vzuru\",\"wdvva\",\"wemos\",\"wprog\",\"wwzsk\",\"xggbk\",\"xkgos\",\"xlyov\",\"xmyyy\",\"xqxkt\",\"xtdcl\",\"xtzoq\",\"xvxwv\",\"ybhwz\",\"ylzez\",\"ytmef\",\"yukhy\",\"yzvon\",\"zedtj\",\"zfzlc\",\"zowse\",\"zqidv\",\"zztbo\",\"ralnu\",\"uicid\",\"laoyl\",\"jxydp\",\"pzxit\",\"upshw\",\"gfneh\",\"kzmyi\",\"nkqzr\",\"kgjaa\",\"dkabn\",\"eucfa\",\"erslt\",\"mclsr\",\"fzwtp\",\"dzxut\",\"pkwrt\",\"gmmwm\",\"leneg\",\"sxqvt\",\"pgtkk\",\"fuzfh\",\"vtzqw\",\"rsypp\",\"qxana\",\"optsn\",\"dxokr\",\"ptses\",\"isxwc\",\"gzhwb\",\"mhwyr\",\"duvox\",\"ezxso\",\"jgiyq\",\"rpkso\",\"kmjvh\",\"wcxfk\",\"gcvrb\",\"eddje\",\"pccww\",\"vuewy\",\"tvtoe\",\"oubab\",\"jwggf\",\"aggyz\",\"bidnq\",\"neiye\",\"mkhie\",\"iowob\",\"jbowg\",\"gwloo\",\"uevxo\",\"nitgx\",\"eoyaz\",\"qoarn\",\"mxdpo\",\"auzru\",\"diysk\",\"cwbvu\",\"jeymh\",\"iacod\",\"cawnd\",\"vgaez\",\"bgvvt\",\"tiido\",\"aorju\",\"qajyo\",\"ryken\",\"iabca\",\"tkhgs\",\"tbjqx\",\"mqtep\",\"fowhl\",\"fvhrk\",\"nqcpi\",\"mbzht\",\"uhfrw\",\"utial\",\"cpebh\",\"tnjoh\",\"jsymf\",\"vgevv\",\"mxduo\",\"gkiki\",\"bvyvm\",\"hqhrb\",\"isrps\",\"nqyqm\",\"dlast\",\"pxqme\",\"bpzsc\",\"vdlvr\",\"lhuly\",\"crorm\",\"bvqnu\",\"tpnyf\",\"thnuq\",\"swbnm\",\"cadba\",\"sbrmv\",\"wibky\",\"wlfsf\",\"wwvcs\",\"xffsa\",\"xkmqx\",\"xlsme\",\"ygrip\",\"ylgug\",\"ytula\",\"zehzu\",\"zsgto\",\"zzsba\",\"zzyyo\"]\n",
    "voxsrc21_audio_ids = [\"tpine\", \"huqpy\", \"uzsvq\", \"pirso\", \"npnyp\", \"jsatj\", \"kuunx\", \"klbrr\", \"ecugo\", \"dwtow\", \"lhbqr\", \"zfipy\", \"wsobx\", \"jxkah\", \"hjvtj\", \"dpbgj\", \"phcxl\", \"uddju\", \"hufrz\", \"fibgq\", \"ahrcr\", \"cnbhz\", \"ahpuj\", \"biypq\", \"taukp\", \"iwvbh\", \"zobzz\", \"chvgo\", \"zsngo\", \"ixbvn\", \"ruwbp\", \"dufvn\", \"hajxp\", \"ohjjf\", \"veada\", \"zfzwt\", \"aqlrr\", \"qvroz\", \"cqfbd\", \"hzttx\", \"jrxnz\", \"gcccl\", \"qgzvk\", \"ieaoq\", \"jwezt\", \"ovxrk\", \"oitjh\", \"xivtm\", \"rnmrp\", \"euhwq\", \"iflmj\", \"hffvn\", \"eoxkf\", \"ycycy\", \"fwjhb\", \"yhntc\", \"ersxa\", \"afhlm\", \"uhpjz\", \"saenk\", \"oszsp\", \"zkmgn\", \"cgjuc\", \"vofje\", \"ajjmr\", \"mkbjy\", \"cxrjf\", \"jbirg\", \"hmnyo\", \"mknge\", \"xahab\", \"svnoe\", \"iucho\", \"uwgqx\", \"sfjjj\", \"rymcy\", \"rycwr\", \"fdtlj\", \"ewkei\", \"pojyu\", \"vrgwd\", \"bfwgq\", \"goots\", \"mrbme\", \"nzoid\", \"cehwp\", \"uosun\", \"pzrcf\", \"kpecv\", \"pwutv\", \"ipszk\", \"ktmre\", \"bylqb\", \"mrgru\", \"osrss\", \"ftajg\", \"xairp\", \"whibh\", \"xmkio\", \"rvyug\", \"tealt\", \"ezptn\", \"kpihx\", \"ubthy\", \"njuto\", \"komgz\", \"ahcuo\", \"lcowh\", \"vuqbp\", \"wnoyw\", \"zliuj\", \"dvofo\", \"yhivq\", \"xvaqn\", \"ixcig\", \"zauxp\", \"nzonc\", \"rvrlo\", \"xesmw\", \"mylgb\", \"askiw\", \"nsibk\", \"quinj\", \"swpjb\", \"fsfdw\", \"kcoeu\", \"eeivl\", \"tuczd\", \"jjbsx\", \"ytvbn\", \"dwsdu\",\"fseqv\", \"zjrun\", \"pqifp\", \"aqind\", \"enrur\", \"vtdos\", \"ymvrw\", \"welcq\", \"wazie\", \"ssbra\", \"kxzac\", \"tcwva\", \"epbjz\", \"hkfjg\", \"bwpth\", \"cnwba\", \"vghwm\", \"usxym\", \"yyldd\", \"govov\", \"ueoss\", \"ivmhq\", \"gsigu\", \"sotzc\", \"ebixn\", \"zhcic\", \"ckivy\", \"tldnh\", \"hiukp\", \"lvrse\", \"sdpur\", \"ubitk\", \"reljk\", \"hfzhn\", \"axabh\", \"bmldz\", \"ujdjd\", \"kgzrb\", \"msnqr\", \"syucd\", \"ognux\", \"ahorw\", \"ifafa\", \"bpbon\", \"yywxf\", \"qezbm\", \"sljce\", \"nttgg\", \"uupjc\", \"gukfd\", \"hexbr\", \"jnoor\", \"rfyhi\", \"pbocz\", \"eqalx\", \"tpfau\", \"aoehz\", \"hmkzx\", \"zdymj\", \"qxezs\", \"irswh\", \"zktli\", \"dkpkx\", \"cqhil\", \"kxjyn\", \"rjpos\", \"kqlln\", \"vqzkm\", \"jucfh\", \"wjwes\", \"mebni\", \"ubogn\", \"obsbu\", \"dsuiy\", \"fmtir\", \"alpmg\", \"sndtu\", \"tkxsz\", \"qnuxe\", \"ctjzs\", \"uelsx\", \"xwaec\", \"bzlts\", \"fftup\", \"fqpdh\", \"ffcio\", \"wofgd\", \"oiyjs\", \"avvvz\", \"tbedi\", \"zyjfv\", \"bgkus\", \"linoq\", \"ptctn\", \"fhjbj\", \"wmhps\", \"lceba\", \"msswz\", \"rxldb\", \"lqvix\", \"vwgph\", \"zsgyz\", \"anojt\", \"lwxbp\", \"slldp\", \"jpjcy\", \"xpewn\", \"bamsl\", \"qmsgw\", \"wayap\", \"eizev\", \"nbema\", \"sqtvn\", \"oewsu\", \"rjdar\", \"rjmds\", \"vwftp\", \"ckeyp\", \"fcghr\", \"jfkiy\", \"ogkch\", \"iadsf\", \"jrnnn\", \"vjkrd\", \"brxew\", \"uyykg\", \"xikii\", \"zskbo\", \"xmezt\", \"kygkd\", \"rpjuz\", \"bmria\", \"eumxr\"]"
   ]
  },
  {
   "cell_type": "code",
   "execution_count": 5,
   "metadata": {},
   "outputs": [],
   "source": [
    "from spectralcluster import SpectralClusterer\n",
    "from spectralcluster import RefinementOptions, refinement\n",
    "from spectralcluster import ThresholdType, AutoTune\n",
    "from spectralcluster import ICASSP2018_REFINEMENT_SEQUENCE\n",
    "\n",
    "from pyannote.core import Annotation, Segment\n",
    "from pyannote.database.util import load_rttm\n",
    "from pyannote.metrics.diarization import DiarizationErrorRate, JaccardErrorRate\n",
    "\n",
    "# Configurations that are closest to the ICASSP2018 paper\n",
    "# \"Speaker Diarization with LSTM\".\n",
    "RefinementName = refinement.RefinementName\n",
    "\n",
    "ICASSP2018_REFINEMENT_SEQUENCE = [\n",
    "    RefinementName.CropDiagonal,\n",
    "    RefinementName.GaussianBlur,\n",
    "    RefinementName.RowWiseThreshold,\n",
    "    RefinementName.Symmetrize,\n",
    "    RefinementName.Diffuse,\n",
    "    RefinementName.RowWiseNormalize,\n",
    "]\n",
    "\n",
    "icassp2018_refinement_options = RefinementOptions(\n",
    "    gaussian_blur_sigma=1,\n",
    "    p_percentile=0.95,\n",
    "    thresholding_soft_multiplier=0.01,\n",
    "    thresholding_type=ThresholdType.RowMax,\n",
    "    refinement_sequence=ICASSP2018_REFINEMENT_SEQUENCE)\n",
    "\n",
    "autotune = AutoTune(\n",
    "    p_percentile_min=0.60,\n",
    "    p_percentile_max=0.95,\n",
    "    init_search_step=0.01,\n",
    "    search_level=3)\n",
    "\n",
    "icassp2018_clusterer = SpectralClusterer(\n",
    "    min_clusters=2,\n",
    "    max_clusters=18,\n",
    "    autotune=None,\n",
    "    laplacian_type=None,\n",
    "    refinement_options=icassp2018_refinement_options,\n",
    "    custom_dist=\"cosine\")"
   ]
  },
  {
   "cell_type": "code",
   "execution_count": 8,
   "metadata": {},
   "outputs": [],
   "source": [
    "sequences = voxcon_test_seqs\n",
    "intervals = voxcon_test_intervals\n",
    "sample_ids = voxcon_test_audio_ids\n",
    "\n",
    "# load rttm files for metrics calculating\n",
    "rttm_path = f'{base_dir}/datasets/voxconverse/test/rttm'\n",
    "rttm_files = defaultdict(list)\n",
    "for sample_id in sample_ids:\n",
    "    rttm_files[sample_id] = os.path.join(rttm_path, sample_id + '.rttm')"
   ]
  },
  {
   "cell_type": "code",
   "execution_count": 12,
   "metadata": {},
   "outputs": [
    {
     "data": {
      "text/plain": [
       "{'correct': 68.70499999999997,\n",
       " 'confusion': 68.08999999999992,\n",
       " 'false alarm': 10.650000000000029,\n",
       " 'missed detection': 2.8749999999999716,\n",
       " 'total': 139.66999999999985,\n",
       " 'diarization error rate': 0.5843416624901555}"
      ]
     },
     "execution_count": 12,
     "metadata": {},
     "output_type": "execute_result"
    }
   ],
   "source": [
    "der"
   ]
  },
  {
   "cell_type": "code",
   "execution_count": 17,
   "metadata": {},
   "outputs": [
    {
     "data": {
      "text/plain": [
       "2.8749999999999716"
      ]
     },
     "execution_count": 17,
     "metadata": {},
     "output_type": "execute_result"
    }
   ],
   "source": [
    "der[\"missed detection\"]"
   ]
  },
  {
   "cell_type": "code",
   "execution_count": null,
   "metadata": {},
   "outputs": [
    {
     "name": "stderr",
     "output_type": "stream",
     "text": [
      "/opt/conda/lib/python3.7/site-packages/pyannote/metrics/utils.py:184: UserWarning: 'uem' was approximated by the union of 'reference' and 'hypothesis' extents.\n",
      "  \"'uem' was approximated by the union of 'reference' \"\n",
      "/opt/conda/lib/python3.7/site-packages/pyannote/metrics/utils.py:184: UserWarning: 'uem' was approximated by the union of 'reference' and 'hypothesis' extents.\n",
      "  \"'uem' was approximated by the union of 'reference' \"\n"
     ]
    },
    {
     "name": "stdout",
     "output_type": "stream",
     "text": [
      "aepyx DER = 58.4% JER = 80.0%\n",
      "aepyx DER_conf = 48.8% DER_fa = 7.6% DER_md = 2.1%\n",
      "aiqwk DER = 38.7% JER = 85.0%\n",
      "aiqwk DER_conf = 32.0% DER_fa = 5.1% DER_md = 1.5%\n"
     ]
    },
    {
     "name": "stderr",
     "output_type": "stream",
     "text": [
      "/opt/conda/lib/python3.7/site-packages/pyannote/metrics/utils.py:184: UserWarning: 'uem' was approximated by the union of 'reference' and 'hypothesis' extents.\n",
      "  \"'uem' was approximated by the union of 'reference' \"\n"
     ]
    },
    {
     "name": "stdout",
     "output_type": "stream",
     "text": [
      "bjruf DER = 32.5% JER = 43.0%\n",
      "bjruf DER_conf = 19.8% DER_fa = 2.4% DER_md = 10.3%\n"
     ]
    },
    {
     "name": "stderr",
     "output_type": "stream",
     "text": [
      "/opt/conda/lib/python3.7/site-packages/pyannote/metrics/utils.py:184: UserWarning: 'uem' was approximated by the union of 'reference' and 'hypothesis' extents.\n",
      "  \"'uem' was approximated by the union of 'reference' \"\n"
     ]
    },
    {
     "name": "stdout",
     "output_type": "stream",
     "text": [
      "bmsyn DER = 61.1% JER = 82.2%\n",
      "bmsyn DER_conf = 44.2% DER_fa = 10.1% DER_md = 6.8%\n",
      "bxcfq DER = 2.8% JER = 4.3%\n",
      "bxcfq DER_conf = 0.2% DER_fa = 0.2% DER_md = 2.5%\n"
     ]
    },
    {
     "name": "stderr",
     "output_type": "stream",
     "text": [
      "/opt/conda/lib/python3.7/site-packages/pyannote/metrics/utils.py:184: UserWarning: 'uem' was approximated by the union of 'reference' and 'hypothesis' extents.\n",
      "  \"'uem' was approximated by the union of 'reference' \"\n",
      "/opt/conda/lib/python3.7/site-packages/pyannote/metrics/utils.py:184: UserWarning: 'uem' was approximated by the union of 'reference' and 'hypothesis' extents.\n",
      "  \"'uem' was approximated by the union of 'reference' \"\n"
     ]
    },
    {
     "name": "stdout",
     "output_type": "stream",
     "text": [
      "byapz DER = 60.6% JER = 96.1%\n",
      "byapz DER_conf = 56.1% DER_fa = 3.2% DER_md = 1.3%\n"
     ]
    },
    {
     "name": "stderr",
     "output_type": "stream",
     "text": [
      "/opt/conda/lib/python3.7/site-packages/pyannote/metrics/utils.py:184: UserWarning: 'uem' was approximated by the union of 'reference' and 'hypothesis' extents.\n",
      "  \"'uem' was approximated by the union of 'reference' \"\n",
      "/opt/conda/lib/python3.7/site-packages/pyannote/metrics/utils.py:184: UserWarning: 'uem' was approximated by the union of 'reference' and 'hypothesis' extents.\n",
      "  \"'uem' was approximated by the union of 'reference' \"\n"
     ]
    },
    {
     "name": "stdout",
     "output_type": "stream",
     "text": [
      "clfcg DER = 62.5% JER = 88.4%\n",
      "clfcg DER_conf = 51.5% DER_fa = 8.6% DER_md = 2.5%\n",
      "cqfmj DER = 8.6% JER = 51.5%\n",
      "cqfmj DER_conf = 1.5% DER_fa = 2.8% DER_md = 4.3%\n"
     ]
    },
    {
     "name": "stderr",
     "output_type": "stream",
     "text": [
      "/opt/conda/lib/python3.7/site-packages/pyannote/metrics/utils.py:184: UserWarning: 'uem' was approximated by the union of 'reference' and 'hypothesis' extents.\n",
      "  \"'uem' was approximated by the union of 'reference' \"\n"
     ]
    },
    {
     "name": "stdout",
     "output_type": "stream",
     "text": [
      "crylr DER = 46.5% JER = 77.4%\n",
      "crylr DER_conf = 38.0% DER_fa = 5.8% DER_md = 2.7%\n"
     ]
    },
    {
     "name": "stderr",
     "output_type": "stream",
     "text": [
      "/opt/conda/lib/python3.7/site-packages/pyannote/metrics/utils.py:184: UserWarning: 'uem' was approximated by the union of 'reference' and 'hypothesis' extents.\n",
      "  \"'uem' was approximated by the union of 'reference' \"\n"
     ]
    },
    {
     "name": "stdout",
     "output_type": "stream",
     "text": [
      "cvofp DER = 53.2% JER = 83.6%\n",
      "cvofp DER_conf = 44.4% DER_fa = 3.0% DER_md = 5.7%\n"
     ]
    },
    {
     "name": "stderr",
     "output_type": "stream",
     "text": [
      "/opt/conda/lib/python3.7/site-packages/pyannote/metrics/utils.py:184: UserWarning: 'uem' was approximated by the union of 'reference' and 'hypothesis' extents.\n",
      "  \"'uem' was approximated by the union of 'reference' \"\n"
     ]
    },
    {
     "name": "stdout",
     "output_type": "stream",
     "text": [
      "dgvwu DER = 34.8% JER = 83.0%\n",
      "dgvwu DER_conf = 28.8% DER_fa = 1.7% DER_md = 4.3%\n",
      "dohag DER = 49.1% JER = 45.9%\n",
      "dohag DER_conf = 44.4% DER_fa = 3.3% DER_md = 1.3%\n"
     ]
    },
    {
     "name": "stderr",
     "output_type": "stream",
     "text": [
      "/opt/conda/lib/python3.7/site-packages/pyannote/metrics/utils.py:184: UserWarning: 'uem' was approximated by the union of 'reference' and 'hypothesis' extents.\n",
      "  \"'uem' was approximated by the union of 'reference' \"\n",
      "/opt/conda/lib/python3.7/site-packages/pyannote/metrics/utils.py:184: UserWarning: 'uem' was approximated by the union of 'reference' and 'hypothesis' extents.\n",
      "  \"'uem' was approximated by the union of 'reference' \"\n",
      "/opt/conda/lib/python3.7/site-packages/pyannote/metrics/utils.py:184: UserWarning: 'uem' was approximated by the union of 'reference' and 'hypothesis' extents.\n",
      "  \"'uem' was approximated by the union of 'reference' \"\n"
     ]
    },
    {
     "name": "stdout",
     "output_type": "stream",
     "text": [
      "dxbbt DER = 27.0% JER = 49.5%\n",
      "dxbbt DER_conf = 24.0% DER_fa = 1.2% DER_md = 1.9%\n",
      "dzsef DER = 10.9% JER = 48.5%\n",
      "dzsef DER_conf = 9.3% DER_fa = 1.1% DER_md = 0.5%\n"
     ]
    },
    {
     "name": "stderr",
     "output_type": "stream",
     "text": [
      "/opt/conda/lib/python3.7/site-packages/pyannote/metrics/utils.py:184: UserWarning: 'uem' was approximated by the union of 'reference' and 'hypothesis' extents.\n",
      "  \"'uem' was approximated by the union of 'reference' \"\n"
     ]
    },
    {
     "name": "stdout",
     "output_type": "stream",
     "text": [
      "eauve DER = 44.1% JER = 87.1%\n",
      "eauve DER_conf = 33.4% DER_fa = 1.8% DER_md = 8.9%\n",
      "eazeq DER = 27.3% JER = 39.3%\n",
      "eazeq DER_conf = 17.3% DER_fa = 2.8% DER_md = 7.1%\n",
      "eguui DER = 37.9% JER = 50.1%\n",
      "eguui DER_conf = 16.7% DER_fa = 0.3% DER_md = 20.9%\n"
     ]
    },
    {
     "name": "stderr",
     "output_type": "stream",
     "text": [
      "/opt/conda/lib/python3.7/site-packages/pyannote/metrics/utils.py:184: UserWarning: 'uem' was approximated by the union of 'reference' and 'hypothesis' extents.\n",
      "  \"'uem' was approximated by the union of 'reference' \"\n",
      "/opt/conda/lib/python3.7/site-packages/pyannote/metrics/utils.py:184: UserWarning: 'uem' was approximated by the union of 'reference' and 'hypothesis' extents.\n",
      "  \"'uem' was approximated by the union of 'reference' \"\n",
      "/opt/conda/lib/python3.7/site-packages/pyannote/metrics/utils.py:184: UserWarning: 'uem' was approximated by the union of 'reference' and 'hypothesis' extents.\n",
      "  \"'uem' was approximated by the union of 'reference' \"\n"
     ]
    },
    {
     "name": "stdout",
     "output_type": "stream",
     "text": [
      "epygx DER = 32.7% JER = 83.0%\n",
      "epygx DER_conf = 27.3% DER_fa = 4.9% DER_md = 0.6%\n"
     ]
    },
    {
     "name": "stderr",
     "output_type": "stream",
     "text": [
      "/opt/conda/lib/python3.7/site-packages/pyannote/metrics/utils.py:184: UserWarning: 'uem' was approximated by the union of 'reference' and 'hypothesis' extents.\n",
      "  \"'uem' was approximated by the union of 'reference' \"\n"
     ]
    },
    {
     "name": "stdout",
     "output_type": "stream",
     "text": [
      "eqsta DER = 41.8% JER = 93.2%\n",
      "eqsta DER_conf = 28.6% DER_fa = 3.3% DER_md = 9.8%\n",
      "euqef DER = 54.5% JER = 46.8%\n",
      "euqef DER_conf = 41.9% DER_fa = 8.6% DER_md = 4.0%\n"
     ]
    },
    {
     "name": "stderr",
     "output_type": "stream",
     "text": [
      "/opt/conda/lib/python3.7/site-packages/pyannote/metrics/utils.py:184: UserWarning: 'uem' was approximated by the union of 'reference' and 'hypothesis' extents.\n",
      "  \"'uem' was approximated by the union of 'reference' \"\n",
      "/opt/conda/lib/python3.7/site-packages/pyannote/metrics/utils.py:184: UserWarning: 'uem' was approximated by the union of 'reference' and 'hypothesis' extents.\n",
      "  \"'uem' was approximated by the union of 'reference' \"\n"
     ]
    },
    {
     "name": "stdout",
     "output_type": "stream",
     "text": [
      "fijfi DER = 32.8% JER = 80.2%\n",
      "fijfi DER_conf = 25.4% DER_fa = 5.1% DER_md = 2.4%\n",
      "fpfvy DER = 41.1% JER = 90.4%\n",
      "fpfvy DER_conf = 37.0% DER_fa = 2.1% DER_md = 2.1%\n"
     ]
    },
    {
     "name": "stderr",
     "output_type": "stream",
     "text": [
      "/opt/conda/lib/python3.7/site-packages/pyannote/metrics/utils.py:184: UserWarning: 'uem' was approximated by the union of 'reference' and 'hypothesis' extents.\n",
      "  \"'uem' was approximated by the union of 'reference' \"\n",
      "/opt/conda/lib/python3.7/site-packages/pyannote/metrics/utils.py:184: UserWarning: 'uem' was approximated by the union of 'reference' and 'hypothesis' extents.\n",
      "  \"'uem' was approximated by the union of 'reference' \"\n",
      "/opt/conda/lib/python3.7/site-packages/pyannote/metrics/utils.py:184: UserWarning: 'uem' was approximated by the union of 'reference' and 'hypothesis' extents.\n",
      "  \"'uem' was approximated by the union of 'reference' \"\n"
     ]
    },
    {
     "name": "stdout",
     "output_type": "stream",
     "text": [
      "fqrnu DER = 26.6% JER = 63.6%\n",
      "fqrnu DER_conf = 16.3% DER_fa = 2.6% DER_md = 7.7%\n",
      "fxnwf DER = 29.9% JER = 58.4%\n",
      "fxnwf DER_conf = 18.2% DER_fa = 5.7% DER_md = 6.0%\n"
     ]
    },
    {
     "name": "stderr",
     "output_type": "stream",
     "text": [
      "/opt/conda/lib/python3.7/site-packages/pyannote/metrics/utils.py:184: UserWarning: 'uem' was approximated by the union of 'reference' and 'hypothesis' extents.\n",
      "  \"'uem' was approximated by the union of 'reference' \"\n"
     ]
    },
    {
     "name": "stdout",
     "output_type": "stream",
     "text": [
      "fyqoe DER = 54.1% JER = 74.0%\n",
      "fyqoe DER_conf = 36.8% DER_fa = 1.6% DER_md = 15.8%\n"
     ]
    },
    {
     "name": "stderr",
     "output_type": "stream",
     "text": [
      "/opt/conda/lib/python3.7/site-packages/pyannote/metrics/utils.py:184: UserWarning: 'uem' was approximated by the union of 'reference' and 'hypothesis' extents.\n",
      "  \"'uem' was approximated by the union of 'reference' \"\n"
     ]
    },
    {
     "name": "stdout",
     "output_type": "stream",
     "text": [
      "gcfwp DER = 65.2% JER = 92.8%\n",
      "gcfwp DER_conf = 54.6% DER_fa = 10.2% DER_md = 0.4%\n"
     ]
    },
    {
     "name": "stderr",
     "output_type": "stream",
     "text": [
      "/opt/conda/lib/python3.7/site-packages/pyannote/metrics/utils.py:184: UserWarning: 'uem' was approximated by the union of 'reference' and 'hypothesis' extents.\n",
      "  \"'uem' was approximated by the union of 'reference' \"\n"
     ]
    },
    {
     "name": "stdout",
     "output_type": "stream",
     "text": [
      "gtjow DER = 13.8% JER = 19.6%\n",
      "gtjow DER_conf = 7.9% DER_fa = 1.5% DER_md = 4.4%\n"
     ]
    },
    {
     "name": "stderr",
     "output_type": "stream",
     "text": [
      "/opt/conda/lib/python3.7/site-packages/pyannote/metrics/utils.py:184: UserWarning: 'uem' was approximated by the union of 'reference' and 'hypothesis' extents.\n",
      "  \"'uem' was approximated by the union of 'reference' \"\n"
     ]
    },
    {
     "name": "stdout",
     "output_type": "stream",
     "text": [
      "gtnjb DER = 41.4% JER = 84.7%\n",
      "gtnjb DER_conf = 39.1% DER_fa = 0.9% DER_md = 1.4%\n"
     ]
    },
    {
     "name": "stderr",
     "output_type": "stream",
     "text": [
      "/opt/conda/lib/python3.7/site-packages/pyannote/metrics/utils.py:184: UserWarning: 'uem' was approximated by the union of 'reference' and 'hypothesis' extents.\n",
      "  \"'uem' was approximated by the union of 'reference' \"\n"
     ]
    },
    {
     "name": "stdout",
     "output_type": "stream",
     "text": [
      "gukoa DER = 40.7% JER = 86.9%\n",
      "gukoa DER_conf = 35.6% DER_fa = 1.6% DER_md = 3.5%\n"
     ]
    },
    {
     "name": "stderr",
     "output_type": "stream",
     "text": [
      "/opt/conda/lib/python3.7/site-packages/pyannote/metrics/utils.py:184: UserWarning: 'uem' was approximated by the union of 'reference' and 'hypothesis' extents.\n",
      "  \"'uem' was approximated by the union of 'reference' \"\n"
     ]
    },
    {
     "name": "stdout",
     "output_type": "stream",
     "text": [
      "guvqf DER = 62.4% JER = 94.9%\n",
      "guvqf DER_conf = 49.6% DER_fa = 5.7% DER_md = 7.1%\n"
     ]
    },
    {
     "name": "stderr",
     "output_type": "stream",
     "text": [
      "/opt/conda/lib/python3.7/site-packages/pyannote/metrics/utils.py:184: UserWarning: 'uem' was approximated by the union of 'reference' and 'hypothesis' extents.\n",
      "  \"'uem' was approximated by the union of 'reference' \"\n",
      "/opt/conda/lib/python3.7/site-packages/pyannote/metrics/utils.py:184: UserWarning: 'uem' was approximated by the union of 'reference' and 'hypothesis' extents.\n",
      "  \"'uem' was approximated by the union of 'reference' \"\n"
     ]
    },
    {
     "name": "stdout",
     "output_type": "stream",
     "text": [
      "gylzn DER = 2.3% JER = 2.6%\n",
      "gylzn DER_conf = 0.1% DER_fa = 1.6% DER_md = 0.7%\n",
      "gyomp DER = 44.5% JER = 76.0%\n",
      "gyomp DER_conf = 40.2% DER_fa = 3.5% DER_md = 0.8%\n"
     ]
    },
    {
     "name": "stderr",
     "output_type": "stream",
     "text": [
      "/opt/conda/lib/python3.7/site-packages/pyannote/metrics/utils.py:184: UserWarning: 'uem' was approximated by the union of 'reference' and 'hypothesis' extents.\n",
      "  \"'uem' was approximated by the union of 'reference' \"\n"
     ]
    },
    {
     "name": "stdout",
     "output_type": "stream",
     "text": [
      "hcyak DER = 35.0% JER = 85.1%\n",
      "hcyak DER_conf = 31.6% DER_fa = 1.3% DER_md = 2.1%\n"
     ]
    },
    {
     "name": "stderr",
     "output_type": "stream",
     "text": [
      "/opt/conda/lib/python3.7/site-packages/pyannote/metrics/utils.py:184: UserWarning: 'uem' was approximated by the union of 'reference' and 'hypothesis' extents.\n",
      "  \"'uem' was approximated by the union of 'reference' \"\n"
     ]
    },
    {
     "name": "stdout",
     "output_type": "stream",
     "text": [
      "heolf DER = 63.8% JER = 95.2%\n",
      "heolf DER_conf = 59.7% DER_fa = 2.8% DER_md = 1.3%\n"
     ]
    },
    {
     "name": "stderr",
     "output_type": "stream",
     "text": [
      "/opt/conda/lib/python3.7/site-packages/pyannote/metrics/utils.py:184: UserWarning: 'uem' was approximated by the union of 'reference' and 'hypothesis' extents.\n",
      "  \"'uem' was approximated by the union of 'reference' \"\n"
     ]
    },
    {
     "name": "stdout",
     "output_type": "stream",
     "text": [
      "hhepf DER = 49.8% JER = 85.6%\n",
      "hhepf DER_conf = 44.4% DER_fa = 3.2% DER_md = 2.2%\n"
     ]
    },
    {
     "name": "stderr",
     "output_type": "stream",
     "text": [
      "/opt/conda/lib/python3.7/site-packages/pyannote/metrics/utils.py:184: UserWarning: 'uem' was approximated by the union of 'reference' and 'hypothesis' extents.\n",
      "  \"'uem' was approximated by the union of 'reference' \"\n"
     ]
    },
    {
     "name": "stdout",
     "output_type": "stream",
     "text": [
      "ibrnm DER = 36.7% JER = 89.2%\n",
      "ibrnm DER_conf = 33.7% DER_fa = 2.1% DER_md = 0.9%\n"
     ]
    },
    {
     "name": "stderr",
     "output_type": "stream",
     "text": [
      "/opt/conda/lib/python3.7/site-packages/pyannote/metrics/utils.py:184: UserWarning: 'uem' was approximated by the union of 'reference' and 'hypothesis' extents.\n",
      "  \"'uem' was approximated by the union of 'reference' \"\n"
     ]
    },
    {
     "name": "stdout",
     "output_type": "stream",
     "text": [
      "ifwki DER = 9.9% JER = 11.8%\n",
      "ifwki DER_conf = 1.5% DER_fa = 1.8% DER_md = 6.6%\n"
     ]
    },
    {
     "name": "stderr",
     "output_type": "stream",
     "text": [
      "/opt/conda/lib/python3.7/site-packages/pyannote/metrics/utils.py:184: UserWarning: 'uem' was approximated by the union of 'reference' and 'hypothesis' extents.\n",
      "  \"'uem' was approximated by the union of 'reference' \"\n"
     ]
    },
    {
     "name": "stdout",
     "output_type": "stream",
     "text": [
      "iiprr DER = 36.3% JER = 82.8%\n",
      "iiprr DER_conf = 31.4% DER_fa = 3.8% DER_md = 1.0%\n"
     ]
    },
    {
     "name": "stderr",
     "output_type": "stream",
     "text": [
      "/opt/conda/lib/python3.7/site-packages/pyannote/metrics/utils.py:184: UserWarning: 'uem' was approximated by the union of 'reference' and 'hypothesis' extents.\n",
      "  \"'uem' was approximated by the union of 'reference' \"\n"
     ]
    },
    {
     "name": "stdout",
     "output_type": "stream",
     "text": [
      "ikhje DER = 18.4% JER = 82.5%\n",
      "ikhje DER_conf = 13.5% DER_fa = 0.9% DER_md = 4.0%\n"
     ]
    }
   ],
   "source": [
    "derMetric = DiarizationErrorRate(collar=0.25)\n",
    "jerMetric = JaccardErrorRate(collar=0.25)\n",
    "\n",
    "predictions = []\n",
    "\n",
    "for idx, sample_id in enumerate(sample_ids):\n",
    "    labels = icassp2018_clusterer.predict(sequences[idx])\n",
    "    \n",
    "    annotation = Annotation()\n",
    "    annotation.uri = sample_id\n",
    "    for jdx, speaker_id in enumerate(labels):\n",
    "        segment_interval = intervals[idx][jdx]\n",
    "        annotation[Segment(segment_interval[0], segment_interval[1])] = speaker_id\n",
    "    predictions.append(annotation)\n",
    "    \n",
    "    hypothesis = annotation.support(0.481)\n",
    "    reference = load_rttm(rttm_files[sample_id])[sample_id]\n",
    "    \n",
    "    der = derMetric(reference, hypothesis, detailed = True)\n",
    "    jer = jerMetric(reference, hypothesis)\n",
    "    \n",
    "    confusion = der['confusion']/der['total']\n",
    "    false_alarm = der['false alarm']/der['total']\n",
    "    missed_detection = der['missed detection']/der['total']\n",
    "    \n",
    "    print(f'{sample_id} DER = {100 * der[\"diarization error rate\"]:.1f}% JER = {100 * jer:.1f}%')\n",
    "    print(f'{sample_id} DER_conf = {100 * confusion:.1f}% DER_fa = {100 * false_alarm:.1f}% DER_md = {100 * missed_detection:.1f}%')\n",
    "\n",
    "#     rttmFile = f'{base_dir}/rttm/{}.rttm'.format(audio_id)\n",
    "#     with open(rttmFile, 'w') as writeRttmFile:\n",
    "#         joined_annotation.write_rttm(writeRttmFile)    "
   ]
  },
  {
   "cell_type": "code",
   "execution_count": 12,
   "metadata": {},
   "outputs": [
    {
     "data": {
      "image/png": "[encoded data removed]",
      "text/plain": [
       "<pyannote.core.annotation.Annotation at 0x7fcdc4293358>"
      ]
     },
     "execution_count": 12,
     "metadata": {},
     "output_type": "execute_result"
    }
   ],
   "source": [
    "reference"
   ]
  },
  {
   "cell_type": "code",
   "execution_count": 11,
   "metadata": {},
   "outputs": [],
   "source": [
    "reference = load_rttm(rttm_files[sample_id])[sample_id]"
   ]
  }
 ],
 "metadata": {
  "kernelspec": {
   "display_name": "Python 3",
   "language": "python",
   "name": "python3"
  },
  "language_info": {
   "codemirror_mode": {
    "name": "ipython",
    "version": 3
   },
   "file_extension": ".py",
   "mimetype": "text/x-python",
   "name": "python",
   "nbconvert_exporter": "python",
   "pygments_lexer": "ipython3",
   "version": "3.7.3"
  }
 },
 "nbformat": 4,
 "nbformat_minor": 2
}

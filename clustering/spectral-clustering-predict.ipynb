{
 "cells": [
  {
   "cell_type": "code",
   "execution_count": 1,
   "metadata": {},
   "outputs": [],
   "source": [
    "import os\n",
    "import numpy as np\n",
    "from collections import defaultdict\n",
    "\n",
    "base_dir = '/home/jovyan/work'\n",
    "\n",
    "# sequences of segment-level embeddings\n",
    "voxcon_test_seqs = np.load(f'{base_dir}/sequences/fixed-voxcon-test-sequences.npy', allow_pickle=True).tolist()\n",
    "voxsrc21_seqs = np.load(f'{base_dir}/sequences/voxsrc21-sequences.npy', allow_pickle=True).tolist()\n",
    "\n",
    "# segments intervals, for creating resulting RTTM and calculating DER and JER\n",
    "voxcon_test_intervals = np.load(f'{base_dir}/sequences/fixed-voxcon-test-intervals.npy', allow_pickle=True).tolist()\n",
    "voxsrc21_intervals = np.load(f'{base_dir}/sequences/voxsrc21-intervals.npy', allow_pickle=True).tolist()\n",
    "\n",
    "# ids sorted by processing order (regarding to seqs and interval clusters)\n",
    "voxcon_test_audio_ids = [\"aepyx\",\"aiqwk\",\"bjruf\",\"bmsyn\",\"bxcfq\",\"byapz\",\"clfcg\",\"cqfmj\",\"crylr\",\"cvofp\",\"dgvwu\",\"dohag\",\"dxbbt\",\"dzsef\",\"eauve\",\"eazeq\",\"eguui\",\"epygx\",\"eqsta\",\"euqef\",\"fijfi\",\"fpfvy\",\"fqrnu\",\"fxnwf\",\"fyqoe\",\"gcfwp\",\"gtjow\",\"gtnjb\",\"gukoa\",\"guvqf\",\"gylzn\",\"gyomp\",\"hcyak\",\"heolf\",\"hhepf\",\"ibrnm\",\"ifwki\",\"iiprr\",\"ikhje\",\"jdrwl\",\"jjkrt\",\"jjvkx\",\"jrfaz\",\"jsbdo\",\"jttar\",\"jxpom\",\"jzkzt\",\"kajfh\",\"kmunk\",\"kpjud\",\"ktvto\",\"kvkje\",\"lbfnx\",\"ledhe\",\"lilfy\",\"ljpes\",\"lkikz\",\"lpola\",\"lscfc\",\"ltgmz\",\"lubpm\",\"luobn\",\"mjmgr\",\"msbyq\",\"mupzb\",\"myjoe\",\"nlvdr\",\"nprxc\",\"ocfop\",\"ofbxh\",\"olzkb\",\"ooxlj\",\"oqwpd\",\"otmpf\",\"ouvtt\",\"poucc\",\"ppexo\",\"pwnsw\",\"qadia\",\"qeejz\",\"qlrry\",\"qwepo\",\"rarij\",\"rmvsh\",\"rxulz\",\"sebyw\",\"sexgc\",\"sfdvy\",\"svxzm\",\"tkybe\",\"tpslg\",\"uedkc\",\"uqxlg\",\"usqam\",\"vncid\",\"vylyk\",\"vzuru\",\"wdvva\",\"wemos\",\"wprog\",\"wwzsk\",\"xggbk\",\"xkgos\",\"xlyov\",\"xmyyy\",\"xqxkt\",\"xtdcl\",\"xtzoq\",\"xvxwv\",\"ybhwz\",\"ylzez\",\"ytmef\",\"yukhy\",\"yzvon\",\"zedtj\",\"zfzlc\",\"zowse\",\"zqidv\",\"zztbo\",\"ralnu\",\"uicid\",\"laoyl\",\"jxydp\",\"pzxit\",\"upshw\",\"gfneh\",\"kzmyi\",\"nkqzr\",\"kgjaa\",\"dkabn\",\"eucfa\",\"erslt\",\"mclsr\",\"fzwtp\",\"dzxut\",\"pkwrt\",\"gmmwm\",\"leneg\",\"sxqvt\",\"pgtkk\",\"fuzfh\",\"vtzqw\",\"rsypp\",\"qxana\",\"optsn\",\"dxokr\",\"ptses\",\"isxwc\",\"gzhwb\",\"mhwyr\",\"duvox\",\"ezxso\",\"jgiyq\",\"rpkso\",\"kmjvh\",\"wcxfk\",\"gcvrb\",\"eddje\",\"pccww\",\"vuewy\",\"tvtoe\",\"oubab\",\"jwggf\",\"aggyz\",\"bidnq\",\"neiye\",\"mkhie\",\"iowob\",\"jbowg\",\"gwloo\",\"uevxo\",\"nitgx\",\"eoyaz\",\"qoarn\",\"mxdpo\",\"auzru\",\"diysk\",\"cwbvu\",\"jeymh\",\"iacod\",\"cawnd\",\"vgaez\",\"bgvvt\",\"tiido\",\"aorju\",\"qajyo\",\"ryken\",\"iabca\",\"tkhgs\",\"tbjqx\",\"mqtep\",\"fowhl\",\"fvhrk\",\"nqcpi\",\"mbzht\",\"uhfrw\",\"utial\",\"cpebh\",\"tnjoh\",\"jsymf\",\"vgevv\",\"mxduo\",\"gkiki\",\"bvyvm\",\"hqhrb\",\"isrps\",\"nqyqm\",\"dlast\",\"pxqme\",\"bpzsc\",\"vdlvr\",\"lhuly\",\"crorm\",\"bvqnu\",\"tpnyf\",\"thnuq\",\"swbnm\",\"cadba\",\"sbrmv\",\"wibky\",\"wlfsf\",\"wwvcs\",\"xffsa\",\"xkmqx\",\"xlsme\",\"ygrip\",\"ylgug\",\"ytula\",\"zehzu\",\"zsgto\",\"zzsba\",\"zzyyo\"]\n",
    "voxsrc21_audio_ids = [\"tpine\", \"huqpy\", \"uzsvq\", \"pirso\", \"npnyp\", \"jsatj\", \"kuunx\", \"klbrr\", \"ecugo\", \"dwtow\", \"lhbqr\", \"zfipy\", \"wsobx\", \"jxkah\", \"hjvtj\", \"dpbgj\", \"phcxl\", \"uddju\", \"hufrz\", \"fibgq\", \"ahrcr\", \"cnbhz\", \"ahpuj\", \"biypq\", \"taukp\", \"iwvbh\", \"zobzz\", \"chvgo\", \"zsngo\", \"ixbvn\", \"ruwbp\", \"dufvn\", \"hajxp\", \"ohjjf\", \"veada\", \"zfzwt\", \"aqlrr\", \"qvroz\", \"cqfbd\", \"hzttx\", \"jrxnz\", \"gcccl\", \"qgzvk\", \"ieaoq\", \"jwezt\", \"ovxrk\", \"oitjh\", \"xivtm\", \"rnmrp\", \"euhwq\", \"iflmj\", \"hffvn\", \"eoxkf\", \"ycycy\", \"fwjhb\", \"yhntc\", \"ersxa\", \"afhlm\", \"uhpjz\", \"saenk\", \"oszsp\", \"zkmgn\", \"cgjuc\", \"vofje\", \"ajjmr\", \"mkbjy\", \"cxrjf\", \"jbirg\", \"hmnyo\", \"mknge\", \"xahab\", \"svnoe\", \"iucho\", \"uwgqx\", \"sfjjj\", \"rymcy\", \"rycwr\", \"fdtlj\", \"ewkei\", \"pojyu\", \"vrgwd\", \"bfwgq\", \"goots\", \"mrbme\", \"nzoid\", \"cehwp\", \"uosun\", \"pzrcf\", \"kpecv\", \"pwutv\", \"ipszk\", \"ktmre\", \"bylqb\", \"mrgru\", \"osrss\", \"ftajg\", \"xairp\", \"whibh\", \"xmkio\", \"rvyug\", \"tealt\", \"ezptn\", \"kpihx\", \"ubthy\", \"njuto\", \"komgz\", \"ahcuo\", \"lcowh\", \"vuqbp\", \"wnoyw\", \"zliuj\", \"dvofo\", \"yhivq\", \"xvaqn\", \"ixcig\", \"zauxp\", \"nzonc\", \"rvrlo\", \"xesmw\", \"mylgb\", \"askiw\", \"nsibk\", \"quinj\", \"swpjb\", \"fsfdw\", \"kcoeu\", \"eeivl\", \"tuczd\", \"jjbsx\", \"ytvbn\", \"dwsdu\",\"fseqv\", \"zjrun\", \"pqifp\", \"aqind\", \"enrur\", \"vtdos\", \"ymvrw\", \"welcq\", \"wazie\", \"ssbra\", \"kxzac\", \"tcwva\", \"epbjz\", \"hkfjg\", \"bwpth\", \"cnwba\", \"vghwm\", \"usxym\", \"yyldd\", \"govov\", \"ueoss\", \"ivmhq\", \"gsigu\", \"sotzc\", \"ebixn\", \"zhcic\", \"ckivy\", \"tldnh\", \"hiukp\", \"lvrse\", \"sdpur\", \"ubitk\", \"reljk\", \"hfzhn\", \"axabh\", \"bmldz\", \"ujdjd\", \"kgzrb\", \"msnqr\", \"syucd\", \"ognux\", \"ahorw\", \"ifafa\", \"bpbon\", \"yywxf\", \"qezbm\", \"sljce\", \"nttgg\", \"uupjc\", \"gukfd\", \"hexbr\", \"jnoor\", \"rfyhi\", \"pbocz\", \"eqalx\", \"tpfau\", \"aoehz\", \"hmkzx\", \"zdymj\", \"qxezs\", \"irswh\", \"zktli\", \"dkpkx\", \"cqhil\", \"kxjyn\", \"rjpos\", \"kqlln\", \"vqzkm\", \"jucfh\", \"wjwes\", \"mebni\", \"ubogn\", \"obsbu\", \"dsuiy\", \"fmtir\", \"alpmg\", \"sndtu\", \"tkxsz\", \"qnuxe\", \"ctjzs\", \"uelsx\", \"xwaec\", \"bzlts\", \"fftup\", \"fqpdh\", \"ffcio\", \"wofgd\", \"oiyjs\", \"avvvz\", \"tbedi\", \"zyjfv\", \"bgkus\", \"linoq\", \"ptctn\", \"fhjbj\", \"wmhps\", \"lceba\", \"msswz\", \"rxldb\", \"lqvix\", \"vwgph\", \"zsgyz\", \"anojt\", \"lwxbp\", \"slldp\", \"jpjcy\", \"xpewn\", \"bamsl\", \"qmsgw\", \"wayap\", \"eizev\", \"nbema\", \"sqtvn\", \"oewsu\", \"rjdar\", \"rjmds\", \"vwftp\", \"ckeyp\", \"fcghr\", \"jfkiy\", \"ogkch\", \"iadsf\", \"jrnnn\", \"vjkrd\", \"brxew\", \"uyykg\", \"xikii\", \"zskbo\", \"xmezt\", \"kygkd\", \"rpjuz\", \"bmria\", \"eumxr\"]"
   ]
  },
  {
   "cell_type": "code",
   "execution_count": 2,
   "metadata": {},
   "outputs": [],
   "source": [
    "from spectralcluster import SpectralClusterer\n",
    "from spectralcluster import RefinementOptions, refinement\n",
    "from spectralcluster import ThresholdType, AutoTune\n",
    "from spectralcluster import ICASSP2018_REFINEMENT_SEQUENCE\n",
    "from spectralcluster import configs\n",
    "\n",
    "from pyannote.core import Annotation, Segment\n",
    "from pyannote.database.util import load_rttm\n",
    "from pyannote.metrics.diarization import DiarizationErrorRate, JaccardErrorRate\n",
    "\n",
    "# Configurations that are closest to the ICASSP2018 paper\n",
    "# \"Speaker Diarization with LSTM\".\n",
    "RefinementName = refinement.RefinementName\n",
    "\n",
    "ICASSP2018_REFINEMENT_SEQUENCE = [\n",
    "    RefinementName.CropDiagonal,\n",
    "    RefinementName.GaussianBlur,\n",
    "    RefinementName.RowWiseThreshold,\n",
    "    RefinementName.Symmetrize,\n",
    "    RefinementName.Diffuse,\n",
    "    RefinementName.RowWiseNormalize,\n",
    "]\n",
    "\n",
    "icassp2018_refinement_options = RefinementOptions(\n",
    "    gaussian_blur_sigma=1,\n",
    "    p_percentile=0.95,\n",
    "    thresholding_soft_multiplier=0.01,\n",
    "    thresholding_type=ThresholdType.RowMax,\n",
    "    refinement_sequence=ICASSP2018_REFINEMENT_SEQUENCE)\n",
    "\n",
    "autotune = AutoTune(\n",
    "    p_percentile_min=0.60,\n",
    "    p_percentile_max=0.95,\n",
    "    init_search_step=0.01,\n",
    "    search_level=3)\n",
    "\n",
    "icassp2018_clusterer = SpectralClusterer(\n",
    "    min_clusters=2,\n",
    "    max_clusters=18,\n",
    "    autotune=None,\n",
    "    laplacian_type=None,\n",
    "    refinement_options=icassp2018_refinement_options,\n",
    "    custom_dist=\"cosine\")"
   ]
  },
  {
   "cell_type": "markdown",
   "metadata": {},
   "source": [
    "## Define sequences and its respective intervals"
   ]
  },
  {
   "cell_type": "code",
   "execution_count": 3,
   "metadata": {},
   "outputs": [],
   "source": [
    "sequences = voxcon_test_seqs\n",
    "intervals = voxcon_test_intervals\n",
    "sample_ids = voxcon_test_audio_ids\n",
    "\n",
    "# load rttm files for metrics calculating\n",
    "rttm_path = f'{base_dir}/datasets/voxconverse/test/rttm'\n",
    "rttm_files = defaultdict(list)\n",
    "for sample_id in sample_ids:\n",
    "    rttm_files[sample_id] = os.path.join(rttm_path, sample_id + '.rttm')"
   ]
  },
  {
   "cell_type": "markdown",
   "metadata": {},
   "source": [
    "## Cluster a single sequence"
   ]
  },
  {
   "cell_type": "code",
   "execution_count": 8,
   "metadata": {},
   "outputs": [],
   "source": [
    "idx = 4\n",
    "sample_id = sample_ids[idx]"
   ]
  },
  {
   "cell_type": "code",
   "execution_count": 11,
   "metadata": {},
   "outputs": [
    {
     "data": {
      "image/png": "[encoded data removed]",
      "text/plain": [
       "<pyannote.core.annotation.Annotation at 0x7fc36536e5f8>"
      ]
     },
     "execution_count": 11,
     "metadata": {},
     "output_type": "execute_result"
    }
   ],
   "source": [
    "# labels = icassp2018_clusterer.predict(sequences[idx])\n",
    "labels = configs.icassp2018_clusterer.predict(sequences[idx])\n",
    "\n",
    "\n",
    "annotation = Annotation()\n",
    "annotation.uri = sample_id\n",
    "for jdx, speaker_id in enumerate(labels):\n",
    "    segment_interval = intervals[idx][jdx]\n",
    "    annotation[Segment(segment_interval[0], segment_interval[1])] = speaker_id\n",
    "\n",
    "hypothesis = annotation.support()\n",
    "hypothesis"
   ]
  },
  {
   "cell_type": "code",
   "execution_count": 12,
   "metadata": {},
   "outputs": [
    {
     "data": {
      "image/png": "[encoded data removed]",
      "text/plain": [
       "<pyannote.core.annotation.Annotation at 0x7fc36819c5f8>"
      ]
     },
     "execution_count": 12,
     "metadata": {},
     "output_type": "execute_result"
    }
   ],
   "source": [
    "reference = load_rttm(rttm_files[sample_id])[sample_id]\n",
    "reference"
   ]
  },
  {
   "cell_type": "code",
   "execution_count": 13,
   "metadata": {},
   "outputs": [
    {
     "name": "stdout",
     "output_type": "stream",
     "text": [
      "bxcfq DER = 4.5% JER = 6.6%\n",
      "bxcfq DER_conf = 0.3% DER_fa = 0.0% DER_md = 4.2%\n"
     ]
    },
    {
     "name": "stderr",
     "output_type": "stream",
     "text": [
      "/opt/conda/lib/python3.7/site-packages/pyannote/metrics/utils.py:184: UserWarning: 'uem' was approximated by the union of 'reference' and 'hypothesis' extents.\n",
      "  \"'uem' was approximated by the union of 'reference' \"\n"
     ]
    }
   ],
   "source": [
    "der = derMetric(reference, hypothesis, detailed = True)\n",
    "jer = jerMetric(reference, hypothesis)\n",
    "\n",
    "confusion = der['confusion']/der['total']\n",
    "false_alarm = der['false alarm']/der['total']\n",
    "missed_detection = der['missed detection']/der['total']\n",
    "\n",
    "print(f'{sample_id} DER = {100 * der[\"diarization error rate\"]:.1f}% JER = {100 * jer:.1f}%')\n",
    "print(f'{sample_id} DER_conf = {100 * confusion:.1f}% DER_fa = {100 * false_alarm:.1f}% DER_md = {100 * missed_detection:.1f}%')"
   ]
  },
  {
   "cell_type": "markdown",
   "metadata": {},
   "source": [
    "## Cluster all sequences"
   ]
  },
  {
   "cell_type": "code",
   "execution_count": null,
   "metadata": {},
   "outputs": [],
   "source": [
    "derMetric = DiarizationErrorRate(collar=0.25)\n",
    "jerMetric = JaccardErrorRate(collar=0.25)\n",
    "\n",
    "predictions = []\n",
    "\n",
    "for idx, sample_id in enumerate(sample_ids):\n",
    "    labels = icassp2018_clusterer.predict(sequences[idx])\n",
    "    \n",
    "    annotation = Annotation()\n",
    "    annotation.uri = sample_id\n",
    "    for jdx, speaker_id in enumerate(labels):\n",
    "        segment_interval = intervals[idx][jdx]\n",
    "        annotation[Segment(segment_interval[0], segment_interval[1])] = speaker_id\n",
    "    predictions.append(annotation)\n",
    "    \n",
    "    hypothesis = annotation.support()\n",
    "    reference = load_rttm(rttm_files[sample_id])[sample_id]\n",
    "    \n",
    "    der = derMetric(reference, hypothesis, detailed = True)\n",
    "    jer = jerMetric(reference, hypothesis)\n",
    "    \n",
    "    confusion = der['confusion']/der['total']\n",
    "    false_alarm = der['false alarm']/der['total']\n",
    "    missed_detection = der['missed detection']/der['total']\n",
    "    \n",
    "    print(f'{sample_id} DER = {100 * der[\"diarization error rate\"]:.1f}% JER = {100 * jer:.1f}%')\n",
    "    print(f'{sample_id} DER_conf = {100 * confusion:.1f}% DER_fa = {100 * false_alarm:.1f}% DER_md = {100 * missed_detection:.1f}%')\n",
    "\n",
    "#     rttmFile = f'{base_dir}/rttm/{}.rttm'.format(audio_id)\n",
    "#     with open(rttmFile, 'w') as writeRttmFile:\n",
    "#         joined_annotation.write_rttm(writeRttmFile)    "
   ]
  },
  {
   "cell_type": "code",
   "execution_count": null,
   "metadata": {},
   "outputs": [],
   "source": [
    "reference"
   ]
  },
  {
   "cell_type": "code",
   "execution_count": null,
   "metadata": {},
   "outputs": [],
   "source": [
    "reference = load_rttm(rttm_files[sample_id])[sample_id]"
   ]
  }
 ],
 "metadata": {
  "kernelspec": {
   "display_name": "Python 3",
   "language": "python",
   "name": "python3"
  },
  "language_info": {
   "codemirror_mode": {
    "name": "ipython",
    "version": 3
   },
   "file_extension": ".py",
   "mimetype": "text/x-python",
   "name": "python",
   "nbconvert_exporter": "python",
   "pygments_lexer": "ipython3",
   "version": "3.7.3"
  }
 },
 "nbformat": 4,
 "nbformat_minor": 2
}

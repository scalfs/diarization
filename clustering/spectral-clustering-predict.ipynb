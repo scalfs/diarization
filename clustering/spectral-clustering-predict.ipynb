{
 "cells": [
  {
   "cell_type": "code",
   "execution_count": 1,
   "metadata": {},
   "outputs": [],
   "source": [
    "import os\n",
    "import numpy as np\n",
    "from collections import defaultdict\n",
    "import librosa\n",
    "\n",
    "base_dir = '/home/jovyan/work'\n",
    "\n",
    "# sequences of segment-level embeddings\n",
    "voxcon_test_seqs = np.load(f'{base_dir}/sequences/fixed-voxcon-test-sequences.npy', allow_pickle=True).tolist()\n",
    "# voxsrc21_seqs = np.load(f'{base_dir}/sequences/voxsrc21-sequences.npy', allow_pickle=True).tolist()\n",
    "\n",
    "# segments intervals, for creating resulting RTTM and calculating DER and JER\n",
    "voxcon_test_intervals = np.load(f'{base_dir}/sequences/fixed-voxcon-test-intervals.npy', allow_pickle=True).tolist()\n",
    "# voxsrc21_intervals = np.load(f'{base_dir}/sequences/voxsrc21-intervals.npy', allow_pickle=True).tolist()\n",
    "\n",
    "# ids sorted by processing order (regarding to seqs and interval clusters)\n",
    "voxcon_test_audio_ids = [\"aepyx\",\"aiqwk\",\"bjruf\",\"bmsyn\",\"bxcfq\",\"byapz\",\"clfcg\",\"cqfmj\",\"crylr\",\"cvofp\",\"dgvwu\",\"dohag\",\"dxbbt\",\"dzsef\",\"eauve\",\"eazeq\",\"eguui\",\"epygx\",\"eqsta\",\"euqef\",\"fijfi\",\"fpfvy\",\"fqrnu\",\"fxnwf\",\"fyqoe\",\"gcfwp\",\"gtjow\",\"gtnjb\",\"gukoa\",\"guvqf\",\"gylzn\",\"gyomp\",\"hcyak\",\"heolf\",\"hhepf\",\"ibrnm\",\"ifwki\",\"iiprr\",\"ikhje\",\"jdrwl\",\"jjkrt\",\"jjvkx\",\"jrfaz\",\"jsbdo\",\"jttar\",\"jxpom\",\"jzkzt\",\"kajfh\",\"kmunk\",\"kpjud\",\"ktvto\",\"kvkje\",\"lbfnx\",\"ledhe\",\"lilfy\",\"ljpes\",\"lkikz\",\"lpola\",\"lscfc\",\"ltgmz\",\"lubpm\",\"luobn\",\"mjmgr\",\"msbyq\",\"mupzb\",\"myjoe\",\"nlvdr\",\"nprxc\",\"ocfop\",\"ofbxh\",\"olzkb\",\"ooxlj\",\"oqwpd\",\"otmpf\",\"ouvtt\",\"poucc\",\"ppexo\",\"pwnsw\",\"qadia\",\"qeejz\",\"qlrry\",\"qwepo\",\"rarij\",\"rmvsh\",\"rxulz\",\"sebyw\",\"sexgc\",\"sfdvy\",\"svxzm\",\"tkybe\",\"tpslg\",\"uedkc\",\"uqxlg\",\"usqam\",\"vncid\",\"vylyk\",\"vzuru\",\"wdvva\",\"wemos\",\"wprog\",\"wwzsk\",\"xggbk\",\"xkgos\",\"xlyov\",\"xmyyy\",\"xqxkt\",\"xtdcl\",\"xtzoq\",\"xvxwv\",\"ybhwz\",\"ylzez\",\"ytmef\",\"yukhy\",\"yzvon\",\"zedtj\",\"zfzlc\",\"zowse\",\"zqidv\",\"zztbo\",\"ralnu\",\"uicid\",\"laoyl\",\"jxydp\",\"pzxit\",\"upshw\",\"gfneh\",\"kzmyi\",\"nkqzr\",\"kgjaa\",\"dkabn\",\"eucfa\",\"erslt\",\"mclsr\",\"fzwtp\",\"dzxut\",\"pkwrt\",\"gmmwm\",\"leneg\",\"sxqvt\",\"pgtkk\",\"fuzfh\",\"vtzqw\",\"rsypp\",\"qxana\",\"optsn\",\"dxokr\",\"ptses\",\"isxwc\",\"gzhwb\",\"mhwyr\",\"duvox\",\"ezxso\",\"jgiyq\",\"rpkso\",\"kmjvh\",\"wcxfk\",\"gcvrb\",\"eddje\",\"pccww\",\"vuewy\",\"tvtoe\",\"oubab\",\"jwggf\",\"aggyz\",\"bidnq\",\"neiye\",\"mkhie\",\"iowob\",\"jbowg\",\"gwloo\",\"uevxo\",\"nitgx\",\"eoyaz\",\"qoarn\",\"mxdpo\",\"auzru\",\"diysk\",\"cwbvu\",\"jeymh\",\"iacod\",\"cawnd\",\"vgaez\",\"bgvvt\",\"tiido\",\"aorju\",\"qajyo\",\"ryken\",\"iabca\",\"tkhgs\",\"tbjqx\",\"mqtep\",\"fowhl\",\"fvhrk\",\"nqcpi\",\"mbzht\",\"uhfrw\",\"utial\",\"cpebh\",\"tnjoh\",\"jsymf\",\"vgevv\",\"mxduo\",\"gkiki\",\"bvyvm\",\"hqhrb\",\"isrps\",\"nqyqm\",\"dlast\",\"pxqme\",\"bpzsc\",\"vdlvr\",\"lhuly\",\"crorm\",\"bvqnu\",\"tpnyf\",\"thnuq\",\"swbnm\",\"cadba\",\"sbrmv\",\"wibky\",\"wlfsf\",\"wwvcs\",\"xffsa\",\"xkmqx\",\"xlsme\",\"ygrip\",\"ylgug\",\"ytula\",\"zehzu\",\"zsgto\",\"zzsba\",\"zzyyo\"]\n",
    "voxsrc21_audio_ids = [\"tpine\", \"huqpy\", \"uzsvq\", \"pirso\", \"npnyp\", \"jsatj\", \"kuunx\", \"klbrr\", \"ecugo\", \"dwtow\", \"lhbqr\", \"zfipy\", \"wsobx\", \"jxkah\", \"hjvtj\", \"dpbgj\", \"phcxl\", \"uddju\", \"hufrz\", \"fibgq\", \"ahrcr\", \"cnbhz\", \"ahpuj\", \"biypq\", \"taukp\", \"iwvbh\", \"zobzz\", \"chvgo\", \"zsngo\", \"ixbvn\", \"ruwbp\", \"dufvn\", \"hajxp\", \"ohjjf\", \"veada\", \"zfzwt\", \"aqlrr\", \"qvroz\", \"cqfbd\", \"hzttx\", \"jrxnz\", \"gcccl\", \"qgzvk\", \"ieaoq\", \"jwezt\", \"ovxrk\", \"oitjh\", \"xivtm\", \"rnmrp\", \"euhwq\", \"iflmj\", \"hffvn\", \"eoxkf\", \"ycycy\", \"fwjhb\", \"yhntc\", \"ersxa\", \"afhlm\", \"uhpjz\", \"saenk\", \"oszsp\", \"zkmgn\", \"cgjuc\", \"vofje\", \"ajjmr\", \"mkbjy\", \"cxrjf\", \"jbirg\", \"hmnyo\", \"mknge\", \"xahab\", \"svnoe\", \"iucho\", \"uwgqx\", \"sfjjj\", \"rymcy\", \"rycwr\", \"fdtlj\", \"ewkei\", \"pojyu\", \"vrgwd\", \"bfwgq\", \"goots\", \"mrbme\", \"nzoid\", \"cehwp\", \"uosun\", \"pzrcf\", \"kpecv\", \"pwutv\", \"ipszk\", \"ktmre\", \"bylqb\", \"mrgru\", \"osrss\", \"ftajg\", \"xairp\", \"whibh\", \"xmkio\", \"rvyug\", \"tealt\", \"ezptn\", \"kpihx\", \"ubthy\", \"njuto\", \"komgz\", \"ahcuo\", \"lcowh\", \"vuqbp\", \"wnoyw\", \"zliuj\", \"dvofo\", \"yhivq\", \"xvaqn\", \"ixcig\", \"zauxp\", \"nzonc\", \"rvrlo\", \"xesmw\", \"mylgb\", \"askiw\", \"nsibk\", \"quinj\", \"swpjb\", \"fsfdw\", \"kcoeu\", \"eeivl\", \"tuczd\", \"jjbsx\", \"ytvbn\", \"dwsdu\",\"fseqv\", \"zjrun\", \"pqifp\", \"aqind\", \"enrur\", \"vtdos\", \"ymvrw\", \"welcq\", \"wazie\", \"ssbra\", \"kxzac\", \"tcwva\", \"epbjz\", \"hkfjg\", \"bwpth\", \"cnwba\", \"vghwm\", \"usxym\", \"yyldd\", \"govov\", \"ueoss\", \"ivmhq\", \"gsigu\", \"sotzc\", \"ebixn\", \"zhcic\", \"ckivy\", \"tldnh\", \"hiukp\", \"lvrse\", \"sdpur\", \"ubitk\", \"reljk\", \"hfzhn\", \"axabh\", \"bmldz\", \"ujdjd\", \"kgzrb\", \"msnqr\", \"syucd\", \"ognux\", \"ahorw\", \"ifafa\", \"bpbon\", \"yywxf\", \"qezbm\", \"sljce\", \"nttgg\", \"uupjc\", \"gukfd\", \"hexbr\", \"jnoor\", \"rfyhi\", \"pbocz\", \"eqalx\", \"tpfau\", \"aoehz\", \"hmkzx\", \"zdymj\", \"qxezs\", \"irswh\", \"zktli\", \"dkpkx\", \"cqhil\", \"kxjyn\", \"rjpos\", \"kqlln\", \"vqzkm\", \"jucfh\", \"wjwes\", \"mebni\", \"ubogn\", \"obsbu\", \"dsuiy\", \"fmtir\", \"alpmg\", \"sndtu\", \"tkxsz\", \"qnuxe\", \"ctjzs\", \"uelsx\", \"xwaec\", \"bzlts\", \"fftup\", \"fqpdh\", \"ffcio\", \"wofgd\", \"oiyjs\", \"avvvz\", \"tbedi\", \"zyjfv\", \"bgkus\", \"linoq\", \"ptctn\", \"fhjbj\", \"wmhps\", \"lceba\", \"msswz\", \"rxldb\", \"lqvix\", \"vwgph\", \"zsgyz\", \"anojt\", \"lwxbp\", \"slldp\", \"jpjcy\", \"xpewn\", \"bamsl\", \"qmsgw\", \"wayap\", \"eizev\", \"nbema\", \"sqtvn\", \"oewsu\", \"rjdar\", \"rjmds\", \"vwftp\", \"ckeyp\", \"fcghr\", \"jfkiy\", \"ogkch\", \"iadsf\", \"jrnnn\", \"vjkrd\", \"brxew\", \"uyykg\", \"xikii\", \"zskbo\", \"xmezt\", \"kygkd\", \"rpjuz\", \"bmria\", \"eumxr\"]"
   ]
  },
  {
   "cell_type": "code",
   "execution_count": 2,
   "metadata": {},
   "outputs": [],
   "source": [
    "from spectralcluster import SpectralClusterer\n",
    "from spectralcluster import RefinementOptions, refinement\n",
    "from spectralcluster import ThresholdType, AutoTune\n",
    "from spectralcluster import ICASSP2018_REFINEMENT_SEQUENCE\n",
    "from spectralcluster import configs\n",
    "\n",
    "from pyannote.core import Annotation, Segment\n",
    "from pyannote.database.util import load_rttm\n",
    "from pyannote.metrics.diarization import DiarizationErrorRate, JaccardErrorRate\n",
    "\n",
    "# Configurations that are closest to the ICASSP2018 paper\n",
    "# \"Speaker Diarization with LSTM\".\n",
    "RefinementName = refinement.RefinementName\n",
    "\n",
    "ICASSP2018_REFINEMENT_SEQUENCE = [\n",
    "    RefinementName.CropDiagonal,\n",
    "    RefinementName.GaussianBlur,\n",
    "    RefinementName.RowWiseThreshold,\n",
    "    RefinementName.Symmetrize,\n",
    "    RefinementName.Diffuse,\n",
    "    RefinementName.RowWiseNormalize,\n",
    "]\n",
    "\n",
    "icassp2018_refinement_options = RefinementOptions(\n",
    "    gaussian_blur_sigma=1,\n",
    "    p_percentile=0.95,\n",
    "    thresholding_soft_multiplier=0.01,\n",
    "    thresholding_type=ThresholdType.RowMax,\n",
    "    refinement_sequence=ICASSP2018_REFINEMENT_SEQUENCE)\n",
    "\n",
    "autotune = AutoTune(\n",
    "    p_percentile_min=0.60,\n",
    "    p_percentile_max=0.95,\n",
    "    init_search_step=0.01,\n",
    "    search_level=3)\n",
    "\n",
    "icassp2018_clusterer = SpectralClusterer(\n",
    "    min_clusters=2,\n",
    "    max_clusters=18,\n",
    "    autotune=None,\n",
    "    laplacian_type=None,\n",
    "    refinement_options=icassp2018_refinement_options,\n",
    "    custom_dist=\"cosine\")"
   ]
  },
  {
   "cell_type": "markdown",
   "metadata": {},
   "source": [
    "## Define sequences and its respective intervals"
   ]
  },
  {
   "cell_type": "code",
   "execution_count": 3,
   "metadata": {},
   "outputs": [],
   "source": [
    "sequences = voxcon_test_seqs\n",
    "intervals = voxcon_test_intervals\n",
    "sample_ids = voxcon_test_audio_ids\n",
    "\n",
    "# load rttm files for metrics calculating\n",
    "rttm_path = f'{base_dir}/datasets/voxconverse/test/rttm'\n",
    "rttm_files = defaultdict(list)\n",
    "for sample_id in sample_ids:\n",
    "    rttm_files[sample_id] = os.path.join(rttm_path, sample_id + '.rttm')"
   ]
  },
  {
   "cell_type": "markdown",
   "metadata": {},
   "source": [
    "## Cluster a single sequence"
   ]
  },
  {
   "cell_type": "code",
   "execution_count": 4,
   "metadata": {},
   "outputs": [],
   "source": [
    "idx = 259\n",
    "sample_id = sample_ids[idx]"
   ]
  },
  {
   "cell_type": "code",
   "execution_count": 7,
   "metadata": {},
   "outputs": [
    {
     "data": {
      "image/png": "[encoded data removed]",
      "text/plain": [
       "<pyannote.core.annotation.Annotation at 0x7f5a10530978>"
      ]
     },
     "execution_count": 7,
     "metadata": {},
     "output_type": "execute_result"
    }
   ],
   "source": [
    "# labels = icassp2018_clusterer.predict(sequences[idx])\n",
    "labels = configs.icassp2018_clusterer.predict(sequences[idx])\n",
    "\n",
    "\n",
    "annotation = Annotation()\n",
    "annotation.uri = sample_id\n",
    "for jdx, speaker_id in enumerate(labels):\n",
    "    segment_interval = intervals[idx][jdx]\n",
    "    annotation[Segment(segment_interval[0], segment_interval[1])] = speaker_id\n",
    "\n",
    "hypothesis = annotation.support()\n",
    "hypothesis"
   ]
  },
  {
   "cell_type": "code",
   "execution_count": null,
   "metadata": {},
   "outputs": [],
   "source": [
    "reference = load_rttm(rttm_files[sample_id])[sample_id]\n",
    "reference"
   ]
  },
  {
   "cell_type": "code",
   "execution_count": 13,
   "metadata": {},
   "outputs": [
    {
     "name": "stdout",
     "output_type": "stream",
     "text": [
      "bxcfq DER = 4.5% JER = 6.6%\n",
      "bxcfq DER_conf = 0.3% DER_fa = 0.0% DER_md = 4.2%\n"
     ]
    },
    {
     "name": "stderr",
     "output_type": "stream",
     "text": [
      "/opt/conda/lib/python3.7/site-packages/pyannote/metrics/utils.py:184: UserWarning: 'uem' was approximated by the union of 'reference' and 'hypothesis' extents.\n",
      "  \"'uem' was approximated by the union of 'reference' \"\n"
     ]
    }
   ],
   "source": [
    "der = derMetric(reference, hypothesis, detailed = True)\n",
    "jer = jerMetric(reference, hypothesis)\n",
    "\n",
    "confusion = der['confusion']/der['total']\n",
    "false_alarm = der['false alarm']/der['total']\n",
    "missed_detection = der['missed detection']/der['total']\n",
    "\n",
    "print(f'{sample_id} DER = {100 * der[\"diarization error rate\"]:.1f}% JER = {100 * jer:.1f}%')\n",
    "print(f'{sample_id} DER_conf = {100 * confusion:.1f}% DER_fa = {100 * false_alarm:.1f}% DER_md = {100 * missed_detection:.1f}%')"
   ]
  },
  {
   "cell_type": "markdown",
   "metadata": {},
   "source": [
    "## Cluster all sequences"
   ]
  },
  {
   "cell_type": "code",
   "execution_count": 4,
   "metadata": {},
   "outputs": [
    {
     "name": "stderr",
     "output_type": "stream",
     "text": [
      "/opt/conda/lib/python3.7/site-packages/pyannote/metrics/utils.py:184: UserWarning: 'uem' was approximated by the union of 'reference' and 'hypothesis' extents.\n",
      "  \"'uem' was approximated by the union of 'reference' \"\n"
     ]
    },
    {
     "name": "stdout",
     "output_type": "stream",
     "text": [
      "aepyx Speakers: (truth) 4 vs 2 (prediction)\n",
      "DER = 55.8% JER = 79.9%\n",
      "DER_conf = 48.4% DER_fa = 4.1% DER_md = 3.3%\n"
     ]
    },
    {
     "name": "stderr",
     "output_type": "stream",
     "text": [
      "/opt/conda/lib/python3.7/site-packages/pyannote/metrics/utils.py:184: UserWarning: 'uem' was approximated by the union of 'reference' and 'hypothesis' extents.\n",
      "  \"'uem' was approximated by the union of 'reference' \"\n"
     ]
    },
    {
     "name": "stdout",
     "output_type": "stream",
     "text": [
      "aiqwk Speakers: (truth) 8 vs 2 (prediction)\n",
      "DER = 38.3% JER = 85.1%\n",
      "DER_conf = 31.9% DER_fa = 3.7% DER_md = 2.6%\n"
     ]
    },
    {
     "name": "stderr",
     "output_type": "stream",
     "text": [
      "/opt/conda/lib/python3.7/site-packages/pyannote/metrics/utils.py:184: UserWarning: 'uem' was approximated by the union of 'reference' and 'hypothesis' extents.\n",
      "  \"'uem' was approximated by the union of 'reference' \"\n"
     ]
    },
    {
     "name": "stdout",
     "output_type": "stream",
     "text": [
      "bjruf Speakers: (truth) 2 vs 2 (prediction)\n",
      "DER = 32.2% JER = 43.4%\n",
      "DER_conf = 20.2% DER_fa = 0.9% DER_md = 11.1%\n"
     ]
    },
    {
     "name": "stderr",
     "output_type": "stream",
     "text": [
      "/opt/conda/lib/python3.7/site-packages/pyannote/metrics/utils.py:184: UserWarning: 'uem' was approximated by the union of 'reference' and 'hypothesis' extents.\n",
      "  \"'uem' was approximated by the union of 'reference' \"\n"
     ]
    },
    {
     "name": "stdout",
     "output_type": "stream",
     "text": [
      "bmsyn Speakers: (truth) 5 vs 2 (prediction)\n",
      "DER = 59.3% JER = 82.0%\n",
      "DER_conf = 43.9% DER_fa = 7.6% DER_md = 7.8%\n"
     ]
    },
    {
     "name": "stderr",
     "output_type": "stream",
     "text": [
      "/opt/conda/lib/python3.7/site-packages/pyannote/metrics/utils.py:184: UserWarning: 'uem' was approximated by the union of 'reference' and 'hypothesis' extents.\n",
      "  \"'uem' was approximated by the union of 'reference' \"\n"
     ]
    },
    {
     "name": "stdout",
     "output_type": "stream",
     "text": [
      "bxcfq Speakers: (truth) 2 vs 2 (prediction)\n",
      "DER = 4.5% JER = 6.6%\n",
      "DER_conf = 0.3% DER_fa = 0.0% DER_md = 4.2%\n"
     ]
    },
    {
     "name": "stderr",
     "output_type": "stream",
     "text": [
      "/opt/conda/lib/python3.7/site-packages/pyannote/metrics/utils.py:184: UserWarning: 'uem' was approximated by the union of 'reference' and 'hypothesis' extents.\n",
      "  \"'uem' was approximated by the union of 'reference' \"\n"
     ]
    },
    {
     "name": "stdout",
     "output_type": "stream",
     "text": [
      "byapz Speakers: (truth) 15 vs 2 (prediction)\n",
      "DER = 59.6% JER = 96.1%\n",
      "DER_conf = 55.8% DER_fa = 1.7% DER_md = 2.0%\n"
     ]
    },
    {
     "name": "stderr",
     "output_type": "stream",
     "text": [
      "/opt/conda/lib/python3.7/site-packages/pyannote/metrics/utils.py:184: UserWarning: 'uem' was approximated by the union of 'reference' and 'hypothesis' extents.\n",
      "  \"'uem' was approximated by the union of 'reference' \"\n"
     ]
    },
    {
     "name": "stdout",
     "output_type": "stream",
     "text": [
      "clfcg Speakers: (truth) 9 vs 2 (prediction)\n",
      "DER = 61.8% JER = 88.7%\n",
      "DER_conf = 51.7% DER_fa = 6.8% DER_md = 3.3%\n"
     ]
    },
    {
     "name": "stderr",
     "output_type": "stream",
     "text": [
      "/opt/conda/lib/python3.7/site-packages/pyannote/metrics/utils.py:184: UserWarning: 'uem' was approximated by the union of 'reference' and 'hypothesis' extents.\n",
      "  \"'uem' was approximated by the union of 'reference' \"\n"
     ]
    },
    {
     "name": "stdout",
     "output_type": "stream",
     "text": [
      "cqfmj Speakers: (truth) 4 vs 2 (prediction)\n",
      "DER = 8.6% JER = 51.9%\n",
      "DER_conf = 1.5% DER_fa = 2.3% DER_md = 4.8%\n"
     ]
    },
    {
     "name": "stderr",
     "output_type": "stream",
     "text": [
      "/opt/conda/lib/python3.7/site-packages/pyannote/metrics/utils.py:184: UserWarning: 'uem' was approximated by the union of 'reference' and 'hypothesis' extents.\n",
      "  \"'uem' was approximated by the union of 'reference' \"\n"
     ]
    },
    {
     "name": "stdout",
     "output_type": "stream",
     "text": [
      "crylr Speakers: (truth) 4 vs 2 (prediction)\n",
      "DER = 44.3% JER = 77.1%\n",
      "DER_conf = 38.3% DER_fa = 3.4% DER_md = 2.7%\n"
     ]
    },
    {
     "name": "stderr",
     "output_type": "stream",
     "text": [
      "/opt/conda/lib/python3.7/site-packages/pyannote/metrics/utils.py:184: UserWarning: 'uem' was approximated by the union of 'reference' and 'hypothesis' extents.\n",
      "  \"'uem' was approximated by the union of 'reference' \"\n"
     ]
    },
    {
     "name": "stdout",
     "output_type": "stream",
     "text": [
      "cvofp Speakers: (truth) 6 vs 2 (prediction)\n",
      "DER = 53.7% JER = 83.8%\n",
      "DER_conf = 43.9% DER_fa = 2.3% DER_md = 7.5%\n"
     ]
    },
    {
     "name": "stderr",
     "output_type": "stream",
     "text": [
      "/opt/conda/lib/python3.7/site-packages/pyannote/metrics/utils.py:184: UserWarning: 'uem' was approximated by the union of 'reference' and 'hypothesis' extents.\n",
      "  \"'uem' was approximated by the union of 'reference' \"\n"
     ]
    },
    {
     "name": "stdout",
     "output_type": "stream",
     "text": [
      "dgvwu Speakers: (truth) 11 vs 3 (prediction)\n",
      "DER = 35.1% JER = 83.2%\n",
      "DER_conf = 28.8% DER_fa = 1.1% DER_md = 5.2%\n",
      "dohag Speakers: (truth) 1 vs 2 (prediction)\n",
      "DER = 49.0% JER = 48.9%\n",
      "DER_conf = 43.7% DER_fa = 0.2% DER_md = 5.0%\n"
     ]
    },
    {
     "name": "stderr",
     "output_type": "stream",
     "text": [
      "/opt/conda/lib/python3.7/site-packages/pyannote/metrics/utils.py:184: UserWarning: 'uem' was approximated by the union of 'reference' and 'hypothesis' extents.\n",
      "  \"'uem' was approximated by the union of 'reference' \"\n",
      "/opt/conda/lib/python3.7/site-packages/pyannote/metrics/utils.py:184: UserWarning: 'uem' was approximated by the union of 'reference' and 'hypothesis' extents.\n",
      "  \"'uem' was approximated by the union of 'reference' \"\n"
     ]
    },
    {
     "name": "stdout",
     "output_type": "stream",
     "text": [
      "dxbbt Speakers: (truth) 3 vs 2 (prediction)\n",
      "DER = 27.0% JER = 49.6%\n",
      "DER_conf = 24.0% DER_fa = 0.8% DER_md = 2.3%\n"
     ]
    },
    {
     "name": "stderr",
     "output_type": "stream",
     "text": [
      "/opt/conda/lib/python3.7/site-packages/pyannote/metrics/utils.py:184: UserWarning: 'uem' was approximated by the union of 'reference' and 'hypothesis' extents.\n",
      "  \"'uem' was approximated by the union of 'reference' \"\n"
     ]
    },
    {
     "name": "stdout",
     "output_type": "stream",
     "text": [
      "dzsef Speakers: (truth) 3 vs 2 (prediction)\n",
      "DER = 10.1% JER = 48.0%\n",
      "DER_conf = 9.3% DER_fa = 0.1% DER_md = 0.7%\n"
     ]
    },
    {
     "name": "stderr",
     "output_type": "stream",
     "text": [
      "/opt/conda/lib/python3.7/site-packages/pyannote/metrics/utils.py:184: UserWarning: 'uem' was approximated by the union of 'reference' and 'hypothesis' extents.\n",
      "  \"'uem' was approximated by the union of 'reference' \"\n"
     ]
    },
    {
     "name": "stdout",
     "output_type": "stream",
     "text": [
      "eauve Speakers: (truth) 7 vs 2 (prediction)\n",
      "DER = 43.4% JER = 87.2%\n",
      "DER_conf = 34.0% DER_fa = 0.4% DER_md = 9.0%\n",
      "eazeq Speakers: (truth) 2 vs 2 (prediction)\n",
      "DER = 27.2% JER = 39.4%\n",
      "DER_conf = 17.3% DER_fa = 2.3% DER_md = 7.6%\n"
     ]
    },
    {
     "name": "stderr",
     "output_type": "stream",
     "text": [
      "/opt/conda/lib/python3.7/site-packages/pyannote/metrics/utils.py:184: UserWarning: 'uem' was approximated by the union of 'reference' and 'hypothesis' extents.\n",
      "  \"'uem' was approximated by the union of 'reference' \"\n",
      "/opt/conda/lib/python3.7/site-packages/pyannote/metrics/utils.py:184: UserWarning: 'uem' was approximated by the union of 'reference' and 'hypothesis' extents.\n",
      "  \"'uem' was approximated by the union of 'reference' \"\n"
     ]
    },
    {
     "name": "stdout",
     "output_type": "stream",
     "text": [
      "eguui Speakers: (truth) 3 vs 3 (prediction)\n",
      "DER = 38.2% JER = 50.3%\n",
      "DER_conf = 16.7% DER_fa = 0.3% DER_md = 21.2%\n"
     ]
    },
    {
     "name": "stderr",
     "output_type": "stream",
     "text": [
      "/opt/conda/lib/python3.7/site-packages/pyannote/metrics/utils.py:184: UserWarning: 'uem' was approximated by the union of 'reference' and 'hypothesis' extents.\n",
      "  \"'uem' was approximated by the union of 'reference' \"\n"
     ]
    },
    {
     "name": "stdout",
     "output_type": "stream",
     "text": [
      "epygx Speakers: (truth) 8 vs 2 (prediction)\n",
      "DER = 31.6% JER = 82.9%\n",
      "DER_conf = 27.2% DER_fa = 2.8% DER_md = 1.6%\n"
     ]
    },
    {
     "name": "stderr",
     "output_type": "stream",
     "text": [
      "/opt/conda/lib/python3.7/site-packages/pyannote/metrics/utils.py:184: UserWarning: 'uem' was approximated by the union of 'reference' and 'hypothesis' extents.\n",
      "  \"'uem' was approximated by the union of 'reference' \"\n"
     ]
    },
    {
     "name": "stdout",
     "output_type": "stream",
     "text": [
      "eqsta Speakers: (truth) 15 vs 2 (prediction)\n",
      "DER = 41.2% JER = 93.2%\n",
      "DER_conf = 29.1% DER_fa = 1.9% DER_md = 10.2%\n",
      "euqef Speakers: (truth) 1 vs 2 (prediction)\n",
      "DER = 53.0% JER = 52.1%\n",
      "DER_conf = 47.3% DER_fa = 1.7% DER_md = 4.0%\n"
     ]
    },
    {
     "name": "stderr",
     "output_type": "stream",
     "text": [
      "/opt/conda/lib/python3.7/site-packages/pyannote/metrics/utils.py:184: UserWarning: 'uem' was approximated by the union of 'reference' and 'hypothesis' extents.\n",
      "  \"'uem' was approximated by the union of 'reference' \"\n",
      "/opt/conda/lib/python3.7/site-packages/pyannote/metrics/utils.py:184: UserWarning: 'uem' was approximated by the union of 'reference' and 'hypothesis' extents.\n",
      "  \"'uem' was approximated by the union of 'reference' \"\n"
     ]
    },
    {
     "name": "stdout",
     "output_type": "stream",
     "text": [
      "fijfi Speakers: (truth) 6 vs 2 (prediction)\n",
      "DER = 31.9% JER = 80.3%\n",
      "DER_conf = 25.9% DER_fa = 2.9% DER_md = 3.1%\n"
     ]
    },
    {
     "name": "stderr",
     "output_type": "stream",
     "text": [
      "/opt/conda/lib/python3.7/site-packages/pyannote/metrics/utils.py:184: UserWarning: 'uem' was approximated by the union of 'reference' and 'hypothesis' extents.\n",
      "  \"'uem' was approximated by the union of 'reference' \"\n"
     ]
    },
    {
     "name": "stdout",
     "output_type": "stream",
     "text": [
      "fpfvy Speakers: (truth) 11 vs 2 (prediction)\n",
      "DER = 40.9% JER = 90.4%\n",
      "DER_conf = 37.0% DER_fa = 1.8% DER_md = 2.1%\n"
     ]
    },
    {
     "name": "stderr",
     "output_type": "stream",
     "text": [
      "/opt/conda/lib/python3.7/site-packages/pyannote/metrics/utils.py:184: UserWarning: 'uem' was approximated by the union of 'reference' and 'hypothesis' extents.\n",
      "  \"'uem' was approximated by the union of 'reference' \"\n"
     ]
    },
    {
     "name": "stdout",
     "output_type": "stream",
     "text": [
      "fqrnu Speakers: (truth) 4 vs 2 (prediction)\n",
      "DER = 26.2% JER = 63.6%\n",
      "DER_conf = 16.3% DER_fa = 1.5% DER_md = 8.4%\n"
     ]
    },
    {
     "name": "stderr",
     "output_type": "stream",
     "text": [
      "/opt/conda/lib/python3.7/site-packages/pyannote/metrics/utils.py:184: UserWarning: 'uem' was approximated by the union of 'reference' and 'hypothesis' extents.\n",
      "  \"'uem' was approximated by the union of 'reference' \"\n"
     ]
    },
    {
     "name": "stdout",
     "output_type": "stream",
     "text": [
      "fxnwf Speakers: (truth) 3 vs 2 (prediction)\n",
      "DER = 30.0% JER = 58.7%\n",
      "DER_conf = 18.4% DER_fa = 4.8% DER_md = 6.8%\n"
     ]
    },
    {
     "name": "stderr",
     "output_type": "stream",
     "text": [
      "/opt/conda/lib/python3.7/site-packages/pyannote/metrics/utils.py:184: UserWarning: 'uem' was approximated by the union of 'reference' and 'hypothesis' extents.\n",
      "  \"'uem' was approximated by the union of 'reference' \"\n"
     ]
    },
    {
     "name": "stdout",
     "output_type": "stream",
     "text": [
      "fyqoe Speakers: (truth) 3 vs 2 (prediction)\n",
      "DER = 53.5% JER = 74.2%\n",
      "DER_conf = 37.1% DER_fa = 0.2% DER_md = 16.2%\n"
     ]
    },
    {
     "name": "stderr",
     "output_type": "stream",
     "text": [
      "/opt/conda/lib/python3.7/site-packages/pyannote/metrics/utils.py:184: UserWarning: 'uem' was approximated by the union of 'reference' and 'hypothesis' extents.\n",
      "  \"'uem' was approximated by the union of 'reference' \"\n"
     ]
    },
    {
     "name": "stdout",
     "output_type": "stream",
     "text": [
      "gcfwp Speakers: (truth) 8 vs 2 (prediction)\n",
      "DER = 63.3% JER = 92.8%\n",
      "DER_conf = 54.7% DER_fa = 7.7% DER_md = 0.9%\n"
     ]
    },
    {
     "name": "stderr",
     "output_type": "stream",
     "text": [
      "/opt/conda/lib/python3.7/site-packages/pyannote/metrics/utils.py:184: UserWarning: 'uem' was approximated by the union of 'reference' and 'hypothesis' extents.\n",
      "  \"'uem' was approximated by the union of 'reference' \"\n"
     ]
    },
    {
     "name": "stdout",
     "output_type": "stream",
     "text": [
      "gtjow Speakers: (truth) 4 vs 4 (prediction)\n",
      "DER = 16.1% JER = 22.4%\n",
      "DER_conf = 8.6% DER_fa = 0.7% DER_md = 6.8%\n"
     ]
    },
    {
     "name": "stderr",
     "output_type": "stream",
     "text": [
      "/opt/conda/lib/python3.7/site-packages/pyannote/metrics/utils.py:184: UserWarning: 'uem' was approximated by the union of 'reference' and 'hypothesis' extents.\n",
      "  \"'uem' was approximated by the union of 'reference' \"\n"
     ]
    },
    {
     "name": "stdout",
     "output_type": "stream",
     "text": [
      "gtnjb Speakers: (truth) 14 vs 3 (prediction)\n",
      "DER = 41.4% JER = 84.9%\n",
      "DER_conf = 39.1% DER_fa = 0.3% DER_md = 2.0%\n"
     ]
    },
    {
     "name": "stderr",
     "output_type": "stream",
     "text": [
      "/opt/conda/lib/python3.7/site-packages/pyannote/metrics/utils.py:184: UserWarning: 'uem' was approximated by the union of 'reference' and 'hypothesis' extents.\n",
      "  \"'uem' was approximated by the union of 'reference' \"\n"
     ]
    },
    {
     "name": "stdout",
     "output_type": "stream",
     "text": [
      "gukoa Speakers: (truth) 11 vs 2 (prediction)\n",
      "DER = 41.4% JER = 87.2%\n",
      "DER_conf = 35.4% DER_fa = 1.6% DER_md = 4.4%\n"
     ]
    },
    {
     "name": "stderr",
     "output_type": "stream",
     "text": [
      "/opt/conda/lib/python3.7/site-packages/pyannote/metrics/utils.py:184: UserWarning: 'uem' was approximated by the union of 'reference' and 'hypothesis' extents.\n",
      "  \"'uem' was approximated by the union of 'reference' \"\n"
     ]
    },
    {
     "name": "stdout",
     "output_type": "stream",
     "text": [
      "guvqf Speakers: (truth) 11 vs 2 (prediction)\n",
      "DER = 61.6% JER = 95.2%\n",
      "DER_conf = 49.7% DER_fa = 4.2% DER_md = 7.7%\n"
     ]
    },
    {
     "name": "stderr",
     "output_type": "stream",
     "text": [
      "/opt/conda/lib/python3.7/site-packages/pyannote/metrics/utils.py:184: UserWarning: 'uem' was approximated by the union of 'reference' and 'hypothesis' extents.\n",
      "  \"'uem' was approximated by the union of 'reference' \"\n",
      "/opt/conda/lib/python3.7/site-packages/pyannote/metrics/utils.py:184: UserWarning: 'uem' was approximated by the union of 'reference' and 'hypothesis' extents.\n",
      "  \"'uem' was approximated by the union of 'reference' \"\n"
     ]
    },
    {
     "name": "stdout",
     "output_type": "stream",
     "text": [
      "gylzn Speakers: (truth) 2 vs 2 (prediction)\n",
      "DER = 4.3% JER = 4.7%\n",
      "DER_conf = 0.2% DER_fa = 1.4% DER_md = 2.8%\n",
      "gyomp Speakers: (truth) 5 vs 2 (prediction)\n",
      "DER = 44.1% JER = 75.9%\n",
      "DER_conf = 40.2% DER_fa = 3.0% DER_md = 0.8%\n"
     ]
    },
    {
     "name": "stderr",
     "output_type": "stream",
     "text": [
      "/opt/conda/lib/python3.7/site-packages/pyannote/metrics/utils.py:184: UserWarning: 'uem' was approximated by the union of 'reference' and 'hypothesis' extents.\n",
      "  \"'uem' was approximated by the union of 'reference' \"\n"
     ]
    },
    {
     "name": "stdout",
     "output_type": "stream",
     "text": [
      "hcyak Speakers: (truth) 8 vs 2 (prediction)\n",
      "DER = 35.1% JER = 85.2%\n",
      "DER_conf = 31.5% DER_fa = 0.8% DER_md = 2.7%\n"
     ]
    },
    {
     "name": "stderr",
     "output_type": "stream",
     "text": [
      "/opt/conda/lib/python3.7/site-packages/pyannote/metrics/utils.py:184: UserWarning: 'uem' was approximated by the union of 'reference' and 'hypothesis' extents.\n",
      "  \"'uem' was approximated by the union of 'reference' \"\n"
     ]
    },
    {
     "name": "stdout",
     "output_type": "stream",
     "text": [
      "heolf Speakers: (truth) 12 vs 2 (prediction)\n",
      "DER = 63.1% JER = 95.2%\n",
      "DER_conf = 59.3% DER_fa = 1.5% DER_md = 2.4%\n"
     ]
    },
    {
     "name": "stderr",
     "output_type": "stream",
     "text": [
      "/opt/conda/lib/python3.7/site-packages/pyannote/metrics/utils.py:184: UserWarning: 'uem' was approximated by the union of 'reference' and 'hypothesis' extents.\n",
      "  \"'uem' was approximated by the union of 'reference' \"\n"
     ]
    },
    {
     "name": "stdout",
     "output_type": "stream",
     "text": [
      "hhepf Speakers: (truth) 7 vs 2 (prediction)\n",
      "DER = 49.5% JER = 85.8%\n",
      "DER_conf = 44.6% DER_fa = 1.7% DER_md = 3.2%\n"
     ]
    },
    {
     "name": "stderr",
     "output_type": "stream",
     "text": [
      "/opt/conda/lib/python3.7/site-packages/pyannote/metrics/utils.py:184: UserWarning: 'uem' was approximated by the union of 'reference' and 'hypothesis' extents.\n",
      "  \"'uem' was approximated by the union of 'reference' \"\n"
     ]
    },
    {
     "name": "stdout",
     "output_type": "stream",
     "text": [
      "ibrnm Speakers: (truth) 12 vs 2 (prediction)\n",
      "DER = 36.5% JER = 89.3%\n",
      "DER_conf = 33.5% DER_fa = 1.1% DER_md = 1.9%\n"
     ]
    },
    {
     "name": "stderr",
     "output_type": "stream",
     "text": [
      "/opt/conda/lib/python3.7/site-packages/pyannote/metrics/utils.py:184: UserWarning: 'uem' was approximated by the union of 'reference' and 'hypothesis' extents.\n",
      "  \"'uem' was approximated by the union of 'reference' \"\n"
     ]
    },
    {
     "name": "stdout",
     "output_type": "stream",
     "text": [
      "ifwki Speakers: (truth) 2 vs 2 (prediction)\n",
      "DER = 10.1% JER = 12.5%\n",
      "DER_conf = 1.6% DER_fa = 1.3% DER_md = 7.3%\n"
     ]
    },
    {
     "name": "stderr",
     "output_type": "stream",
     "text": [
      "/opt/conda/lib/python3.7/site-packages/pyannote/metrics/utils.py:184: UserWarning: 'uem' was approximated by the union of 'reference' and 'hypothesis' extents.\n",
      "  \"'uem' was approximated by the union of 'reference' \"\n"
     ]
    },
    {
     "name": "stdout",
     "output_type": "stream",
     "text": [
      "iiprr Speakers: (truth) 7 vs 2 (prediction)\n",
      "DER = 36.1% JER = 83.0%\n",
      "DER_conf = 31.4% DER_fa = 2.5% DER_md = 2.2%\n"
     ]
    },
    {
     "name": "stderr",
     "output_type": "stream",
     "text": [
      "/opt/conda/lib/python3.7/site-packages/pyannote/metrics/utils.py:184: UserWarning: 'uem' was approximated by the union of 'reference' and 'hypothesis' extents.\n",
      "  \"'uem' was approximated by the union of 'reference' \"\n"
     ]
    },
    {
     "name": "stdout",
     "output_type": "stream",
     "text": [
      "ikhje Speakers: (truth) 9 vs 2 (prediction)\n",
      "DER = 18.6% JER = 82.5%\n",
      "DER_conf = 13.5% DER_fa = 0.7% DER_md = 4.4%\n"
     ]
    },
    {
     "name": "stderr",
     "output_type": "stream",
     "text": [
      "/opt/conda/lib/python3.7/site-packages/pyannote/metrics/utils.py:184: UserWarning: 'uem' was approximated by the union of 'reference' and 'hypothesis' extents.\n",
      "  \"'uem' was approximated by the union of 'reference' \"\n"
     ]
    },
    {
     "name": "stdout",
     "output_type": "stream",
     "text": [
      "jdrwl Speakers: (truth) 7 vs 2 (prediction)\n",
      "DER = 55.5% JER = 83.0%\n",
      "DER_conf = 50.9% DER_fa = 0.5% DER_md = 4.1%\n"
     ]
    },
    {
     "name": "stderr",
     "output_type": "stream",
     "text": [
      "/opt/conda/lib/python3.7/site-packages/pyannote/metrics/utils.py:184: UserWarning: 'uem' was approximated by the union of 'reference' and 'hypothesis' extents.\n",
      "  \"'uem' was approximated by the union of 'reference' \"\n"
     ]
    },
    {
     "name": "stdout",
     "output_type": "stream",
     "text": [
      "jjkrt Speakers: (truth) 6 vs 2 (prediction)\n",
      "DER = 51.1% JER = 88.3%\n",
      "DER_conf = 44.0% DER_fa = 1.2% DER_md = 5.9%\n"
     ]
    },
    {
     "name": "stderr",
     "output_type": "stream",
     "text": [
      "/opt/conda/lib/python3.7/site-packages/pyannote/metrics/utils.py:184: UserWarning: 'uem' was approximated by the union of 'reference' and 'hypothesis' extents.\n",
      "  \"'uem' was approximated by the union of 'reference' \"\n"
     ]
    },
    {
     "name": "stdout",
     "output_type": "stream",
     "text": [
      "jjvkx Speakers: (truth) 6 vs 2 (prediction)\n",
      "DER = 58.9% JER = 86.3%\n",
      "DER_conf = 57.7% DER_fa = 0.3% DER_md = 0.9%\n"
     ]
    },
    {
     "name": "stderr",
     "output_type": "stream",
     "text": [
      "/opt/conda/lib/python3.7/site-packages/pyannote/metrics/utils.py:184: UserWarning: 'uem' was approximated by the union of 'reference' and 'hypothesis' extents.\n",
      "  \"'uem' was approximated by the union of 'reference' \"\n"
     ]
    },
    {
     "name": "stdout",
     "output_type": "stream",
     "text": [
      "jrfaz Speakers: (truth) 9 vs 2 (prediction)\n",
      "DER = 70.6% JER = 92.9%\n",
      "DER_conf = 58.1% DER_fa = 1.1% DER_md = 11.4%\n"
     ]
    },
    {
     "name": "stderr",
     "output_type": "stream",
     "text": [
      "/opt/conda/lib/python3.7/site-packages/pyannote/metrics/utils.py:184: UserWarning: 'uem' was approximated by the union of 'reference' and 'hypothesis' extents.\n",
      "  \"'uem' was approximated by the union of 'reference' \"\n"
     ]
    },
    {
     "name": "stdout",
     "output_type": "stream",
     "text": [
      "jsbdo Speakers: (truth) 7 vs 2 (prediction)\n",
      "DER = 22.6% JER = 79.5%\n",
      "DER_conf = 15.1% DER_fa = 1.2% DER_md = 6.4%\n"
     ]
    },
    {
     "name": "stderr",
     "output_type": "stream",
     "text": [
      "/opt/conda/lib/python3.7/site-packages/pyannote/metrics/utils.py:184: UserWarning: 'uem' was approximated by the union of 'reference' and 'hypothesis' extents.\n",
      "  \"'uem' was approximated by the union of 'reference' \"\n"
     ]
    },
    {
     "name": "stdout",
     "output_type": "stream",
     "text": [
      "jttar Speakers: (truth) 7 vs 2 (prediction)\n",
      "DER = 40.6% JER = 91.3%\n",
      "DER_conf = 39.4% DER_fa = 0.9% DER_md = 0.3%\n"
     ]
    },
    {
     "name": "stderr",
     "output_type": "stream",
     "text": [
      "/opt/conda/lib/python3.7/site-packages/pyannote/metrics/utils.py:184: UserWarning: 'uem' was approximated by the union of 'reference' and 'hypothesis' extents.\n",
      "  \"'uem' was approximated by the union of 'reference' \"\n"
     ]
    },
    {
     "name": "stdout",
     "output_type": "stream",
     "text": [
      "jxpom Speakers: (truth) 7 vs 2 (prediction)\n",
      "DER = 49.9% JER = 89.4%\n",
      "DER_conf = 38.9% DER_fa = 1.9% DER_md = 9.1%\n"
     ]
    },
    {
     "name": "stderr",
     "output_type": "stream",
     "text": [
      "/opt/conda/lib/python3.7/site-packages/pyannote/metrics/utils.py:184: UserWarning: 'uem' was approximated by the union of 'reference' and 'hypothesis' extents.\n",
      "  \"'uem' was approximated by the union of 'reference' \"\n"
     ]
    },
    {
     "name": "stdout",
     "output_type": "stream",
     "text": [
      "jzkzt Speakers: (truth) 11 vs 2 (prediction)\n",
      "DER = 47.6% JER = 92.7%\n",
      "DER_conf = 38.5% DER_fa = 2.3% DER_md = 6.9%\n"
     ]
    },
    {
     "name": "stderr",
     "output_type": "stream",
     "text": [
      "/opt/conda/lib/python3.7/site-packages/pyannote/metrics/utils.py:184: UserWarning: 'uem' was approximated by the union of 'reference' and 'hypothesis' extents.\n",
      "  \"'uem' was approximated by the union of 'reference' \"\n"
     ]
    },
    {
     "name": "stdout",
     "output_type": "stream",
     "text": [
      "kajfh Speakers: (truth) 15 vs 2 (prediction)\n",
      "DER = 57.4% JER = 94.0%\n",
      "DER_conf = 49.5% DER_fa = 3.1% DER_md = 4.7%\n"
     ]
    },
    {
     "name": "stderr",
     "output_type": "stream",
     "text": [
      "/opt/conda/lib/python3.7/site-packages/pyannote/metrics/utils.py:184: UserWarning: 'uem' was approximated by the union of 'reference' and 'hypothesis' extents.\n",
      "  \"'uem' was approximated by the union of 'reference' \"\n"
     ]
    },
    {
     "name": "stdout",
     "output_type": "stream",
     "text": [
      "kmunk Speakers: (truth) 2 vs 2 (prediction)\n",
      "DER = 7.0% JER = 8.0%\n",
      "DER_conf = 1.3% DER_fa = 2.3% DER_md = 3.4%\n"
     ]
    },
    {
     "name": "stderr",
     "output_type": "stream",
     "text": [
      "/opt/conda/lib/python3.7/site-packages/pyannote/metrics/utils.py:184: UserWarning: 'uem' was approximated by the union of 'reference' and 'hypothesis' extents.\n",
      "  \"'uem' was approximated by the union of 'reference' \"\n"
     ]
    },
    {
     "name": "stdout",
     "output_type": "stream",
     "text": [
      "kpjud Speakers: (truth) 9 vs 2 (prediction)\n",
      "DER = 53.0% JER = 87.8%\n",
      "DER_conf = 45.3% DER_fa = 0.5% DER_md = 7.1%\n"
     ]
    },
    {
     "name": "stderr",
     "output_type": "stream",
     "text": [
      "/opt/conda/lib/python3.7/site-packages/pyannote/metrics/utils.py:184: UserWarning: 'uem' was approximated by the union of 'reference' and 'hypothesis' extents.\n",
      "  \"'uem' was approximated by the union of 'reference' \"\n"
     ]
    },
    {
     "name": "stdout",
     "output_type": "stream",
     "text": [
      "ktvto Speakers: (truth) 9 vs 2 (prediction)\n",
      "DER = 39.6% JER = 89.1%\n",
      "DER_conf = 33.3% DER_fa = 1.4% DER_md = 4.9%\n"
     ]
    },
    {
     "name": "stderr",
     "output_type": "stream",
     "text": [
      "/opt/conda/lib/python3.7/site-packages/pyannote/metrics/utils.py:184: UserWarning: 'uem' was approximated by the union of 'reference' and 'hypothesis' extents.\n",
      "  \"'uem' was approximated by the union of 'reference' \"\n"
     ]
    },
    {
     "name": "stdout",
     "output_type": "stream",
     "text": [
      "kvkje Speakers: (truth) 8 vs 2 (prediction)\n",
      "DER = 68.1% JER = 90.4%\n",
      "DER_conf = 63.2% DER_fa = 4.2% DER_md = 0.7%\n"
     ]
    },
    {
     "name": "stderr",
     "output_type": "stream",
     "text": [
      "/opt/conda/lib/python3.7/site-packages/pyannote/metrics/utils.py:184: UserWarning: 'uem' was approximated by the union of 'reference' and 'hypothesis' extents.\n",
      "  \"'uem' was approximated by the union of 'reference' \"\n"
     ]
    },
    {
     "name": "stdout",
     "output_type": "stream",
     "text": [
      "lbfnx Speakers: (truth) 15 vs 2 (prediction)\n",
      "DER = 60.6% JER = 94.7%\n",
      "DER_conf = 55.2% DER_fa = 2.0% DER_md = 3.4%\n"
     ]
    },
    {
     "name": "stderr",
     "output_type": "stream",
     "text": [
      "/opt/conda/lib/python3.7/site-packages/pyannote/metrics/utils.py:184: UserWarning: 'uem' was approximated by the union of 'reference' and 'hypothesis' extents.\n",
      "  \"'uem' was approximated by the union of 'reference' \"\n"
     ]
    },
    {
     "name": "stdout",
     "output_type": "stream",
     "text": [
      "ledhe Speakers: (truth) 3 vs 2 (prediction)\n",
      "DER = 12.5% JER = 43.8%\n",
      "DER_conf = 5.4% DER_fa = 1.0% DER_md = 6.1%\n"
     ]
    },
    {
     "name": "stderr",
     "output_type": "stream",
     "text": [
      "/opt/conda/lib/python3.7/site-packages/pyannote/metrics/utils.py:184: UserWarning: 'uem' was approximated by the union of 'reference' and 'hypothesis' extents.\n",
      "  \"'uem' was approximated by the union of 'reference' \"\n"
     ]
    },
    {
     "name": "stdout",
     "output_type": "stream",
     "text": [
      "lilfy Speakers: (truth) 5 vs 2 (prediction)\n",
      "DER = 49.8% JER = 83.7%\n",
      "DER_conf = 47.2% DER_fa = 1.9% DER_md = 0.8%\n"
     ]
    },
    {
     "name": "stderr",
     "output_type": "stream",
     "text": [
      "/opt/conda/lib/python3.7/site-packages/pyannote/metrics/utils.py:184: UserWarning: 'uem' was approximated by the union of 'reference' and 'hypothesis' extents.\n",
      "  \"'uem' was approximated by the union of 'reference' \"\n"
     ]
    },
    {
     "name": "stdout",
     "output_type": "stream",
     "text": [
      "ljpes Speakers: (truth) 4 vs 2 (prediction)\n",
      "DER = 26.3% JER = 61.4%\n",
      "DER_conf = 21.4% DER_fa = 2.4% DER_md = 2.5%\n"
     ]
    },
    {
     "name": "stderr",
     "output_type": "stream",
     "text": [
      "/opt/conda/lib/python3.7/site-packages/pyannote/metrics/utils.py:184: UserWarning: 'uem' was approximated by the union of 'reference' and 'hypothesis' extents.\n",
      "  \"'uem' was approximated by the union of 'reference' \"\n"
     ]
    },
    {
     "name": "stdout",
     "output_type": "stream",
     "text": [
      "lkikz Speakers: (truth) 2 vs 2 (prediction)\n",
      "DER = 33.7% JER = 48.8%\n",
      "DER_conf = 21.6% DER_fa = 1.3% DER_md = 10.8%\n"
     ]
    },
    {
     "name": "stderr",
     "output_type": "stream",
     "text": [
      "/opt/conda/lib/python3.7/site-packages/pyannote/metrics/utils.py:184: UserWarning: 'uem' was approximated by the union of 'reference' and 'hypothesis' extents.\n",
      "  \"'uem' was approximated by the union of 'reference' \"\n"
     ]
    },
    {
     "name": "stdout",
     "output_type": "stream",
     "text": [
      "lpola Speakers: (truth) 3 vs 2 (prediction)\n",
      "DER = 21.4% JER = 50.9%\n",
      "DER_conf = 14.9% DER_fa = 1.4% DER_md = 5.0%\n"
     ]
    },
    {
     "ename": "KeyboardInterrupt",
     "evalue": "",
     "output_type": "error",
     "traceback": [
      "\u001b[0;31m---------------------------------------------------------------------------\u001b[0m",
      "\u001b[0;31mKeyboardInterrupt\u001b[0m                         Traceback (most recent call last)",
      "\u001b[0;32m<ipython-input-4-4c7a99870af1>\u001b[0m in \u001b[0;36m<module>\u001b[0;34m\u001b[0m\n\u001b[1;32m      5\u001b[0m \u001b[0;34m\u001b[0m\u001b[0m\n\u001b[1;32m      6\u001b[0m \u001b[0;32mfor\u001b[0m \u001b[0midx\u001b[0m\u001b[0;34m,\u001b[0m \u001b[0msample_id\u001b[0m \u001b[0;32min\u001b[0m \u001b[0menumerate\u001b[0m\u001b[0;34m(\u001b[0m\u001b[0msample_ids\u001b[0m\u001b[0;34m)\u001b[0m\u001b[0;34m:\u001b[0m\u001b[0;34m\u001b[0m\u001b[0;34m\u001b[0m\u001b[0m\n\u001b[0;32m----> 7\u001b[0;31m     \u001b[0mlabels\u001b[0m \u001b[0;34m=\u001b[0m \u001b[0mconfigs\u001b[0m\u001b[0;34m.\u001b[0m\u001b[0micassp2018_clusterer\u001b[0m\u001b[0;34m.\u001b[0m\u001b[0mpredict\u001b[0m\u001b[0;34m(\u001b[0m\u001b[0msequences\u001b[0m\u001b[0;34m[\u001b[0m\u001b[0midx\u001b[0m\u001b[0;34m]\u001b[0m\u001b[0;34m)\u001b[0m\u001b[0;34m\u001b[0m\u001b[0;34m\u001b[0m\u001b[0m\n\u001b[0m\u001b[1;32m      8\u001b[0m \u001b[0;31m#     labels = icassp2018_clusterer.predict(sequences[idx])\u001b[0m\u001b[0;34m\u001b[0m\u001b[0;34m\u001b[0m\u001b[0;34m\u001b[0m\u001b[0m\n\u001b[1;32m      9\u001b[0m \u001b[0;34m\u001b[0m\u001b[0m\n",
      "\u001b[0;32m/opt/conda/lib/python3.7/site-packages/spectralcluster/spectral_clusterer.py\u001b[0m in \u001b[0;36mpredict\u001b[0;34m(self, embeddings, constraint_matrix)\u001b[0m\n\u001b[1;32m    183\u001b[0m       \u001b[0;31m# Do not use Auto-tune.\u001b[0m\u001b[0;34m\u001b[0m\u001b[0;34m\u001b[0m\u001b[0;34m\u001b[0m\u001b[0m\n\u001b[1;32m    184\u001b[0m       eigenvectors, n_clusters, _ = self._compute_eigenvectors_ncluster(\n\u001b[0;32m--> 185\u001b[0;31m           affinity, constraint_matrix)\n\u001b[0m\u001b[1;32m    186\u001b[0m \u001b[0;34m\u001b[0m\u001b[0m\n\u001b[1;32m    187\u001b[0m     \u001b[0;32mif\u001b[0m \u001b[0mself\u001b[0m\u001b[0;34m.\u001b[0m\u001b[0mmin_clusters\u001b[0m \u001b[0;32mis\u001b[0m \u001b[0;32mnot\u001b[0m \u001b[0;32mNone\u001b[0m\u001b[0;34m:\u001b[0m\u001b[0;34m\u001b[0m\u001b[0;34m\u001b[0m\u001b[0m\n",
      "\u001b[0;32m/opt/conda/lib/python3.7/site-packages/spectralcluster/spectral_clusterer.py\u001b[0m in \u001b[0;36m_compute_eigenvectors_ncluster\u001b[0;34m(self, affinity, constraint_matrix)\u001b[0m\n\u001b[1;32m    109\u001b[0m     \u001b[0;32mif\u001b[0m \u001b[0;32mnot\u001b[0m \u001b[0mself\u001b[0m\u001b[0;34m.\u001b[0m\u001b[0mlaplacian_type\u001b[0m \u001b[0;32mor\u001b[0m \u001b[0mself\u001b[0m\u001b[0;34m.\u001b[0m\u001b[0mlaplacian_type\u001b[0m \u001b[0;34m==\u001b[0m \u001b[0mLaplacianType\u001b[0m\u001b[0;34m.\u001b[0m\u001b[0mAffinity\u001b[0m\u001b[0;34m:\u001b[0m\u001b[0;34m\u001b[0m\u001b[0;34m\u001b[0m\u001b[0m\n\u001b[1;32m    110\u001b[0m       \u001b[0;31m# Perform eigen decomposion.\u001b[0m\u001b[0;34m\u001b[0m\u001b[0;34m\u001b[0m\u001b[0;34m\u001b[0m\u001b[0m\n\u001b[0;32m--> 111\u001b[0;31m       \u001b[0;34m(\u001b[0m\u001b[0meigenvalues\u001b[0m\u001b[0;34m,\u001b[0m \u001b[0meigenvectors\u001b[0m\u001b[0;34m)\u001b[0m \u001b[0;34m=\u001b[0m \u001b[0mutils\u001b[0m\u001b[0;34m.\u001b[0m\u001b[0mcompute_sorted_eigenvectors\u001b[0m\u001b[0;34m(\u001b[0m\u001b[0maffinity\u001b[0m\u001b[0;34m)\u001b[0m\u001b[0;34m\u001b[0m\u001b[0;34m\u001b[0m\u001b[0m\n\u001b[0m\u001b[1;32m    112\u001b[0m       \u001b[0;31m# Get number of clusters.\u001b[0m\u001b[0;34m\u001b[0m\u001b[0;34m\u001b[0m\u001b[0;34m\u001b[0m\u001b[0m\n\u001b[1;32m    113\u001b[0m       n_clusters, max_delta_norm = utils.compute_number_of_clusters(\n",
      "\u001b[0;32m/opt/conda/lib/python3.7/site-packages/spectralcluster/utils.py\u001b[0m in \u001b[0;36mcompute_sorted_eigenvectors\u001b[0;34m(input_matrix, descend)\u001b[0m\n\u001b[1;32m     54\u001b[0m   \"\"\"\n\u001b[1;32m     55\u001b[0m   \u001b[0;31m# Eigen decomposition.\u001b[0m\u001b[0;34m\u001b[0m\u001b[0;34m\u001b[0m\u001b[0;34m\u001b[0m\u001b[0m\n\u001b[0;32m---> 56\u001b[0;31m   \u001b[0meigenvalues\u001b[0m\u001b[0;34m,\u001b[0m \u001b[0meigenvectors\u001b[0m \u001b[0;34m=\u001b[0m \u001b[0mnp\u001b[0m\u001b[0;34m.\u001b[0m\u001b[0mlinalg\u001b[0m\u001b[0;34m.\u001b[0m\u001b[0meig\u001b[0m\u001b[0;34m(\u001b[0m\u001b[0minput_matrix\u001b[0m\u001b[0;34m)\u001b[0m\u001b[0;34m\u001b[0m\u001b[0;34m\u001b[0m\u001b[0m\n\u001b[0m\u001b[1;32m     57\u001b[0m   \u001b[0meigenvalues\u001b[0m \u001b[0;34m=\u001b[0m \u001b[0meigenvalues\u001b[0m\u001b[0;34m.\u001b[0m\u001b[0mreal\u001b[0m\u001b[0;34m\u001b[0m\u001b[0;34m\u001b[0m\u001b[0m\n\u001b[1;32m     58\u001b[0m   \u001b[0meigenvectors\u001b[0m \u001b[0;34m=\u001b[0m \u001b[0meigenvectors\u001b[0m\u001b[0;34m.\u001b[0m\u001b[0mreal\u001b[0m\u001b[0;34m\u001b[0m\u001b[0;34m\u001b[0m\u001b[0m\n",
      "\u001b[0;32m<__array_function__ internals>\u001b[0m in \u001b[0;36meig\u001b[0;34m(*args, **kwargs)\u001b[0m\n",
      "\u001b[0;32m/opt/conda/lib/python3.7/site-packages/numpy/linalg/linalg.py\u001b[0m in \u001b[0;36meig\u001b[0;34m(a)\u001b[0m\n\u001b[1;32m   1309\u001b[0m         _raise_linalgerror_eigenvalues_nonconvergence)\n\u001b[1;32m   1310\u001b[0m     \u001b[0msignature\u001b[0m \u001b[0;34m=\u001b[0m \u001b[0;34m'D->DD'\u001b[0m \u001b[0;32mif\u001b[0m \u001b[0misComplexType\u001b[0m\u001b[0;34m(\u001b[0m\u001b[0mt\u001b[0m\u001b[0;34m)\u001b[0m \u001b[0;32melse\u001b[0m \u001b[0;34m'd->DD'\u001b[0m\u001b[0;34m\u001b[0m\u001b[0;34m\u001b[0m\u001b[0m\n\u001b[0;32m-> 1311\u001b[0;31m     \u001b[0mw\u001b[0m\u001b[0;34m,\u001b[0m \u001b[0mvt\u001b[0m \u001b[0;34m=\u001b[0m \u001b[0m_umath_linalg\u001b[0m\u001b[0;34m.\u001b[0m\u001b[0meig\u001b[0m\u001b[0;34m(\u001b[0m\u001b[0ma\u001b[0m\u001b[0;34m,\u001b[0m \u001b[0msignature\u001b[0m\u001b[0;34m=\u001b[0m\u001b[0msignature\u001b[0m\u001b[0;34m,\u001b[0m \u001b[0mextobj\u001b[0m\u001b[0;34m=\u001b[0m\u001b[0mextobj\u001b[0m\u001b[0;34m)\u001b[0m\u001b[0;34m\u001b[0m\u001b[0;34m\u001b[0m\u001b[0m\n\u001b[0m\u001b[1;32m   1312\u001b[0m \u001b[0;34m\u001b[0m\u001b[0m\n\u001b[1;32m   1313\u001b[0m     \u001b[0;32mif\u001b[0m \u001b[0;32mnot\u001b[0m \u001b[0misComplexType\u001b[0m\u001b[0;34m(\u001b[0m\u001b[0mt\u001b[0m\u001b[0;34m)\u001b[0m \u001b[0;32mand\u001b[0m \u001b[0mall\u001b[0m\u001b[0;34m(\u001b[0m\u001b[0mw\u001b[0m\u001b[0;34m.\u001b[0m\u001b[0mimag\u001b[0m \u001b[0;34m==\u001b[0m \u001b[0;36m0.0\u001b[0m\u001b[0;34m)\u001b[0m\u001b[0;34m:\u001b[0m\u001b[0;34m\u001b[0m\u001b[0;34m\u001b[0m\u001b[0m\n",
      "\u001b[0;31mKeyboardInterrupt\u001b[0m: "
     ]
    }
   ],
   "source": [
    "derMetric = DiarizationErrorRate(collar=0.25)\n",
    "jerMetric = JaccardErrorRate(collar=0.25)\n",
    "\n",
    "predictions = []\n",
    "\n",
    "for idx, sample_id in enumerate(sample_ids):\n",
    "    labels = configs.icassp2018_clusterer.predict(sequences[idx])\n",
    "#     labels = icassp2018_clusterer.predict(sequences[idx])\n",
    "    \n",
    "    annotation = Annotation()\n",
    "    annotation.uri = sample_id\n",
    "    for jdx, speaker_id in enumerate(labels):\n",
    "        segment_interval = intervals[idx][jdx]\n",
    "        annotation[Segment(segment_interval[0], segment_interval[1])] = speaker_id\n",
    "    predictions.append(annotation)\n",
    "    \n",
    "    hypothesis = annotation.support()\n",
    "    reference = load_rttm(rttm_files[sample_id])[sample_id]\n",
    "    \n",
    "    der = derMetric(reference, hypothesis, detailed = True)\n",
    "    jer = jerMetric(reference, hypothesis)\n",
    "    \n",
    "    confusion = der['confusion']/der['total']\n",
    "    false_alarm = der['false alarm']/der['total']\n",
    "    missed_detection = der['missed detection']/der['total']\n",
    "    \n",
    "\n",
    "    \n",
    "    print(f'{sample_id} Speakers: (truth) {len(reference.labels())} vs {len(hypothesis.labels())} (prediction)')\n",
    "    print(f'DER = {100 * der[\"diarization error rate\"]:.1f}% JER = {100 * jer:.1f}%')\n",
    "    print(f'DER_conf = {100 * confusion:.1f}% DER_fa = {100 * false_alarm:.1f}% DER_md = {100 * missed_detection:.1f}%')\n",
    "\n",
    "#     rttmFile = f'{base_dir}/rttm/{}.rttm'.format(audio_id)\n",
    "#     with open(rttmFile, 'w') as writeRttmFile:\n",
    "#         joined_annotation.write_rttm(writeRttmFile)    "
   ]
  },
  {
   "cell_type": "code",
   "execution_count": null,
   "metadata": {},
   "outputs": [],
   "source": [
    "reference"
   ]
  },
  {
   "cell_type": "code",
   "execution_count": null,
   "metadata": {},
   "outputs": [],
   "source": [
    "reference = load_rttm(rttm_files[sample_id])[sample_id]"
   ]
  }
 ],
 "metadata": {
  "kernelspec": {
   "display_name": "Python 3",
   "language": "python",
   "name": "python3"
  },
  "language_info": {
   "codemirror_mode": {
    "name": "ipython",
    "version": 3
   },
   "file_extension": ".py",
   "mimetype": "text/x-python",
   "name": "python",
   "nbconvert_exporter": "python",
   "pygments_lexer": "ipython3",
   "version": "3.7.3"
  }
 },
 "nbformat": 4,
 "nbformat_minor": 2
}

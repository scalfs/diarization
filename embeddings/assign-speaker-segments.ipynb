{
 "cells": [
  {
   "cell_type": "code",
   "execution_count": 68,
   "metadata": {},
   "outputs": [],
   "source": [
    "import os\n",
    "import re\n",
    "import numpy as np\n",
    "from collections import defaultdict\n",
    "from rttm import load_rttm, Turn\n",
    "\n",
    "from pyannote.core import Annotation, Segment\n",
    "from pyannote.database.util import load_rttm as load_pyannote_rttm"
   ]
  },
  {
   "cell_type": "code",
   "execution_count": 105,
   "metadata": {},
   "outputs": [
    {
     "name": "stdout",
     "output_type": "stream",
     "text": [
      "Number of files: 232\n"
     ]
    }
   ],
   "source": [
    "# rttm_path = '/home/jovyan/work/voxsrc21-dia/data/voxconverse/sample/rttm'\n",
    "rttm_path = '/home/jovyan/work/datasets/voxconverse/test/rttm'\n",
    "save_dir_path = '/home/jovyan/work/voxsrc21-dia/embeddings/sequences'\n",
    "os.makedirs(save_dir_path, exist_ok=True)\n",
    "\n",
    "dev_intervals_path = save_dir_path + '/voxcon-dev-intervals.npy'\n",
    "test_intervals_path = save_dir_path + '/voxcon-test-intervals.npy'\n",
    "\n",
    "dev_intervals = np.load(dev_intervals_path,allow_pickle=True)\n",
    "test_intervals = np.load(test_intervals_path,allow_pickle=True)\n",
    "\n",
    "# should be processed with the audios\n",
    "# these are from the logs, to replicate the files order\n",
    "dev_audio_ids = [\"abjxc\",\"ahnss\",\"akthc\",\"asxwr\",\"atgpi\",\"aufkn\",\"azisu\",\"bkwns\",\"bspxd\",\"bxpwa\",\"cyyxp\",\"czlvt\",\"dhorc\",\"djqif\",\"dscgs\",\"edixl\",\"ehpau\",\"eqttu\",\"esrit\",\"exymw\",\"eziem\",\"ezsgk\",\"femmv\",\"fkvvo\",\"fsaal\",\"fvyvb\",\"fxgvy\",\"ggvel\",\"gocbm\",\"gqbvk\",\"gqdxy\",\"grzbb\",\"hiyis\",\"hqyok\",\"hycgx\",\"ikgcq\",\"imtug\",\"ipqqq\",\"iqbww\",\"iqtde\",\"irvat\",\"jnivh\",\"jynhe\",\"kctgl\",\"kkghn\",\"ktzmw\",\"kuduk\",\"ldkmv\",\"lfzib\",\"lknjp\",\"luvfz\",\"mdbod\",\"mekog\",\"mesob\",\"mgpok\",\"migzj\",\"mkrcv\",\"mpvoh\",\"mqxsf\",\"mwfmq\",\"nctdh\",\"nfqjx\",\"ntchr\",\"nxgad\",\"oekmc\",\"ooxnm\",\"pgkde\",\"plbbw\",\"pnyir\",\"ppgjx\",\"qfdpp\",\"qouur\",\"qppll\",\"qrzjk\",\"qydmg\",\"qygfk\",\"qzwxa\",\"rcxzg\",\"rxgun\",\"sikkm\",\"sosnj\",\"suuxu\",\"syiwe\",\"szsyz\",\"tguxv\",\"tjkfn\",\"tlprc\",\"tplwz\",\"udjij\",\"uexjc\",\"ulriv\",\"uvnmy\",\"vmbga\",\"whmpa\",\"wjhgf\",\"xiglo\",\"xxwgv\",\"ycxxe\",\"ydlfw\",\"ypwjd\",\"yrsve\",\"yuzyu\",\"ywcwr\",\"zcdsd\",\"zfkap\",\"zmndm\",\"zrlyl\",\"zyffh\",\"nnqfq\",\"aisvi\",\"usbgm\",\"xvllq\",\"oenox\",\"praxo\",\"onpra\",\"kefgo\",\"bauzd\",\"mjgil\",\"blwmj\",\"gofnj\",\"uatlu\",\"rtvuw\",\"wnfoi\",\"evtyi\",\"tcwsn\",\"pilgb\",\"cmfyw\",\"dbugl\",\"mevkw\",\"jsdmu\",\"jiqvr\",\"hkzpa\",\"hgeec\",\"jcako\",\"epdpg\",\"cqaec\",\"kkwkn\",\"spzmn\",\"ngyrk\",\"sldwj\",\"cmhsm\",\"ndkwv\",\"kbkon\",\"bdopb\",\"qhesr\",\"cwryz\",\"djngn\",\"dvngl\",\"qsfzo\",\"gwtwd\",\"cobal\",\"sduml\",\"vysqj\",\"jtagk\",\"hgdez\",\"wdjyj\",\"qpylu\",\"tfvyr\",\"falxo\",\"bydui\",\"willh\",\"wspbh\",\"ufpel\",\"kiadt\",\"nrogz\",\"imbqf\",\"crixb\",\"ylnza\",\"wewoz\",\"qvtia\",\"kszpd\",\"bwzyf\",\"xypdm\",\"mvjuk\",\"jhdav\",\"pqmho\",\"jsmbi\",\"ccokr\",\"ampme\",\"odkzj\",\"tiams\",\"tucrg\",\"bravd\",\"houcx\",\"gpjne\",\"goyli\",\"txcok\",\"jyirt\",\"oxxwk\",\"iwdjy\",\"kckqn\",\"ioasm\",\"paibn\",\"kklpv\",\"vbjlx\",\"jyflp\",\"sqkup\",\"xmfzh\",\"afjiv\",\"eapdk\",\"pnook\",\"yfcmz\",\"gzvkx\",\"oklol\",\"qjgpl\",\"wbqza\",\"wmori\",\"ysgbf\",\"zajzs\",\"zidwg\",\"ztzzr\",\"zvmyn\"]\n",
    "test_audio_ids = [\"aepyx\",\"aiqwk\",\"bjruf\",\"bmsyn\",\"bxcfq\",\"byapz\",\"clfcg\",\"cqfmj\",\"crylr\",\"cvofp\",\"dgvwu\",\"dohag\",\"dxbbt\",\"dzsef\",\"eauve\",\"eazeq\",\"eguui\",\"epygx\",\"eqsta\",\"euqef\",\"fijfi\",\"fpfvy\",\"fqrnu\",\"fxnwf\",\"fyqoe\",\"gcfwp\",\"gtjow\",\"gtnjb\",\"gukoa\",\"guvqf\",\"gylzn\",\"gyomp\",\"hcyak\",\"heolf\",\"hhepf\",\"ibrnm\",\"ifwki\",\"iiprr\",\"ikhje\",\"jdrwl\",\"jjkrt\",\"jjvkx\",\"jrfaz\",\"jsbdo\",\"jttar\",\"jxpom\",\"jzkzt\",\"kajfh\",\"kmunk\",\"kpjud\",\"ktvto\",\"kvkje\",\"lbfnx\",\"ledhe\",\"lilfy\",\"ljpes\",\"lkikz\",\"lpola\",\"lscfc\",\"ltgmz\",\"lubpm\",\"luobn\",\"mjmgr\",\"msbyq\",\"mupzb\",\"myjoe\",\"nlvdr\",\"nprxc\",\"ocfop\",\"ofbxh\",\"olzkb\",\"ooxlj\",\"oqwpd\",\"otmpf\",\"ouvtt\",\"poucc\",\"ppexo\",\"pwnsw\",\"qadia\",\"qeejz\",\"qlrry\",\"qwepo\",\"rarij\",\"rmvsh\",\"rxulz\",\"sebyw\",\"sexgc\",\"sfdvy\",\"svxzm\",\"tkybe\",\"tpslg\",\"uedkc\",\"uqxlg\",\"usqam\",\"vncid\",\"vylyk\",\"vzuru\",\"wdvva\",\"wemos\",\"wprog\",\"wwzsk\",\"xggbk\",\"xkgos\",\"xlyov\",\"xmyyy\",\"xqxkt\",\"xtdcl\",\"xtzoq\",\"xvxwv\",\"ybhwz\",\"ylzez\",\"ytmef\",\"yukhy\",\"yzvon\",\"zedtj\",\"zfzlc\",\"zowse\",\"zqidv\",\"zztbo\",\"ralnu\",\"uicid\",\"laoyl\",\"jxydp\",\"pzxit\",\"upshw\",\"gfneh\",\"kzmyi\",\"nkqzr\",\"kgjaa\",\"dkabn\",\"eucfa\",\"erslt\",\"mclsr\",\"fzwtp\",\"dzxut\",\"pkwrt\",\"gmmwm\",\"leneg\",\"sxqvt\",\"pgtkk\",\"fuzfh\",\"vtzqw\",\"rsypp\",\"qxana\",\"optsn\",\"dxokr\",\"ptses\",\"isxwc\",\"gzhwb\",\"mhwyr\",\"duvox\",\"ezxso\",\"jgiyq\",\"rpkso\",\"kmjvh\",\"wcxfk\",\"gcvrb\",\"eddje\",\"pccww\",\"vuewy\",\"tvtoe\",\"oubab\",\"jwggf\",\"aggyz\",\"bidnq\",\"neiye\",\"mkhie\",\"iowob\",\"jbowg\",\"gwloo\",\"uevxo\",\"nitgx\",\"eoyaz\",\"qoarn\",\"mxdpo\",\"auzru\",\"diysk\",\"cwbvu\",\"jeymh\",\"iacod\",\"cawnd\",\"vgaez\",\"bgvvt\",\"tiido\",\"aorju\",\"qajyo\",\"ryken\",\"iabca\",\"tkhgs\",\"tbjqx\",\"mqtep\",\"fowhl\",\"fvhrk\",\"nqcpi\",\"mbzht\",\"uhfrw\",\"utial\",\"cpebh\",\"tnjoh\",\"jsymf\",\"vgevv\",\"mxduo\",\"gkiki\",\"bvyvm\",\"hqhrb\",\"isrps\",\"nqyqm\",\"dlast\",\"pxqme\",\"bpzsc\",\"vdlvr\",\"lhuly\",\"crorm\",\"bvqnu\",\"tpnyf\",\"thnuq\",\"swbnm\",\"cadba\",\"sbrmv\",\"wibky\",\"wlfsf\",\"wwvcs\",\"xffsa\",\"xkmqx\",\"xlsme\",\"ygrip\",\"ylgug\",\"ytula\",\"zehzu\",\"zsgto\",\"zzsba\",\"zzyyo\"]\n",
    "\n",
    "rttm_files = defaultdict(list)\n",
    "for audio_id in test_files:\n",
    "    rttm_files[audio_id] = os.path.join(rttm_path, audio_id + '.rttm')\n",
    "\n",
    "print(f'Number of files: {len(rttm_files)}')"
   ]
  },
  {
   "cell_type": "code",
   "execution_count": 70,
   "metadata": {},
   "outputs": [],
   "source": [
    "def getOnsets(turn):\n",
    "    return turn.onset\n",
    "\n",
    "def getDurOnSegment(turn):\n",
    "    return turn.dur_on_segment"
   ]
  },
  {
   "cell_type": "code",
   "execution_count": 106,
   "metadata": {},
   "outputs": [],
   "source": [
    "pyannote_annotations = defaultdict(list)\n",
    "removed_segments = defaultdict(list)\n",
    "cluster_ids = []\n",
    "\n",
    "for i, segment_intervals in enumerate(test_intervals):\n",
    "    annotation = Annotation()\n",
    "    audio_id = test_audio_ids[i] # we made sure the indexes are related\n",
    "    \n",
    "    turns, _, _ = load_rttm(rttm_files.get(audio_id))\n",
    "    # We prioritize the turns that started last (sort reverse)\n",
    "    # In order to always get newer speakers\n",
    "    turns.sort(key=getOnsets, reverse=True)\n",
    "\n",
    "    # sanitize speaker id to include only numbers\n",
    "    for turn in turns:\n",
    "        turn.speaker_id = re.sub('[^0-9]', \"\", turn.speaker_id)\n",
    "\n",
    "    segment_speakers = []\n",
    "    for idx, interval in enumerate(segment_intervals):\n",
    "        interval_onset = interval[0]\n",
    "        interval_offset = interval[1]\n",
    "        interval_duration = interval_offset - interval_onset\n",
    "        turns_with_interval = [turn for turn in turns if turn.onset <= interval_onset and turn.offset > interval_onset]\n",
    "\n",
    "        if len(turns_with_interval) == 1:\n",
    "            segment_speakers.append(turns_with_interval[0].speaker_id)\n",
    "            annotation[Segment(interval_onset, interval_offset)] = turns_with_interval[0].speaker_id\n",
    "            continue;\n",
    "\n",
    "        if len(turns_with_interval) == 0:\n",
    "            removed_segments[audio_id].append(idx)\n",
    "            continue;\n",
    "\n",
    "        # set turn duration inside the segment, so we can use the longest\n",
    "        for turn in turns_with_interval:\n",
    "            onset_diff = 0\n",
    "            offset_diff = 0\n",
    "            if turn.onset > interval_onset:\n",
    "                onset_diff = turn.onset - interval_onset\n",
    "            if turn.offset < interval_offset:\n",
    "                offset_diff = interval_offset - turn.offset\n",
    "\n",
    "            turn.dur_on_segment = interval_duration - (onset_diff + offset_diff)\n",
    "\n",
    "        # sort by turn with the longest duration on segment\n",
    "        turns_with_interval.sort(key=getDurOnSegment, reverse=True)\n",
    "        # assign the speaker of the latest turn with the longest\n",
    "        segment_speakers.append(turns_with_interval[0].speaker_id)\n",
    "        annotation[Segment(interval_onset, interval_offset)] = turns_with_interval[0].speaker_id\n",
    "\n",
    "    pyannote_annotations[audio_id] = annotation\n",
    "    cluster_ids.append(segment_speakers)\n",
    "\n",
    "cluster_ids_path = os.path.join(save_dir_path, 'voxcon-test-cluster-ids.npy')\n",
    "cluster_ids = np.asarray(cluster_ids)\n",
    "np.save(cluster_ids_path, cluster_ids)"
   ]
  },
  {
   "cell_type": "code",
   "execution_count": 110,
   "metadata": {},
   "outputs": [
    {
     "data": {
      "image/png": "[encoded data removed]",
      "text/plain": [
       "<pyannote.core.annotation.Annotation at 0x7f94917ed2b0>"
      ]
     },
     "execution_count": 110,
     "metadata": {},
     "output_type": "execute_result"
    }
   ],
   "source": [
    "pyannote_annotations[audio_id]"
   ]
  },
  {
   "cell_type": "code",
   "execution_count": 109,
   "metadata": {},
   "outputs": [
    {
     "data": {
      "image/png": "[encoded data removed]",
      "text/plain": [
       "<pyannote.core.annotation.Annotation at 0x7f948ae10208>"
      ]
     },
     "execution_count": 109,
     "metadata": {},
     "output_type": "execute_result"
    }
   ],
   "source": [
    "audio_id=test_files[0]\n",
    "pyannote_rttm = load_pyannote_rttm(rttm_files.get(audio_id))[audio_id]\n",
    "\n",
    "pyannote_rttm"
   ]
  },
  {
   "cell_type": "code",
   "execution_count": null,
   "metadata": {},
   "outputs": [],
   "source": [
    "# turns.sort(key=getOnsets)\n",
    "# for turn in turns:\n",
    "#     print(turn)"
   ]
  },
  {
   "cell_type": "code",
   "execution_count": null,
   "metadata": {},
   "outputs": [],
   "source": [
    "# for audio_id, rttm_path in rttm_files.items():\n",
    "#     _, speakers, _ = load_rttm(rttm_files.get(audio_id))\n",
    "#     print(audio_id, len(speakers))"
   ]
  },
  {
   "cell_type": "code",
   "execution_count": null,
   "metadata": {},
   "outputs": [],
   "source": [
    "# turns, _, _ = load_rttm(rttm_files.get(audio_id))\n",
    "# for turn in turns:\n",
    "#     print(turn)"
   ]
  }
 ],
 "metadata": {
  "kernelspec": {
   "display_name": "Python 3",
   "language": "python",
   "name": "python3"
  },
  "language_info": {
   "codemirror_mode": {
    "name": "ipython",
    "version": 3
   },
   "file_extension": ".py",
   "mimetype": "text/x-python",
   "name": "python",
   "nbconvert_exporter": "python",
   "pygments_lexer": "ipython3",
   "version": "3.7.3"
  }
 },
 "nbformat": 4,
 "nbformat_minor": 2
}

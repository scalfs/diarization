{
 "cells": [
  {
   "cell_type": "code",
   "execution_count": 3,
   "metadata": {},
   "outputs": [],
   "source": [
    "import os\n",
    "import re\n",
    "import numpy as np\n",
    "from collections import defaultdict\n",
    "from rttm import load_rttm, Turn\n",
    "\n",
    "from pyannote.core import Annotation, Segment\n",
    "from pyannote.database.util import load_rttm as load_pyannote_rttm"
   ]
  },
  {
   "cell_type": "code",
   "execution_count": 4,
   "metadata": {},
   "outputs": [],
   "source": [
    "# rttm_path = '/home/jovyan/work/voxsrc21-dia/data/voxconverse/sample/rttm'\n",
    "rttm_path = '/home/jovyan/work/datasets/voxconverse/test/rttm'\n",
    "save_dir_path = '/home/jovyan/work/voxsrc21-dia/embeddings/sequences'\n",
    "os.makedirs(save_dir_path, exist_ok=True)\n",
    "\n",
    "dev_intervals_path = save_dir_path + '/voxcon-dev-intervals.npy'\n",
    "test_intervals_path = save_dir_path + '/voxcon-test-intervals.npy'\n",
    "\n",
    "dev_intervals = np.load(dev_intervals_path,allow_pickle=True)\n",
    "test_intervals = np.load(test_intervals_path,allow_pickle=True)\n",
    "\n",
    "# speaker assignment should be processed with the audios, but since they weren't\n",
    "# these are from the logs, to replicate the files order on embedding extraction (and interval generation)\n",
    "dev_audio_ids = [\"abjxc\",\"ahnss\",\"akthc\",\"asxwr\",\"atgpi\",\"aufkn\",\"azisu\",\"bkwns\",\"bspxd\",\"bxpwa\",\"cyyxp\",\"czlvt\",\"dhorc\",\"djqif\",\"dscgs\",\"edixl\",\"ehpau\",\"eqttu\",\"esrit\",\"exymw\",\"eziem\",\"ezsgk\",\"femmv\",\"fkvvo\",\"fsaal\",\"fvyvb\",\"fxgvy\",\"ggvel\",\"gocbm\",\"gqbvk\",\"gqdxy\",\"grzbb\",\"hiyis\",\"hqyok\",\"hycgx\",\"ikgcq\",\"imtug\",\"ipqqq\",\"iqbww\",\"iqtde\",\"irvat\",\"jnivh\",\"jynhe\",\"kctgl\",\"kkghn\",\"ktzmw\",\"kuduk\",\"ldkmv\",\"lfzib\",\"lknjp\",\"luvfz\",\"mdbod\",\"mekog\",\"mesob\",\"mgpok\",\"migzj\",\"mkrcv\",\"mpvoh\",\"mqxsf\",\"mwfmq\",\"nctdh\",\"nfqjx\",\"ntchr\",\"nxgad\",\"oekmc\",\"ooxnm\",\"pgkde\",\"plbbw\",\"pnyir\",\"ppgjx\",\"qfdpp\",\"qouur\",\"qppll\",\"qrzjk\",\"qydmg\",\"qygfk\",\"qzwxa\",\"rcxzg\",\"rxgun\",\"sikkm\",\"sosnj\",\"suuxu\",\"syiwe\",\"szsyz\",\"tguxv\",\"tjkfn\",\"tlprc\",\"tplwz\",\"udjij\",\"uexjc\",\"ulriv\",\"uvnmy\",\"vmbga\",\"whmpa\",\"wjhgf\",\"xiglo\",\"xxwgv\",\"ycxxe\",\"ydlfw\",\"ypwjd\",\"yrsve\",\"yuzyu\",\"ywcwr\",\"zcdsd\",\"zfkap\",\"zmndm\",\"zrlyl\",\"zyffh\",\"nnqfq\",\"aisvi\",\"usbgm\",\"xvllq\",\"oenox\",\"praxo\",\"onpra\",\"kefgo\",\"bauzd\",\"mjgil\",\"blwmj\",\"gofnj\",\"uatlu\",\"rtvuw\",\"wnfoi\",\"evtyi\",\"tcwsn\",\"pilgb\",\"cmfyw\",\"dbugl\",\"mevkw\",\"jsdmu\",\"jiqvr\",\"hkzpa\",\"hgeec\",\"jcako\",\"epdpg\",\"cqaec\",\"kkwkn\",\"spzmn\",\"ngyrk\",\"sldwj\",\"cmhsm\",\"ndkwv\",\"kbkon\",\"bdopb\",\"qhesr\",\"cwryz\",\"djngn\",\"dvngl\",\"qsfzo\",\"gwtwd\",\"cobal\",\"sduml\",\"vysqj\",\"jtagk\",\"hgdez\",\"wdjyj\",\"qpylu\",\"tfvyr\",\"falxo\",\"bydui\",\"willh\",\"wspbh\",\"ufpel\",\"kiadt\",\"nrogz\",\"imbqf\",\"crixb\",\"ylnza\",\"wewoz\",\"qvtia\",\"kszpd\",\"bwzyf\",\"xypdm\",\"mvjuk\",\"jhdav\",\"pqmho\",\"jsmbi\",\"ccokr\",\"ampme\",\"odkzj\",\"tiams\",\"tucrg\",\"bravd\",\"houcx\",\"gpjne\",\"goyli\",\"txcok\",\"jyirt\",\"oxxwk\",\"iwdjy\",\"kckqn\",\"ioasm\",\"paibn\",\"kklpv\",\"vbjlx\",\"jyflp\",\"sqkup\",\"xmfzh\",\"afjiv\",\"eapdk\",\"pnook\",\"yfcmz\",\"gzvkx\",\"oklol\",\"qjgpl\",\"wbqza\",\"wmori\",\"ysgbf\",\"zajzs\",\"zidwg\",\"ztzzr\",\"zvmyn\"]\n",
    "test_audio_ids = [\"aepyx\",\"aiqwk\",\"bjruf\",\"bmsyn\",\"bxcfq\",\"byapz\",\"clfcg\",\"cqfmj\",\"crylr\",\"cvofp\",\"dgvwu\",\"dohag\",\"dxbbt\",\"dzsef\",\"eauve\",\"eazeq\",\"eguui\",\"epygx\",\"eqsta\",\"euqef\",\"fijfi\",\"fpfvy\",\"fqrnu\",\"fxnwf\",\"fyqoe\",\"gcfwp\",\"gtjow\",\"gtnjb\",\"gukoa\",\"guvqf\",\"gylzn\",\"gyomp\",\"hcyak\",\"heolf\",\"hhepf\",\"ibrnm\",\"ifwki\",\"iiprr\",\"ikhje\",\"jdrwl\",\"jjkrt\",\"jjvkx\",\"jrfaz\",\"jsbdo\",\"jttar\",\"jxpom\",\"jzkzt\",\"kajfh\",\"kmunk\",\"kpjud\",\"ktvto\",\"kvkje\",\"lbfnx\",\"ledhe\",\"lilfy\",\"ljpes\",\"lkikz\",\"lpola\",\"lscfc\",\"ltgmz\",\"lubpm\",\"luobn\",\"mjmgr\",\"msbyq\",\"mupzb\",\"myjoe\",\"nlvdr\",\"nprxc\",\"ocfop\",\"ofbxh\",\"olzkb\",\"ooxlj\",\"oqwpd\",\"otmpf\",\"ouvtt\",\"poucc\",\"ppexo\",\"pwnsw\",\"qadia\",\"qeejz\",\"qlrry\",\"qwepo\",\"rarij\",\"rmvsh\",\"rxulz\",\"sebyw\",\"sexgc\",\"sfdvy\",\"svxzm\",\"tkybe\",\"tpslg\",\"uedkc\",\"uqxlg\",\"usqam\",\"vncid\",\"vylyk\",\"vzuru\",\"wdvva\",\"wemos\",\"wprog\",\"wwzsk\",\"xggbk\",\"xkgos\",\"xlyov\",\"xmyyy\",\"xqxkt\",\"xtdcl\",\"xtzoq\",\"xvxwv\",\"ybhwz\",\"ylzez\",\"ytmef\",\"yukhy\",\"yzvon\",\"zedtj\",\"zfzlc\",\"zowse\",\"zqidv\",\"zztbo\",\"ralnu\",\"uicid\",\"laoyl\",\"jxydp\",\"pzxit\",\"upshw\",\"gfneh\",\"kzmyi\",\"nkqzr\",\"kgjaa\",\"dkabn\",\"eucfa\",\"erslt\",\"mclsr\",\"fzwtp\",\"dzxut\",\"pkwrt\",\"gmmwm\",\"leneg\",\"sxqvt\",\"pgtkk\",\"fuzfh\",\"vtzqw\",\"rsypp\",\"qxana\",\"optsn\",\"dxokr\",\"ptses\",\"isxwc\",\"gzhwb\",\"mhwyr\",\"duvox\",\"ezxso\",\"jgiyq\",\"rpkso\",\"kmjvh\",\"wcxfk\",\"gcvrb\",\"eddje\",\"pccww\",\"vuewy\",\"tvtoe\",\"oubab\",\"jwggf\",\"aggyz\",\"bidnq\",\"neiye\",\"mkhie\",\"iowob\",\"jbowg\",\"gwloo\",\"uevxo\",\"nitgx\",\"eoyaz\",\"qoarn\",\"mxdpo\",\"auzru\",\"diysk\",\"cwbvu\",\"jeymh\",\"iacod\",\"cawnd\",\"vgaez\",\"bgvvt\",\"tiido\",\"aorju\",\"qajyo\",\"ryken\",\"iabca\",\"tkhgs\",\"tbjqx\",\"mqtep\",\"fowhl\",\"fvhrk\",\"nqcpi\",\"mbzht\",\"uhfrw\",\"utial\",\"cpebh\",\"tnjoh\",\"jsymf\",\"vgevv\",\"mxduo\",\"gkiki\",\"bvyvm\",\"hqhrb\",\"isrps\",\"nqyqm\",\"dlast\",\"pxqme\",\"bpzsc\",\"vdlvr\",\"lhuly\",\"crorm\",\"bvqnu\",\"tpnyf\",\"thnuq\",\"swbnm\",\"cadba\",\"sbrmv\",\"wibky\",\"wlfsf\",\"wwvcs\",\"xffsa\",\"xkmqx\",\"xlsme\",\"ygrip\",\"ylgug\",\"ytula\",\"zehzu\",\"zsgto\",\"zzsba\",\"zzyyo\"]"
   ]
  },
  {
   "cell_type": "code",
   "execution_count": 5,
   "metadata": {},
   "outputs": [
    {
     "name": "stdout",
     "output_type": "stream",
     "text": [
      "Number of files: 232\n"
     ]
    }
   ],
   "source": [
    "intervals = test_intervals\n",
    "audio_ids = test_audio_ids\n",
    "\n",
    "\n",
    "rttm_files = defaultdict(list)\n",
    "for audio_id in audio_ids:\n",
    "    rttm_files[audio_id] = os.path.join(rttm_path, audio_id + '.rttm')\n",
    "\n",
    "print(f'Number of files: {len(rttm_files)}')"
   ]
  },
  {
   "cell_type": "code",
   "execution_count": 6,
   "metadata": {},
   "outputs": [],
   "source": [
    "def getOnsets(turn):\n",
    "    return turn.onset\n",
    "\n",
    "def getDurOnSegment(turn):\n",
    "    return turn.dur_on_segment"
   ]
  },
  {
   "cell_type": "code",
   "execution_count": 6,
   "metadata": {},
   "outputs": [],
   "source": [
    "pyannote_annotations = defaultdict(list)\n",
    "removed_segments = defaultdict(list)\n",
    "cluster_ids = []\n",
    "\n",
    "for audio_id, segment_intervals in zip(audio_ids, intervals):\n",
    "    annotation = Annotation()\n",
    "    \n",
    "    turns, _, _ = load_rttm(rttm_files[audio_id])\n",
    "    # We prioritize the turns that started last (sort reverse)\n",
    "    # In order to always get newer speakers\n",
    "    turns.sort(key=getOnsets, reverse=True)\n",
    "\n",
    "    # # sanitize speaker id to include only numbers\n",
    "    # for turn in turns:\n",
    "    # turn.speaker_id = re.sub('[^0-9]', \"\", turn.speaker_id)\n",
    "\n",
    "    segment_speakers = []\n",
    "    for idx, interval in enumerate(segment_intervals):\n",
    "        interval_onset = interval[0]\n",
    "        interval_offset = interval[1]\n",
    "        interval_duration = interval_offset - interval_onset\n",
    "        turns_with_interval = [turn for turn in turns if not(turn.onset > interval_offset or turn.offset < interval_onset)]\n",
    "\n",
    "        if len(turns_with_interval) == 1:\n",
    "            segment_speaker_id = turns_with_interval[0].speaker_id\n",
    "            segment_speakers.append(segment_speaker_id)\n",
    "            annotation[Segment(interval_onset, interval_offset)] = segment_speaker_id\n",
    "            continue;\n",
    "\n",
    "        if len(turns_with_interval) == 0:\n",
    "            removed_segments[audio_id].append(idx)\n",
    "            continue;\n",
    "\n",
    "        # set turn duration inside the segment, so we can use the longest\n",
    "        for turn in turns_with_interval:\n",
    "            onset_diff = 0\n",
    "            offset_diff = 0\n",
    "            if turn.onset > interval_onset:\n",
    "                onset_diff = turn.onset - interval_onset\n",
    "            if turn.offset < interval_offset:\n",
    "                offset_diff = interval_offset - turn.offset\n",
    "\n",
    "            turn.dur_on_segment = interval_duration - (onset_diff + offset_diff)\n",
    "\n",
    "        # sort by turn with the longest duration on segment\n",
    "        turns_with_interval.sort(key=getDurOnSegment, reverse=True)\n",
    "        # assign the speaker of the latest turn with the longest\n",
    "        segment_speaker_id = turns_with_interval[0].speaker_id\n",
    "        segment_speakers.append(segment_speaker_id)\n",
    "        annotation[Segment(interval_onset, interval_offset)] = segment_speaker_id\n",
    "\n",
    "    pyannote_annotations[audio_id] = annotation\n",
    "    cluster_ids.append(segment_speakers)\n",
    "\n",
    "# cluster_ids_path = os.path.join(save_dir_path, 'voxcon-test-cluster-ids-3.npy')\n",
    "# cluster_ids = np.asarray(cluster_ids)\n",
    "# np.save(cluster_ids_path, cluster_ids)\n",
    "\n",
    "# removed_segments_path = os.path.join(save_dir_path, 'removed_segments_path.npy')\n",
    "# all_removed_segments = np.asarray(all_removed_segments)\n",
    "# np.save(removed_segments_path, all_removed_segments)"
   ]
  },
  {
   "cell_type": "code",
   "execution_count": 7,
   "metadata": {},
   "outputs": [
    {
     "name": "stdout",
     "output_type": "stream",
     "text": [
      "19478 362840 0.05368206371954581\n"
     ]
    }
   ],
   "source": [
    "# What's the percentage of removed segments?\n",
    "# voxcon-test-sequences: 19478 362840 5.3%\n",
    "# voxcon-dev-sequences: 4013 161681 2.5%\n",
    "\n",
    "sequences_path = '/home/jovyan/work'\n",
    "original_sequences = np.load(sequences_path + '/original-voxcon-test-sequences.npy', allow_pickle=True)\n",
    "\n",
    "num_removed = 0\n",
    "num_sequences = 0\n",
    "for audio_id, sequences in zip(audio_ids, original_sequences):\n",
    "    num_removed += len(removed_segments[audio_id])\n",
    "    num_sequences += len(sequences)\n",
    "\n",
    "print (num_removed, num_sequences, num_removed/num_sequences)"
   ]
  },
  {
   "cell_type": "code",
   "execution_count": 7,
   "metadata": {},
   "outputs": [],
   "source": [
    "sequences_path = '/home/jovyan/work'"
   ]
  },
  {
   "cell_type": "code",
   "execution_count": 8,
   "metadata": {},
   "outputs": [],
   "source": [
    "fixed_sequences_path = os.path.join(sequences_path, 'fixed-voxcon-test-sequences.npy')"
   ]
  },
  {
   "cell_type": "code",
   "execution_count": 9,
   "metadata": {},
   "outputs": [
    {
     "data": {
      "text/plain": [
       "'/home/jovyan/work/fixed-voxcon-test-sequences.npy'"
      ]
     },
     "execution_count": 9,
     "metadata": {},
     "output_type": "execute_result"
    }
   ],
   "source": [
    "fixed_sequences_path"
   ]
  },
  {
   "cell_type": "code",
   "execution_count": null,
   "metadata": {},
   "outputs": [
    {
     "name": "stdout",
     "output_type": "stream",
     "text": [
      "aepyx\n",
      "aiqwk\n",
      "bjruf\n",
      "bmsyn\n",
      "bxcfq\n",
      "byapz\n",
      "clfcg\n",
      "cqfmj\n",
      "crylr\n",
      "cvofp\n",
      "dgvwu\n",
      "dohag\n",
      "dxbbt\n",
      "dzsef\n",
      "eauve\n",
      "eazeq\n",
      "eguui\n",
      "epygx\n",
      "eqsta\n",
      "euqef\n",
      "fijfi\n",
      "fpfvy\n",
      "fqrnu\n",
      "fxnwf\n",
      "fyqoe\n",
      "gcfwp\n",
      "gtjow\n",
      "gtnjb\n",
      "gukoa\n",
      "guvqf\n",
      "gylzn\n",
      "gyomp\n",
      "hcyak\n",
      "heolf\n",
      "hhepf\n",
      "ibrnm\n",
      "ifwki\n",
      "iiprr\n",
      "ikhje\n",
      "jdrwl\n",
      "jjkrt\n",
      "jjvkx\n",
      "jrfaz\n",
      "jsbdo\n",
      "jttar\n",
      "jxpom\n",
      "jzkzt\n",
      "kajfh\n",
      "kmunk\n",
      "kpjud\n",
      "ktvto\n",
      "kvkje\n",
      "lbfnx\n",
      "ledhe\n",
      "lilfy\n",
      "ljpes\n",
      "lkikz\n",
      "lpola\n",
      "lscfc\n",
      "ltgmz\n",
      "lubpm\n",
      "luobn\n",
      "mjmgr\n",
      "msbyq\n",
      "mupzb\n",
      "myjoe\n",
      "nlvdr\n",
      "nprxc\n",
      "ocfop\n",
      "ofbxh\n",
      "olzkb\n",
      "ooxlj\n",
      "oqwpd\n",
      "otmpf\n",
      "ouvtt\n",
      "poucc\n",
      "ppexo\n",
      "pwnsw\n",
      "qadia\n",
      "qeejz\n",
      "qlrry\n",
      "qwepo\n",
      "rarij\n",
      "rmvsh\n",
      "rxulz\n",
      "sebyw\n",
      "sexgc\n",
      "sfdvy\n",
      "svxzm\n",
      "tkybe\n",
      "tpslg\n",
      "uedkc\n",
      "uqxlg\n",
      "usqam\n",
      "vncid\n",
      "vylyk\n",
      "vzuru\n",
      "wdvva\n",
      "wemos\n",
      "wprog\n",
      "wwzsk\n",
      "xggbk\n",
      "xkgos\n",
      "xlyov\n",
      "xmyyy\n",
      "xqxkt\n",
      "xtdcl\n",
      "xtzoq\n",
      "xvxwv\n",
      "ybhwz\n",
      "ylzez\n",
      "ytmef\n",
      "yukhy\n",
      "yzvon\n",
      "zedtj\n",
      "zfzlc\n",
      "zowse\n",
      "zqidv\n",
      "zztbo\n",
      "ralnu\n",
      "uicid\n",
      "laoyl\n",
      "jxydp\n",
      "pzxit\n",
      "upshw\n",
      "gfneh\n",
      "kzmyi\n",
      "nkqzr\n",
      "kgjaa\n",
      "dkabn\n",
      "eucfa\n",
      "erslt\n",
      "mclsr\n",
      "fzwtp\n",
      "dzxut\n",
      "pkwrt\n",
      "gmmwm\n",
      "leneg\n",
      "sxqvt\n",
      "pgtkk\n",
      "fuzfh\n",
      "vtzqw\n",
      "rsypp\n",
      "qxana\n",
      "optsn\n",
      "dxokr\n",
      "ptses\n",
      "isxwc\n",
      "gzhwb\n",
      "mhwyr\n",
      "duvox\n",
      "ezxso\n",
      "jgiyq\n",
      "rpkso\n",
      "kmjvh\n",
      "wcxfk\n",
      "gcvrb\n",
      "eddje\n",
      "pccww\n",
      "vuewy\n",
      "tvtoe\n",
      "oubab\n",
      "jwggf\n",
      "aggyz\n",
      "bidnq\n",
      "neiye\n",
      "mkhie\n",
      "iowob\n",
      "jbowg\n",
      "gwloo\n",
      "uevxo\n",
      "nitgx\n",
      "eoyaz\n",
      "qoarn\n",
      "mxdpo\n",
      "auzru\n",
      "diysk\n",
      "cwbvu\n",
      "jeymh\n",
      "iacod\n",
      "cawnd\n",
      "vgaez\n",
      "bgvvt\n",
      "tiido\n",
      "aorju\n",
      "qajyo\n",
      "ryken\n",
      "iabca\n",
      "tkhgs\n",
      "tbjqx\n",
      "mqtep\n",
      "fowhl\n",
      "fvhrk\n",
      "nqcpi\n",
      "mbzht\n",
      "uhfrw\n",
      "utial\n",
      "cpebh\n",
      "tnjoh\n",
      "jsymf\n",
      "vgevv\n",
      "mxduo\n",
      "gkiki\n",
      "bvyvm\n",
      "hqhrb\n",
      "isrps\n",
      "nqyqm\n",
      "dlast\n",
      "pxqme\n",
      "bpzsc\n",
      "vdlvr\n",
      "lhuly\n",
      "crorm\n",
      "bvqnu\n",
      "tpnyf\n",
      "thnuq\n",
      "swbnm\n",
      "cadba\n",
      "sbrmv\n",
      "wibky\n",
      "wlfsf\n",
      "wwvcs\n",
      "xffsa\n",
      "xkmqx\n",
      "xlsme\n",
      "ygrip\n",
      "ylgug\n",
      "ytula\n",
      "zehzu\n",
      "zsgto\n",
      "zzsba\n",
      "zzyyo\n",
      "foi\n",
      "mais\n"
     ]
    }
   ],
   "source": [
    "# Delete the removed segments from the sequences\n",
    "\n",
    "fixed_sequences = []\n",
    "for audio_id, sequence in zip(audio_ids, original_sequences):\n",
    "    fixed_sequence = np.delete(sequence, removed_segments[audio_id], 0)\n",
    "    print(audio_id)\n",
    "    fixed_sequences.append(fixed_sequence)\n",
    "\n",
    "print('foi')\n",
    "fixed_sequences_path = os.path.join(sequences_path, 'fixed-voxcon-test-sequences.npy')\n",
    "print('mais')\n",
    "np.save(fixed_sequences_path, fixed_sequences)"
   ]
  },
  {
   "cell_type": "code",
   "execution_count": 6,
   "metadata": {
    "collapsed": true
   },
   "outputs": [
    {
     "data": {
      "image/png": "[encoded data removed]",
      "text/plain": [
       "<pyannote.core.annotation.Annotation at 0x7fc29b5176d8>"
      ]
     },
     "execution_count": 6,
     "metadata": {},
     "output_type": "execute_result"
    }
   ],
   "source": [
    "audio_id=audio_ids[1]\n",
    "pyannote_rttm = load_pyannote_rttm(rttm_files[audio_id])[audio_id]\n",
    "\n",
    "pyannote_rttm"
   ]
  },
  {
   "cell_type": "code",
   "execution_count": 8,
   "metadata": {
    "collapsed": true
   },
   "outputs": [
    {
     "data": {
      "image/png": "[encoded data removed]",
      "text/plain": [
       "<pyannote.core.annotation.Annotation at 0x7fc29b6a11d0>"
      ]
     },
     "execution_count": 8,
     "metadata": {},
     "output_type": "execute_result"
    }
   ],
   "source": [
    "pyannote_annotations[audio_id]"
   ]
  },
  {
   "cell_type": "code",
   "execution_count": null,
   "metadata": {},
   "outputs": [],
   "source": [
    "# turns.sort(key=getOnsets)\n",
    "# for turn in turns:\n",
    "#     print(turn)"
   ]
  },
  {
   "cell_type": "code",
   "execution_count": null,
   "metadata": {},
   "outputs": [],
   "source": [
    "# for audio_id, rttm_path in rttm_files.items():\n",
    "#     _, speakers, _ = load_rttm(rttm_files.get(audio_id))\n",
    "#     print(audio_id, len(speakers))"
   ]
  },
  {
   "cell_type": "code",
   "execution_count": null,
   "metadata": {},
   "outputs": [],
   "source": [
    "# turns, _, _ = load_rttm(rttm_files.get(audio_id))\n",
    "# for turn in turns:\n",
    "#     print(turn)"
   ]
  },
  {
   "cell_type": "code",
   "execution_count": null,
   "metadata": {},
   "outputs": [],
   "source": []
  }
 ],
 "metadata": {
  "kernelspec": {
   "display_name": "Python 3",
   "language": "python",
   "name": "python3"
  },
  "language_info": {
   "codemirror_mode": {
    "name": "ipython",
    "version": 3
   },
   "file_extension": ".py",
   "mimetype": "text/x-python",
   "name": "python",
   "nbconvert_exporter": "python",
   "pygments_lexer": "ipython3",
   "version": "3.7.3"
  }
 },
 "nbformat": 4,
 "nbformat_minor": 2
}

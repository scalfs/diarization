{
 "cells": [
  {
   "cell_type": "code",
   "execution_count": 8,
   "metadata": {},
   "outputs": [
    {
     "name": "stderr",
     "output_type": "stream",
     "text": [
      "Using cache found in /home/jovyan/.cache/torch/hub/pyannote_pyannote-audio_master\n"
     ]
    },
    {
     "name": "stdout",
     "output_type": "stream",
     "text": [
      "Embedding has dimension 512.\n"
     ]
    },
    {
     "name": "stderr",
     "output_type": "stream",
     "text": [
      "Using cache found in /home/jovyan/.cache/torch/hub/pyannote_pyannote-audio_master\n"
     ]
    }
   ],
   "source": [
    "import torch\n",
    "from pyannote.database import get_protocol, FileFinder\n",
    "\n",
    "emb = torch.hub.load('pyannote/pyannote-audio', 'emb')\n",
    "sad = torch.hub.load('pyannote/pyannote-audio', 'sad_dihard')\n",
    "print(f'Embedding has dimension {emb.dimension:d}.')"
   ]
  },
  {
   "cell_type": "code",
   "execution_count": 2,
   "metadata": {},
   "outputs": [],
   "source": [
    "preprocessors = {'audio': FileFinder()}\n",
    "# protocol = get_protocol('VOXSRC21.SpeakerDiarization.Challenge', preprocessors=preprocessors)\n",
    "protocol = get_protocol('VOXCON.SpeakerDiarization.VoxConverse', preprocessors=preprocessors)"
   ]
  },
  {
   "cell_type": "code",
   "execution_count": 3,
   "metadata": {
    "collapsed": true
   },
   "outputs": [
    {
     "name": "stdout",
     "output_type": "stream",
     "text": [
      "aepyx 20:21:26\n",
      "aepyx 20:21:40\n"
     ]
    }
   ],
   "source": [
    "import time\n",
    "\n",
    "test_file = next(protocol.test())\n",
    "uri = test_file['uri']\n",
    "embeddings = emb(test_file)\n",
    "# print(uri, time.strftime(\"%H:%M:%S\"))\n",
    "sad_scores = sad(test_file)\n",
    "# print(uri, time.strftime(\"%H:%M:%S\"))\n",
    "\n",
    "# chunks = embeddings.sliding_window\n",
    "# print(f'Embeddings were extracted every {1000 * chunks.step:g}ms on {1000 * chunks.duration:g}ms-long windows.')\n",
    "# print(embeddings.data.shape)"
   ]
  },
  {
   "cell_type": "code",
   "execution_count": 9,
   "metadata": {},
   "outputs": [],
   "source": [
    "# binarize raw SAD scores\n",
    "from pyannote.audio.utils.signal import Binarize\n",
    "# binarize = Binarize(offset=0.52, onset=0.52, log_scale=True, \n",
    "#                     min_duration_off=0.1, min_duration_on=0.1)\n",
    "binarize = Binarize(min_duration_off=0.6315121069334447, min_duration_on=0.0007366523493967721, offset=0.5727193137037349, onset=0.5842225805454029, log_scale=True)\n",
    "\n",
    "# speech regions (as `pyannote.core.Timeline` instance)\n",
    "speech = binarize.apply(sad_scores, dimension=1)"
   ]
  },
  {
   "cell_type": "code",
   "execution_count": 76,
   "metadata": {},
   "outputs": [
    {
     "data": {
      "text/plain": [
       "[<Segment(2.45534, 18.3347)>,\n",
       " <Segment(19.003, 27.103)>,\n",
       " <Segment(28.2167, 33.3838)>,\n",
       " <Segment(34.3947, 87.6167)>,\n",
       " <Segment(88.8064, 89.9353)>,\n",
       " <Segment(90.9141, 92.6185)>,\n",
       " <Segment(94.8409, 96.6567)>,\n",
       " <Segment(97.492, 99.6604)>,\n",
       " <Segment(100.349, 104.011)>,\n",
       " <Segment(105.141, 113.412)>,\n",
       " <Segment(114.07, 149.312)>,\n",
       " <Segment(149.951, 157.081)>,\n",
       " <Segment(158.051, 160.908)>,\n",
       " <Segment(162.768, 164.135)>,\n",
       " <Segment(165.935, 169.16)>]"
      ]
     },
     "execution_count": 76,
     "metadata": {},
     "output_type": "execute_result"
    }
   ],
   "source": [
    "segments=[s for s in speech if s.duration > 1]\n",
    "for segments in segments:\n",
    "    "
   ]
  },
  {
   "cell_type": "code",
   "execution_count": 29,
   "metadata": {},
   "outputs": [
    {
     "data": {
      "image/png": "[encoded data removed]",
      "text/plain": [
       "<Timeline(uri=None, segments=[<Segment(2.45534, 18.3347)>, <Segment(19.003, 27.103)>, <Segment(28.2167, 33.3838)>, <Segment(34.3947, 87.6167)>, <Segment(97.492, 99.6604)>, <Segment(100.349, 104.011)>, <Segment(105.141, 113.412)>, <Segment(114.07, 149.312)>, <Segment(149.951, 157.081)>, <Segment(158.051, 160.908)>, <Segment(165.935, 169.16)>])>"
      ]
     },
     "execution_count": 29,
     "metadata": {},
     "output_type": "execute_result"
    }
   ],
   "source": [
    "from pyannote.core import Timeline\n",
    "long_turns = Timeline(segments=[s for s in speech if s.duration > 2.])\n",
    "long_turns"
   ]
  },
  {
   "cell_type": "code",
   "execution_count": 40,
   "metadata": {},
   "outputs": [
    {
     "data": {
      "text/plain": [
       "(11, 512)"
      ]
     },
     "execution_count": 40,
     "metadata": {},
     "output_type": "execute_result"
    }
   ],
   "source": [
    "X.shape"
   ]
  },
  {
   "cell_type": "code",
   "execution_count": 44,
   "metadata": {},
   "outputs": [
    {
     "data": {
      "text/plain": [
       "['spk01',\n",
       " 'spk01',\n",
       " 'spk00',\n",
       " 'spk00',\n",
       " 'spk01',\n",
       " 'spk00',\n",
       " 'spk01',\n",
       " 'spk00',\n",
       " 'spk00',\n",
       " 'spk03',\n",
       " 'spk03']"
      ]
     },
     "execution_count": 44,
     "metadata": {},
     "output_type": "execute_result"
    }
   ],
   "source": [
    "Y"
   ]
  },
  {
   "cell_type": "code",
   "execution_count": 43,
   "metadata": {},
   "outputs": [
    {
     "name": "stdout",
     "output_type": "stream",
     "text": [
      "[ 00:00:02.455 -->  00:00:18.334]\n",
      "[ 00:00:19.002 -->  00:00:27.102]\n",
      "[ 00:00:28.216 -->  00:00:33.383]\n",
      "[ 00:00:34.394 -->  00:01:27.616]\n",
      "[ 00:01:37.491 -->  00:01:39.660]\n",
      "[ 00:01:40.348 -->  00:01:44.010]\n",
      "[ 00:01:45.141 -->  00:01:53.411]\n",
      "[ 00:01:54.069 -->  00:02:29.311]\n",
      "[ 00:02:29.951 -->  00:02:37.080]\n",
      "[ 00:02:38.051 -->  00:02:40.908]\n",
      "[ 00:02:45.935 -->  00:02:49.160]\n"
     ]
    }
   ],
   "source": [
    "X, Y = [], []\n",
    "for segment in long_turns:\n",
    "    print(segment)\n",
    "    # \"strict\" only keeps embedding strictly included in segment\n",
    "    x = embeddings.crop(segment, mode='center')\n",
    "    # average speech turn embedding\n",
    "    X.append(np.mean(x, axis=0))\n",
    "\n",
    "    # keep track of speaker label (for later scatter plot)\n",
    "    y = test_file['annotation'].argmax(segment)\n",
    "    Y.append(y)\n",
    "\n",
    "X = np.vstack(X)\n",
    "# _, y_true = np.unique(Y, return_inverse=True)\n"
   ]
  },
  {
   "cell_type": "code",
   "execution_count": 46,
   "metadata": {},
   "outputs": [
    {
     "data": {
      "text/plain": [
       "<matplotlib.collections.PathCollection at 0x7f823c462160>"
      ]
     },
     "execution_count": 46,
     "metadata": {},
     "output_type": "execute_result"
    },
    {
     "data": {
      "image/png": "[encoded data removed]",
      "text/plain": [
       "<Figure size 360x360 with 1 Axes>"
      ]
     },
     "metadata": {
      "needs_background": "light"
     },
     "output_type": "display_data"
    }
   ],
   "source": [
    "# apply tSNE on embeddings\n",
    "from sklearn.manifold import TSNE\n",
    "tsne = TSNE(n_components=2, metric=\"cosine\")\n",
    "X_2d = tsne.fit_transform(X)\n",
    "\n",
    "# plot \n",
    "fig, ax = plt.subplots()\n",
    "fig.set_figheight(5)\n",
    "fig.set_figwidth(5)\n",
    "plt.scatter(*X_2d.T, c=y_true)"
   ]
  },
  {
   "cell_type": "code",
   "execution_count": 34,
   "metadata": {},
   "outputs": [
    {
     "data": {
      "text/plain": [
       "512"
      ]
     },
     "execution_count": 34,
     "metadata": {},
     "output_type": "execute_result"
    }
   ],
   "source": []
  },
  {
   "cell_type": "code",
   "execution_count": 67,
   "metadata": {},
   "outputs": [
    {
     "data": {
      "text/plain": [
       "166"
      ]
     },
     "execution_count": 67,
     "metadata": {},
     "output_type": "execute_result"
    }
   ],
   "source": [
    "embeddings.sliding_window.samples(librosa.get_duration(utter, sr=16000))"
   ]
  },
  {
   "cell_type": "code",
   "execution_count": 31,
   "metadata": {},
   "outputs": [
    {
     "data": {
      "text/plain": [
       "169.152"
      ]
     },
     "execution_count": 31,
     "metadata": {},
     "output_type": "execute_result"
    }
   ],
   "source": [
    "import librosa\n",
    "audio_path = test_file['audio'].as_posix()\n",
    "utter, sr = librosa.core.load(audio_path, sr=16000) \n",
    "librosa.get_duration(utter, sr=16000)"
   ]
  },
  {
   "cell_type": "code",
   "execution_count": 55,
   "metadata": {},
   "outputs": [
    {
     "name": "stdout",
     "output_type": "stream",
     "text": [
      "0 1\n",
      "1 2\n",
      "2 3\n",
      "3 4\n",
      "4 5\n",
      "5 6\n",
      "6 7\n",
      "7 8\n",
      "8 9\n",
      "9 10\n",
      "10 11\n",
      "11 12\n",
      "12 13\n",
      "13 14\n",
      "14 15\n",
      "15 16\n",
      "16 17\n",
      "17 18\n",
      "18 19\n",
      "19 20\n",
      "20 21\n",
      "21 22\n",
      "22 23\n",
      "23 24\n",
      "24 25\n",
      "25 26\n",
      "26 27\n",
      "27 28\n",
      "28 29\n",
      "29 30\n",
      "30 31\n",
      "31 32\n",
      "32 33\n",
      "33 34\n",
      "34 35\n",
      "35 36\n",
      "36 37\n",
      "37 38\n",
      "38 39\n",
      "39 40\n",
      "40 41\n",
      "41 42\n",
      "42 43\n",
      "43 44\n",
      "44 45\n",
      "45 46\n",
      "46 47\n",
      "47 48\n",
      "48 49\n",
      "49 50\n",
      "50 51\n",
      "51 52\n",
      "52 53\n",
      "53 54\n",
      "54 55\n",
      "55 56\n",
      "56 57\n",
      "57 58\n",
      "58 59\n",
      "59 60\n",
      "60 61\n",
      "61 62\n",
      "62 63\n",
      "63 64\n",
      "64 65\n",
      "65 66\n",
      "66 67\n",
      "67 68\n",
      "68 69\n",
      "69 70\n",
      "70 71\n",
      "71 72\n",
      "72 73\n",
      "73 74\n",
      "74 75\n",
      "75 76\n",
      "76 77\n",
      "77 78\n",
      "78 79\n",
      "79 80\n",
      "80 81\n",
      "81 82\n",
      "82 83\n",
      "83 84\n",
      "84 85\n",
      "85 86\n",
      "86 87\n",
      "87 88\n",
      "88 89\n",
      "89 90\n",
      "90 91\n",
      "91 92\n",
      "92 93\n",
      "93 94\n",
      "94 95\n",
      "95 96\n",
      "96 97\n",
      "97 98\n",
      "98 99\n",
      "99 100\n",
      "100 101\n",
      "101 102\n",
      "102 103\n",
      "103 104\n",
      "104 105\n",
      "105 106\n",
      "106 107\n",
      "107 108\n",
      "108 109\n",
      "109 110\n",
      "110 111\n",
      "111 112\n",
      "112 113\n",
      "113 114\n",
      "114 115\n",
      "115 116\n",
      "116 117\n",
      "117 118\n",
      "118 119\n",
      "119 120\n",
      "120 121\n",
      "121 122\n",
      "122 123\n",
      "123 124\n",
      "124 125\n",
      "125 126\n",
      "126 127\n",
      "127 128\n",
      "128 129\n",
      "129 130\n",
      "130 131\n",
      "131 132\n",
      "132 133\n",
      "133 134\n",
      "134 135\n",
      "135 136\n",
      "136 137\n",
      "137 138\n",
      "138 139\n",
      "139 140\n",
      "140 141\n",
      "141 142\n",
      "142 143\n",
      "143 144\n",
      "144 145\n",
      "145 146\n",
      "146 147\n",
      "147 148\n",
      "148 149\n",
      "149 150\n",
      "150 151\n",
      "151 152\n",
      "152 153\n",
      "153 154\n",
      "154 155\n",
      "155 156\n",
      "156 157\n",
      "157 158\n",
      "158 159\n",
      "159 160\n",
      "160 161\n",
      "161 162\n",
      "162 163\n",
      "163 164\n",
      "164 165\n",
      "165 166\n",
      "166 167\n",
      "167 168\n",
      "168 169\n"
     ]
    }
   ],
   "source": [
    "import math\n",
    "for t in range(math.floor(librosa.get_duration(utter, sr=16000))):\n",
    "    print(t, t+1)"
   ]
  },
  {
   "cell_type": "code",
   "execution_count": null,
   "metadata": {},
   "outputs": [],
   "source": [
    "labels = configs.icassp2018_clusterer.predict(embeddings.data)\n",
    "\n",
    "\n",
    "annotation = Annotation()\n",
    "annotation.uri = test_file['uri']\n",
    "for idx, speaker_id in enumerate(labels):\n",
    "    segment = Segment(idx, idx+1)\n",
    "    annotation[segment] = speaker_id\n",
    "\n",
    "hypothesis = annotation.support()\n",
    "hypothesis"
   ]
  },
  {
   "cell_type": "code",
   "execution_count": null,
   "metadata": {},
   "outputs": [],
   "source": [
    "import numpy as np\n",
    "from IPython.display import display, clear_output\n",
    "from matplotlib import pyplot as plt\n",
    "from sklearn.manifold import TSNE\n",
    "\n",
    "X, Y = [], []\n",
    "\n",
    "fileIndex = 0\n",
    "\n",
    "embeddings = embs[fileIndex]\n",
    "length = len(embeddings)\n",
    "# rttm = list(protocol.test())[fileIndex][\"annotation\"]\n",
    "rttm = hypothesis\n",
    "\n",
    "for id, (window, embedding) in enumerate(embeddings):\n",
    "    # average speech turn embedding\n",
    "    X.append(np.nanmean(embedding, axis=0))\n",
    "\n",
    "    # keep track of speaker label (for later scatter plot)\n",
    "    y = rttm.argmax(window)\n",
    "    Y.append(y)\n",
    "    clear_output(wait=True)\n",
    "    display(f'{id+1} {100*(id+1)/length:g}%')\n",
    "\n",
    "X = np.vstack(X)\n",
    "_, y_true = np.unique(Y, return_inverse=True)\n",
    "\n",
    "tsne = TSNE(n_components=2, metric=\"cosine\")\n",
    "X_2d = tsne.fit_transform(X)\n",
    "\n",
    "# plot \n",
    "fig, ax = plt.subplots()\n",
    "fig.set_figheight(5)\n",
    "fig.set_figwidth(5)\n",
    "plt.clf()\n",
    "plt.scatter(*X_2d.T, c=y_true)"
   ]
  },
  {
   "cell_type": "code",
   "execution_count": 10,
   "metadata": {},
   "outputs": [
    {
     "data": {
      "text/plain": [
       "Text(0.5, 0.1, 'speech activity detection')"
      ]
     },
     "execution_count": 10,
     "metadata": {},
     "output_type": "execute_result"
    },
    {
     "data": {
      "image/png": "[encoded data removed]",
      "text/plain": [
       "<Figure size 1440x432 with 3 Axes>"
      ]
     },
     "metadata": {
      "needs_background": "light"
     },
     "output_type": "display_data"
    }
   ],
   "source": [
    "# let's visualize SAD, SCD and OVL results using pyannote.core visualization API\n",
    "import numpy as np\n",
    "from matplotlib import pyplot as plt\n",
    "from pyannote.core import Segment, notebook\n",
    "from pyannote.core import SlidingWindowFeature\n",
    "\n",
    "# helper function to make visualization prettier\n",
    "plot_ready = lambda scores: SlidingWindowFeature(np.exp(scores.data[:, 1:]), scores.sliding_window)\n",
    "\n",
    "# create a figure with 8 rows with matplotlib\n",
    "nrows = 3\n",
    "fig, ax = plt.subplots(nrows=nrows, ncols=1)\n",
    "fig.set_figwidth(20)\n",
    "fig.set_figheight(nrows * 2)\n",
    "\n",
    "# 1st row: reference annotation\n",
    "notebook.plot_annotation(test_file['annotation'], ax=ax[0], time=False)\n",
    "ax[0].text(notebook.crop.start + 0.5, 0.1, 'reference', fontsize=14)\n",
    "\n",
    "\n",
    "# 2nd row: SAD raw scores\n",
    "notebook.plot_feature(plot_ready(sad_scores), ax=ax[1], time=False)\n",
    "ax[1].text(notebook.crop.start + 0.5, 0.1, 'speech activity\\ndetection scores', fontsize=14)\n",
    "ax[1].set_ylim(-0.1, 1.1)\n",
    "\n",
    "# 3rd row: SAD result\n",
    "notebook.plot_timeline(speech, ax=ax[2], time=False)\n",
    "ax[2].text(notebook.crop.start + 0.5, 0.1, 'speech activity detection', fontsize=14)"
   ]
  },
  {
   "cell_type": "code",
   "execution_count": null,
   "metadata": {},
   "outputs": [],
   "source": [
    "# for resource in protocol.test():\n",
    "#     print(resource[\"audio\"])\n",
    "#     print(resource[\"uri\"])\n",
    "\n",
    "# test_file = next(protocol.test())\n",
    "# test_file[\"audio\"]\n",
    "\n",
    "###########################################\n",
    "\n",
    "# sw = SlidingWindow(duration=4, step=1, start=0.0, end=len(embeddings))\n",
    "\n",
    "# for segment in sw:\n",
    "#     # \"strict\" only keeps embedding strictly included in segment\n",
    "#     x = embeddings.crop(segment, mode='strict')\n",
    "\n",
    "############################################\n",
    "\n",
    "# from pyannote.core import Segment\n",
    "# import numpy as np\n",
    "\n",
    "# for id, (window, emb) in enumerate(embeddings):\n",
    "#     print(window, emb)\n",
    "#     assert isinstance(window, Segment)\n",
    "#     assert isinstance(emb, np.ndarray)"
   ]
  }
 ],
 "metadata": {
  "interpreter": {
   "hash": "31f2aee4e71d21fbe5cf8b01ff0e069b9275f58929596ceb00d14d90e3e16cd6"
  },
  "kernelspec": {
   "display_name": "Python 3",
   "language": "python",
   "name": "python3"
  },
  "language_info": {
   "codemirror_mode": {
    "name": "ipython",
    "version": 3
   },
   "file_extension": ".py",
   "mimetype": "text/x-python",
   "name": "python",
   "nbconvert_exporter": "python",
   "pygments_lexer": "ipython3",
   "version": "3.7.3"
  }
 },
 "nbformat": 4,
 "nbformat_minor": 2
}

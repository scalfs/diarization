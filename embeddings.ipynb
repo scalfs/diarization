{
 "cells": [
  {
   "cell_type": "code",
   "execution_count": 12,
   "metadata": {
    "collapsed": true
   },
   "outputs": [
    {
     "name": "stdout",
     "output_type": "stream",
     "text": [
      "Requirement already satisfied: q in /opt/conda/lib/python3.9/site-packages (2.6)\n",
      "Requirement already satisfied: pyannote.audio in /opt/conda/lib/python3.9/site-packages (1.1.2)\n",
      "Requirement already satisfied: pyannote.core in /opt/conda/lib/python3.9/site-packages (4.1)\n",
      "Requirement already satisfied: pyannote.database>=4.0 in /opt/conda/lib/python3.9/site-packages (from pyannote.audio) (4.1)\n",
      "Requirement already satisfied: scikit-learn>=0.20.2 in /opt/conda/lib/python3.9/site-packages (from pyannote.audio) (0.24.2)\n",
      "Requirement already satisfied: librosa>=0.8.0 in /opt/conda/lib/python3.9/site-packages (from pyannote.audio) (0.8.1)\n",
      "Requirement already satisfied: sortedcollections>=1.0.1 in /opt/conda/lib/python3.9/site-packages (from pyannote.audio) (2.1.0)\n",
      "Requirement already satisfied: sortedcontainers>=2.0.4 in /opt/conda/lib/python3.9/site-packages (from pyannote.audio) (2.4.0)\n",
      "Requirement already satisfied: tqdm>=4.29.1 in /opt/conda/lib/python3.9/site-packages (from pyannote.audio) (4.61.2)\n",
      "Requirement already satisfied: Pillow>=6.2.1 in /opt/conda/lib/python3.9/site-packages (from pyannote.audio) (8.3.1)\n",
      "Requirement already satisfied: soundfile>=0.10.2 in /opt/conda/lib/python3.9/site-packages (from pyannote.audio) (0.10.3.post1)\n",
      "Requirement already satisfied: pandas>=0.18.0 in /opt/conda/lib/python3.9/site-packages (from pyannote.audio) (1.3.0)\n",
      "Requirement already satisfied: pyannote.pipeline<2.0.0,>=1.5.2 in /opt/conda/lib/python3.9/site-packages (from pyannote.audio) (1.5.2)\n",
      "Requirement already satisfied: pyYAML>=3.12 in /opt/conda/lib/python3.9/site-packages (from pyannote.audio) (5.4.1)\n",
      "Requirement already satisfied: tensorboard>=2.0.0 in /opt/conda/lib/python3.9/site-packages (from pyannote.audio) (2.5.0)\n",
      "Requirement already satisfied: pescador>=2.1.0 in /opt/conda/lib/python3.9/site-packages (from pyannote.audio) (2.1.0)\n",
      "Requirement already satisfied: cachetools>=2.0.0 in /opt/conda/lib/python3.9/site-packages (from pyannote.audio) (4.2.2)\n",
      "Requirement already satisfied: pyannote.metrics>=2.3 in /opt/conda/lib/python3.9/site-packages (from pyannote.audio) (3.0.1)\n",
      "Requirement already satisfied: scipy>=1.1 in /opt/conda/lib/python3.9/site-packages (from pyannote.core) (1.7.0)\n",
      "Requirement already satisfied: typing-extensions>=3.7.4.1 in /opt/conda/lib/python3.9/site-packages (from pyannote.core) (3.10.0.0)\n",
      "Requirement already satisfied: matplotlib>=2.0.0 in /opt/conda/lib/python3.9/site-packages (from pyannote.core) (3.4.2)\n",
      "Requirement already satisfied: numpy>=1.10.4 in /opt/conda/lib/python3.9/site-packages (from pyannote.core) (1.21.1)\n",
      "Requirement already satisfied: simplejson>=3.8.1 in /opt/conda/lib/python3.9/site-packages (from pyannote.core) (3.17.3)\n",
      "Requirement already satisfied: joblib>=0.14 in /opt/conda/lib/python3.9/site-packages (from librosa>=0.8.0->pyannote.audio) (1.0.1)\n",
      "Requirement already satisfied: packaging>=20.0 in /opt/conda/lib/python3.9/site-packages (from librosa>=0.8.0->pyannote.audio) (21.0)\n",
      "Requirement already satisfied: numba>=0.43.0 in /opt/conda/lib/python3.9/site-packages (from librosa>=0.8.0->pyannote.audio) (0.53.1)\n",
      "Requirement already satisfied: resampy>=0.2.2 in /opt/conda/lib/python3.9/site-packages (from librosa>=0.8.0->pyannote.audio) (0.2.2)\n",
      "Requirement already satisfied: decorator>=3.0.0 in /opt/conda/lib/python3.9/site-packages (from librosa>=0.8.0->pyannote.audio) (5.0.9)\n",
      "Requirement already satisfied: pooch>=1.0 in /opt/conda/lib/python3.9/site-packages (from librosa>=0.8.0->pyannote.audio) (1.4.0)\n",
      "Requirement already satisfied: audioread>=2.0.0 in /opt/conda/lib/python3.9/site-packages (from librosa>=0.8.0->pyannote.audio) (2.1.9)\n",
      "Requirement already satisfied: kiwisolver>=1.0.1 in /opt/conda/lib/python3.9/site-packages (from matplotlib>=2.0.0->pyannote.core) (1.3.1)\n",
      "Requirement already satisfied: python-dateutil>=2.7 in /opt/conda/lib/python3.9/site-packages (from matplotlib>=2.0.0->pyannote.core) (2.8.2)\n",
      "Requirement already satisfied: pyparsing>=2.2.1 in /opt/conda/lib/python3.9/site-packages (from matplotlib>=2.0.0->pyannote.core) (2.4.7)\n",
      "Requirement already satisfied: cycler>=0.10 in /opt/conda/lib/python3.9/site-packages (from matplotlib>=2.0.0->pyannote.core) (0.10.0)\n",
      "Requirement already satisfied: six in /opt/conda/lib/python3.9/site-packages (from cycler>=0.10->matplotlib>=2.0.0->pyannote.core) (1.16.0)\n",
      "Requirement already satisfied: setuptools in /opt/conda/lib/python3.9/site-packages (from numba>=0.43.0->librosa>=0.8.0->pyannote.audio) (49.6.0.post20210108)\n",
      "Requirement already satisfied: llvmlite<0.37,>=0.36.0rc1 in /opt/conda/lib/python3.9/site-packages (from numba>=0.43.0->librosa>=0.8.0->pyannote.audio) (0.36.0)\n",
      "Requirement already satisfied: pytz>=2017.3 in /opt/conda/lib/python3.9/site-packages (from pandas>=0.18.0->pyannote.audio) (2021.1)\n",
      "Requirement already satisfied: pyzmq>=15.0 in /opt/conda/lib/python3.9/site-packages (from pescador>=2.1.0->pyannote.audio) (22.1.0)\n",
      "Requirement already satisfied: appdirs in /opt/conda/lib/python3.9/site-packages (from pooch>=1.0->librosa>=0.8.0->pyannote.audio) (1.4.4)\n",
      "Requirement already satisfied: requests in /opt/conda/lib/python3.9/site-packages (from pooch>=1.0->librosa>=0.8.0->pyannote.audio) (2.26.0)\n",
      "Requirement already satisfied: typer[all]>=0.2.1 in /opt/conda/lib/python3.9/site-packages (from pyannote.database>=4.0->pyannote.audio) (0.3.2)\n",
      "Requirement already satisfied: tabulate>=0.7.7 in /opt/conda/lib/python3.9/site-packages (from pyannote.metrics>=2.3->pyannote.audio) (0.8.9)\n",
      "Requirement already satisfied: docopt>=0.6.2 in /opt/conda/lib/python3.9/site-packages (from pyannote.metrics>=2.3->pyannote.audio) (0.6.2)\n",
      "Requirement already satisfied: sympy>=1.1 in /opt/conda/lib/python3.9/site-packages (from pyannote.metrics>=2.3->pyannote.audio) (1.8)\n",
      "Requirement already satisfied: optuna>=1.4 in /opt/conda/lib/python3.9/site-packages (from pyannote.pipeline<2.0.0,>=1.5.2->pyannote.audio) (2.8.0)\n",
      "Requirement already satisfied: filelock>=3.0.10 in /opt/conda/lib/python3.9/site-packages (from pyannote.pipeline<2.0.0,>=1.5.2->pyannote.audio) (3.0.12)\n",
      "Requirement already satisfied: alembic in /opt/conda/lib/python3.9/site-packages (from optuna>=1.4->pyannote.pipeline<2.0.0,>=1.5.2->pyannote.audio) (1.6.5)\n",
      "Requirement already satisfied: cmaes>=0.8.2 in /opt/conda/lib/python3.9/site-packages (from optuna>=1.4->pyannote.pipeline<2.0.0,>=1.5.2->pyannote.audio) (0.8.2)\n",
      "Requirement already satisfied: cliff in /opt/conda/lib/python3.9/site-packages (from optuna>=1.4->pyannote.pipeline<2.0.0,>=1.5.2->pyannote.audio) (3.8.0)\n",
      "Requirement already satisfied: colorlog in /opt/conda/lib/python3.9/site-packages (from optuna>=1.4->pyannote.pipeline<2.0.0,>=1.5.2->pyannote.audio) (5.0.1)\n",
      "Requirement already satisfied: sqlalchemy>=1.1.0 in /opt/conda/lib/python3.9/site-packages (from optuna>=1.4->pyannote.pipeline<2.0.0,>=1.5.2->pyannote.audio) (1.4.21)\n",
      "Requirement already satisfied: threadpoolctl>=2.0.0 in /opt/conda/lib/python3.9/site-packages (from scikit-learn>=0.20.2->pyannote.audio) (2.2.0)\n",
      "Requirement already satisfied: cffi>=1.0 in /opt/conda/lib/python3.9/site-packages (from soundfile>=0.10.2->pyannote.audio) (1.14.6)\n",
      "Requirement already satisfied: pycparser in /opt/conda/lib/python3.9/site-packages (from cffi>=1.0->soundfile>=0.10.2->pyannote.audio) (2.20)\n",
      "Requirement already satisfied: greenlet!=0.4.17 in /opt/conda/lib/python3.9/site-packages (from sqlalchemy>=1.1.0->optuna>=1.4->pyannote.pipeline<2.0.0,>=1.5.2->pyannote.audio) (1.1.0)\n",
      "Requirement already satisfied: mpmath>=0.19 in /opt/conda/lib/python3.9/site-packages (from sympy>=1.1->pyannote.metrics>=2.3->pyannote.audio) (1.2.1)\n",
      "Requirement already satisfied: tensorboard-plugin-wit>=1.6.0 in /opt/conda/lib/python3.9/site-packages (from tensorboard>=2.0.0->pyannote.audio) (1.8.0)\n",
      "Requirement already satisfied: markdown>=2.6.8 in /opt/conda/lib/python3.9/site-packages (from tensorboard>=2.0.0->pyannote.audio) (3.3.4)\n",
      "Requirement already satisfied: protobuf>=3.6.0 in /opt/conda/lib/python3.9/site-packages (from tensorboard>=2.0.0->pyannote.audio) (3.17.2)\n",
      "Requirement already satisfied: google-auth-oauthlib<0.5,>=0.4.1 in /opt/conda/lib/python3.9/site-packages (from tensorboard>=2.0.0->pyannote.audio) (0.4.4)\n",
      "Requirement already satisfied: google-auth<2,>=1.6.3 in /opt/conda/lib/python3.9/site-packages (from tensorboard>=2.0.0->pyannote.audio) (1.33.1)\n",
      "Requirement already satisfied: grpcio>=1.24.3 in /opt/conda/lib/python3.9/site-packages (from tensorboard>=2.0.0->pyannote.audio) (1.39.0)\n",
      "Requirement already satisfied: werkzeug>=0.11.15 in /opt/conda/lib/python3.9/site-packages (from tensorboard>=2.0.0->pyannote.audio) (2.0.1)\n",
      "Requirement already satisfied: wheel>=0.26 in /opt/conda/lib/python3.9/site-packages (from tensorboard>=2.0.0->pyannote.audio) (0.36.2)\n",
      "Requirement already satisfied: tensorboard-data-server<0.7.0,>=0.6.0 in /opt/conda/lib/python3.9/site-packages (from tensorboard>=2.0.0->pyannote.audio) (0.6.1)\n",
      "Requirement already satisfied: absl-py>=0.4 in /opt/conda/lib/python3.9/site-packages (from tensorboard>=2.0.0->pyannote.audio) (0.13.0)\n",
      "Requirement already satisfied: pyasn1-modules>=0.2.1 in /opt/conda/lib/python3.9/site-packages (from google-auth<2,>=1.6.3->tensorboard>=2.0.0->pyannote.audio) (0.2.8)\n"
     ]
    },
    {
     "name": "stdout",
     "output_type": "stream",
     "text": [
      "Requirement already satisfied: rsa<5,>=3.1.4 in /opt/conda/lib/python3.9/site-packages (from google-auth<2,>=1.6.3->tensorboard>=2.0.0->pyannote.audio) (4.7.2)\n",
      "Requirement already satisfied: requests-oauthlib>=0.7.0 in /opt/conda/lib/python3.9/site-packages (from google-auth-oauthlib<0.5,>=0.4.1->tensorboard>=2.0.0->pyannote.audio) (1.3.0)\n",
      "Requirement already satisfied: pyasn1<0.5.0,>=0.4.6 in /opt/conda/lib/python3.9/site-packages (from pyasn1-modules>=0.2.1->google-auth<2,>=1.6.3->tensorboard>=2.0.0->pyannote.audio) (0.4.8)\n",
      "Requirement already satisfied: urllib3<1.27,>=1.21.1 in /opt/conda/lib/python3.9/site-packages (from requests->pooch>=1.0->librosa>=0.8.0->pyannote.audio) (1.26.6)\n",
      "Requirement already satisfied: charset-normalizer~=2.0.0 in /opt/conda/lib/python3.9/site-packages (from requests->pooch>=1.0->librosa>=0.8.0->pyannote.audio) (2.0.0)\n",
      "Requirement already satisfied: idna<4,>=2.5 in /opt/conda/lib/python3.9/site-packages (from requests->pooch>=1.0->librosa>=0.8.0->pyannote.audio) (3.1)\n",
      "Requirement already satisfied: certifi>=2017.4.17 in /opt/conda/lib/python3.9/site-packages (from requests->pooch>=1.0->librosa>=0.8.0->pyannote.audio) (2021.5.30)\n",
      "Requirement already satisfied: oauthlib>=3.0.0 in /opt/conda/lib/python3.9/site-packages (from requests-oauthlib>=0.7.0->google-auth-oauthlib<0.5,>=0.4.1->tensorboard>=2.0.0->pyannote.audio) (3.1.1)\n",
      "Requirement already satisfied: click<7.2.0,>=7.1.1 in /opt/conda/lib/python3.9/site-packages (from typer[all]>=0.2.1->pyannote.database>=4.0->pyannote.audio) (7.1.2)\n",
      "Requirement already satisfied: colorama<0.5.0,>=0.4.3 in /opt/conda/lib/python3.9/site-packages (from typer[all]>=0.2.1->pyannote.database>=4.0->pyannote.audio) (0.4.4)\n",
      "Requirement already satisfied: shellingham<2.0.0,>=1.3.0 in /opt/conda/lib/python3.9/site-packages (from typer[all]>=0.2.1->pyannote.database>=4.0->pyannote.audio) (1.4.0)\n",
      "Requirement already satisfied: python-editor>=0.3 in /opt/conda/lib/python3.9/site-packages (from alembic->optuna>=1.4->pyannote.pipeline<2.0.0,>=1.5.2->pyannote.audio) (1.0.4)\n",
      "Requirement already satisfied: Mako in /opt/conda/lib/python3.9/site-packages (from alembic->optuna>=1.4->pyannote.pipeline<2.0.0,>=1.5.2->pyannote.audio) (1.1.4)\n",
      "Requirement already satisfied: stevedore>=2.0.1 in /opt/conda/lib/python3.9/site-packages (from cliff->optuna>=1.4->pyannote.pipeline<2.0.0,>=1.5.2->pyannote.audio) (3.3.0)\n",
      "Requirement already satisfied: cmd2>=1.0.0 in /opt/conda/lib/python3.9/site-packages (from cliff->optuna>=1.4->pyannote.pipeline<2.0.0,>=1.5.2->pyannote.audio) (2.1.2)\n",
      "Requirement already satisfied: PrettyTable>=0.7.2 in /opt/conda/lib/python3.9/site-packages (from cliff->optuna>=1.4->pyannote.pipeline<2.0.0,>=1.5.2->pyannote.audio) (2.1.0)\n",
      "Requirement already satisfied: pbr!=2.1.0,>=2.0.0 in /opt/conda/lib/python3.9/site-packages (from cliff->optuna>=1.4->pyannote.pipeline<2.0.0,>=1.5.2->pyannote.audio) (5.6.0)\n",
      "Requirement already satisfied: pyperclip>=1.6 in /opt/conda/lib/python3.9/site-packages (from cmd2>=1.0.0->cliff->optuna>=1.4->pyannote.pipeline<2.0.0,>=1.5.2->pyannote.audio) (1.8.2)\n",
      "Requirement already satisfied: attrs>=16.3.0 in /opt/conda/lib/python3.9/site-packages (from cmd2>=1.0.0->cliff->optuna>=1.4->pyannote.pipeline<2.0.0,>=1.5.2->pyannote.audio) (21.2.0)\n",
      "Requirement already satisfied: wcwidth>=0.1.7 in /opt/conda/lib/python3.9/site-packages (from cmd2>=1.0.0->cliff->optuna>=1.4->pyannote.pipeline<2.0.0,>=1.5.2->pyannote.audio) (0.2.5)\n",
      "Requirement already satisfied: MarkupSafe>=0.9.2 in /opt/conda/lib/python3.9/site-packages (from Mako->alembic->optuna>=1.4->pyannote.pipeline<2.0.0,>=1.5.2->pyannote.audio) (2.0.1)\n"
     ]
    }
   ],
   "source": [
    "# !pip install pyannote.audio"
   ]
  },
  {
   "cell_type": "code",
   "execution_count": 16,
   "metadata": {},
   "outputs": [
    {
     "name": "stderr",
     "output_type": "stream",
     "text": [
      "Using cache found in /home/jovyan/.cache/torch/hub/pyannote_pyannote-audio_master\n"
     ]
    },
    {
     "name": "stdout",
     "output_type": "stream",
     "text": [
      "Embedding has dimension 512.\n"
     ]
    }
   ],
   "source": [
    "import torch\n",
    "\n",
    "emb = torch.hub.load('pyannote/pyannote-audio', 'emb')\n",
    "print(f'Embedding has dimension {emb.dimension:d}.')"
   ]
  },
  {
   "cell_type": "code",
   "execution_count": null,
   "metadata": {},
   "outputs": [],
   "source": [
    "from pyannote.database import get_protocol, FileFinder\n",
    "\n",
    "preprocessors = {'audio': FileFinder()}\n",
    "protocol = get_protocol('VOXCON.SpeakerDiarization.Sample', preprocessors=preprocessors)\n",
    "\n",
    "# for resource in protocol.test():\n",
    "#     print(resource[\"uri\"])"
   ]
  },
  {
   "cell_type": "markdown",
   "metadata": {},
   "source": [
    "Verificar se o test_file está mudando\n",
    "Estamos obtendo embeddings diferentes (plots) mas todos de mesmo tamanho"
   ]
  },
  {
   "cell_type": "code",
   "execution_count": null,
   "metadata": {},
   "outputs": [],
   "source": [
    "test_file = next(protocol.test())\n",
    "\n",
    "embeddings = emb(test_file)\n",
    "\n",
    "chunks = embeddings.sliding_window\n",
    "print(f'Embeddings were extracted every {1000 * chunks.step:g}ms on {1000 * chunks.duration:g}ms-long windows.')"
   ]
  },
  {
   "cell_type": "code",
   "execution_count": 96,
   "metadata": {},
   "outputs": [],
   "source": [
    "# sw = SlidingWindow(duration=4, step=1, start=0.0, end=len(embeddings))\n",
    "\n",
    "# for segment in sw:\n",
    "#     # \"strict\" only keeps embedding strictly included in segment\n",
    "#     x = embeddings.crop(segment, mode='strict')"
   ]
  },
  {
   "cell_type": "code",
   "execution_count": 106,
   "metadata": {},
   "outputs": [
    {
     "data": {
      "text/plain": [
       "'66 100%'"
      ]
     },
     "metadata": {},
     "output_type": "display_data"
    }
   ],
   "source": [
    "import numpy as np\n",
    "from IPython.display import display, clear_output\n",
    "from pyannote.core import SlidingWindow\n",
    "\n",
    "X, Y = [], []\n",
    "length = len(embeddings)\n",
    "print(length)\n",
    "\n",
    "for id, embedding in enumerate(embeddings):\n",
    "    segment = embedding[0]\n",
    "    x = embedding[1]\n",
    "    # average speech turn embedding\n",
    "    X.append(np.nanmean(x, axis=0))\n",
    "\n",
    "    # keep track of speaker label (for later scatter plot)\n",
    "    y = test_file['annotation'].argmax(segment)\n",
    "    Y.append(y)\n",
    "    clear_output(wait=True)\n",
    "    display(f'{id+1} {100*(id+1)/length:g}%')\n",
    "\n",
    "X = np.vstack(X)\n",
    "_, y_true = np.unique(Y, return_inverse=True)"
   ]
  },
  {
   "cell_type": "code",
   "execution_count": 107,
   "metadata": {},
   "outputs": [
    {
     "name": "stderr",
     "output_type": "stream",
     "text": [
      "/opt/conda/lib/python3.9/site-packages/sklearn/manifold/_t_sne.py:691: FutureWarning: 'square_distances' has been introduced in 0.24 to help phase out legacy squaring behavior. The 'legacy' setting will be removed in 1.1 (renaming of 0.26), and the default setting will be changed to True. In 1.3, 'square_distances' will be removed altogether, and distances will be squared by default. Set 'square_distances'=True to silence this warning.\n",
      "  warnings.warn(\n"
     ]
    },
    {
     "data": {
      "text/plain": [
       "<matplotlib.collections.PathCollection at 0x7fac91ab6820>"
      ]
     },
     "execution_count": 107,
     "metadata": {},
     "output_type": "execute_result"
    },
    {
     "data": {
      "image/png": "[encoded data removed]",
      "text/plain": [
       "<Figure size 360x360 with 1 Axes>"
      ]
     },
     "metadata": {
      "needs_background": "light"
     },
     "output_type": "display_data"
    }
   ],
   "source": [
    "from matplotlib import pyplot as plt\n",
    "from sklearn.manifold import TSNE\n",
    "tsne = TSNE(n_components=2, metric=\"cosine\")\n",
    "X_2d = tsne.fit_transform(X)\n",
    "\n",
    "# plot \n",
    "fig, ax = plt.subplots()\n",
    "fig.set_figheight(5)\n",
    "fig.set_figwidth(5)\n",
    "plt.scatter(*X_2d.T, c=y_true)"
   ]
  }
 ],
 "metadata": {
  "interpreter": {
   "hash": "31f2aee4e71d21fbe5cf8b01ff0e069b9275f58929596ceb00d14d90e3e16cd6"
  },
  "kernelspec": {
   "display_name": "Python 3 (ipykernel)",
   "language": "python",
   "name": "python3"
  },
  "language_info": {
   "codemirror_mode": {
    "name": "ipython",
    "version": 3
   },
   "file_extension": ".py",
   "mimetype": "text/x-python",
   "name": "python",
   "nbconvert_exporter": "python",
   "pygments_lexer": "ipython3",
   "version": "3.9.5"
  }
 },
 "nbformat": 4,
 "nbformat_minor": 2
}

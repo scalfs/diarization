{
 "cells": [
  {
   "cell_type": "code",
   "execution_count": 2,
   "metadata": {},
   "outputs": [],
   "source": [
    "import os, pickle\n",
    "import logging\n",
    "from collections import defaultdict\n",
    "import librosa\n",
    "import numpy as np\n",
    "import matplotlib.pyplot as plt\n",
    "# from configuration import get_config\n",
    "# from utils import keyword_spot\n"
   ]
  },
  {
   "cell_type": "code",
   "execution_count": 3,
   "metadata": {},
   "outputs": [
    {
     "name": "stdout",
     "output_type": "stream",
     "text": [
      "Log path: /home/jovyan/work/voxsrc21-dia/data-prep/logs/data-prep-voxceleb-1.log\n"
     ]
    }
   ],
   "source": [
    "dataset_name = 'voxceleb-1'\n",
    "data_path = '/home/jovyan/work/datasets/voxceleb-1/sample/wav'\n",
    "save_path = \"/home/jovyan/work/datasets/vctk-vox1n2-libri-npy\"\n",
    "# Create log dir if not exists\n",
    "os.makedirs('logs', exist_ok=True)\n",
    "log_file = f'logs/data-prep-{dataset_name}.log'\n",
    "os.makedirs(save_path, exist_ok=True)\n",
    "# Structure /aac/id0551/videoid/audio.mp4\n",
    "logging.basicConfig(\n",
    "    filename=log_file,\n",
    "    level=logging.DEBUG,\n",
    "    format=\"%(asctime)s:%(levelname)s:%(message)s\"\n",
    "    )\n",
    "print(f'Log path: {os.path.abspath(log_file)}')\n",
    "logging.info(f'Data path: {data_path}\\nSave path: {save_path}')"
   ]
  },
  {
   "cell_type": "code",
   "execution_count": 4,
   "metadata": {},
   "outputs": [
    {
     "name": "stdout",
     "output_type": "stream",
     "text": [
      "Unique file extensions: {'.wav'}\n"
     ]
    }
   ],
   "source": [
    "\n",
    "all_unique_extensions = []\n",
    "all_files = defaultdict(list)\n",
    "for base_id in os.listdir(data_path):\n",
    "#     print(f'Base id: {base_id}')\n",
    "    for video_id in os.listdir(os.path.join(data_path, base_id)):\n",
    "#         print(f'Base id: {base_id} Video id: {video_id}')\n",
    "        if video_id.startswith('.'): #hidden folders\n",
    "            continue;\n",
    "        for audio_id in os.listdir(os.path.join(data_path, base_id, video_id)):\n",
    "#             print(f'Base id: {base_id} Video id: {video_id} Audio id: {audio_id}')\n",
    "            all_unique_extensions.append(os.path.splitext(audio_id)[1])\n",
    "            if os.path.splitext(audio_id)[1] == '.wav':\n",
    "                # append the file path and save path to all_files\n",
    "                all_files[base_id].append(os.path.join(data_path, base_id, video_id, audio_id))\n",
    "            else:\n",
    "                print(f'Wrong file type in {os.path.join(data_path, base_id, video_id, audio_id)}')\n",
    "print(f'Unique file extensions: {set(all_unique_extensions)}')"
   ]
  },
  {
   "cell_type": "code",
   "execution_count": 12,
   "metadata": {},
   "outputs": [
    {
     "name": "stdout",
     "output_type": "stream",
     "text": [
      "Number of utterences: 19\n"
     ]
    }
   ],
   "source": [
    "print(f'Number of utterences: {len(all_files)}')"
   ]
  },
  {
   "cell_type": "code",
   "execution_count": 18,
   "metadata": {
    "collapsed": true
   },
   "outputs": [
    {
     "name": "stdout",
     "output_type": "stream",
     "text": [
      "id10001 ['/home/jovyan/work/datasets/voxceleb-1/sample/wav/id10001/1zcIwhmdeo4/00001.wav', '/home/jovyan/work/datasets/voxceleb-1/sample/wav/id10001/1zcIwhmdeo4/00002.wav', '/home/jovyan/work/datasets/voxceleb-1/sample/wav/id10001/1zcIwhmdeo4/00003.wav', '/home/jovyan/work/datasets/voxceleb-1/sample/wav/id10001/7gWzIy6yIIk/00001.wav', '/home/jovyan/work/datasets/voxceleb-1/sample/wav/id10001/7gWzIy6yIIk/00002.wav', '/home/jovyan/work/datasets/voxceleb-1/sample/wav/id10001/7gWzIy6yIIk/00003.wav', '/home/jovyan/work/datasets/voxceleb-1/sample/wav/id10001/7gWzIy6yIIk/00004.wav', '/home/jovyan/work/datasets/voxceleb-1/sample/wav/id10001/7w0IBEWc9Qw/00001.wav', '/home/jovyan/work/datasets/voxceleb-1/sample/wav/id10001/7w0IBEWc9Qw/00002.wav', '/home/jovyan/work/datasets/voxceleb-1/sample/wav/id10001/7w0IBEWc9Qw/00003.wav', '/home/jovyan/work/datasets/voxceleb-1/sample/wav/id10001/7w0IBEWc9Qw/00004.wav', '/home/jovyan/work/datasets/voxceleb-1/sample/wav/id10001/7w0IBEWc9Qw/00005.wav', '/home/jovyan/work/datasets/voxceleb-1/sample/wav/id10001/7w0IBEWc9Qw/00006.wav', '/home/jovyan/work/datasets/voxceleb-1/sample/wav/id10001/7w0IBEWc9Qw/00007.wav', '/home/jovyan/work/datasets/voxceleb-1/sample/wav/id10001/7w0IBEWc9Qw/00008.wav', '/home/jovyan/work/datasets/voxceleb-1/sample/wav/id10001/7w0IBEWc9Qw/00009.wav', '/home/jovyan/work/datasets/voxceleb-1/sample/wav/id10001/7w0IBEWc9Qw/00010.wav', '/home/jovyan/work/datasets/voxceleb-1/sample/wav/id10001/9mQ11vBs1wc/00001.wav', '/home/jovyan/work/datasets/voxceleb-1/sample/wav/id10001/9mQ11vBs1wc/00002.wav', '/home/jovyan/work/datasets/voxceleb-1/sample/wav/id10001/9mQ11vBs1wc/00003.wav', '/home/jovyan/work/datasets/voxceleb-1/sample/wav/id10001/9mQ11vBs1wc/00004.wav', '/home/jovyan/work/datasets/voxceleb-1/sample/wav/id10001/DtdEYdViWdw/00001.wav', '/home/jovyan/work/datasets/voxceleb-1/sample/wav/id10001/DtdEYdViWdw/00002.wav', '/home/jovyan/work/datasets/voxceleb-1/sample/wav/id10001/DtdEYdViWdw/00003.wav', '/home/jovyan/work/datasets/voxceleb-1/sample/wav/id10001/J9lHsKG98U8/00001.wav', '/home/jovyan/work/datasets/voxceleb-1/sample/wav/id10001/J9lHsKG98U8/00002.wav', '/home/jovyan/work/datasets/voxceleb-1/sample/wav/id10001/J9lHsKG98U8/00003.wav', '/home/jovyan/work/datasets/voxceleb-1/sample/wav/id10001/J9lHsKG98U8/00004.wav', '/home/jovyan/work/datasets/voxceleb-1/sample/wav/id10001/J9lHsKG98U8/00005.wav', '/home/jovyan/work/datasets/voxceleb-1/sample/wav/id10001/J9lHsKG98U8/00006.wav', '/home/jovyan/work/datasets/voxceleb-1/sample/wav/id10001/J9lHsKG98U8/00007.wav', '/home/jovyan/work/datasets/voxceleb-1/sample/wav/id10001/J9lHsKG98U8/00008.wav', '/home/jovyan/work/datasets/voxceleb-1/sample/wav/id10001/J9lHsKG98U8/00009.wav', '/home/jovyan/work/datasets/voxceleb-1/sample/wav/id10001/J9lHsKG98U8/00010.wav', '/home/jovyan/work/datasets/voxceleb-1/sample/wav/id10001/J9lHsKG98U8/00011.wav', '/home/jovyan/work/datasets/voxceleb-1/sample/wav/id10001/J9lHsKG98U8/00012.wav', '/home/jovyan/work/datasets/voxceleb-1/sample/wav/id10001/J9lHsKG98U8/00013.wav', '/home/jovyan/work/datasets/voxceleb-1/sample/wav/id10001/J9lHsKG98U8/00014.wav', '/home/jovyan/work/datasets/voxceleb-1/sample/wav/id10001/J9lHsKG98U8/00015.wav', '/home/jovyan/work/datasets/voxceleb-1/sample/wav/id10001/J9lHsKG98U8/00016.wav', '/home/jovyan/work/datasets/voxceleb-1/sample/wav/id10001/J9lHsKG98U8/00017.wav', '/home/jovyan/work/datasets/voxceleb-1/sample/wav/id10001/J9lHsKG98U8/00018.wav', '/home/jovyan/work/datasets/voxceleb-1/sample/wav/id10001/J9lHsKG98U8/00019.wav', '/home/jovyan/work/datasets/voxceleb-1/sample/wav/id10001/J9lHsKG98U8/00020.wav', '/home/jovyan/work/datasets/voxceleb-1/sample/wav/id10001/J9lHsKG98U8/00021.wav', '/home/jovyan/work/datasets/voxceleb-1/sample/wav/id10001/J9lHsKG98U8/00022.wav', '/home/jovyan/work/datasets/voxceleb-1/sample/wav/id10001/J9lHsKG98U8/00023.wav', '/home/jovyan/work/datasets/voxceleb-1/sample/wav/id10001/J9lHsKG98U8/00024.wav', '/home/jovyan/work/datasets/voxceleb-1/sample/wav/id10001/J9lHsKG98U8/00025.wav', '/home/jovyan/work/datasets/voxceleb-1/sample/wav/id10001/J9lHsKG98U8/00026.wav', '/home/jovyan/work/datasets/voxceleb-1/sample/wav/id10001/Y8hIVOBuels/00001.wav', '/home/jovyan/work/datasets/voxceleb-1/sample/wav/id10001/Y8hIVOBuels/00002.wav', '/home/jovyan/work/datasets/voxceleb-1/sample/wav/id10001/Y8hIVOBuels/00003.wav', '/home/jovyan/work/datasets/voxceleb-1/sample/wav/id10001/Y8hIVOBuels/00004.wav', '/home/jovyan/work/datasets/voxceleb-1/sample/wav/id10001/Y8hIVOBuels/00005.wav', '/home/jovyan/work/datasets/voxceleb-1/sample/wav/id10001/Y8hIVOBuels/00006.wav', '/home/jovyan/work/datasets/voxceleb-1/sample/wav/id10001/Y8hIVOBuels/00007.wav', '/home/jovyan/work/datasets/voxceleb-1/sample/wav/id10001/Y8hIVOBuels/00008.wav', '/home/jovyan/work/datasets/voxceleb-1/sample/wav/id10001/Y8hIVOBuels/00009.wav', '/home/jovyan/work/datasets/voxceleb-1/sample/wav/id10001/Y8hIVOBuels/00010.wav', '/home/jovyan/work/datasets/voxceleb-1/sample/wav/id10001/eWIX7sfn-M0/00001.wav', '/home/jovyan/work/datasets/voxceleb-1/sample/wav/id10001/utrA-v8pPm4/00001.wav', '/home/jovyan/work/datasets/voxceleb-1/sample/wav/id10001/zELwAz2W6hM/00001.wav', '/home/jovyan/work/datasets/voxceleb-1/sample/wav/id10001/zELwAz2W6hM/00002.wav', '/home/jovyan/work/datasets/voxceleb-1/sample/wav/id10001/zELwAz2W6hM/00003.wav', '/home/jovyan/work/datasets/voxceleb-1/sample/wav/id10001/zELwAz2W6hM/00004.wav', '/home/jovyan/work/datasets/voxceleb-1/sample/wav/id10001/zELwAz2W6hM/00005.wav', '/home/jovyan/work/datasets/voxceleb-1/sample/wav/id10001/zELwAz2W6hM/00006.wav', '/home/jovyan/work/datasets/voxceleb-1/sample/wav/id10001/zELwAz2W6hM/00007.wav', '/home/jovyan/work/datasets/voxceleb-1/sample/wav/id10001/zELwAz2W6hM/00008.wav', '/home/jovyan/work/datasets/voxceleb-1/sample/wav/id10001/zELwAz2W6hM/00009.wav', '/home/jovyan/work/datasets/voxceleb-1/sample/wav/id10001/zELwAz2W6hM/00010.wav', '/home/jovyan/work/datasets/voxceleb-1/sample/wav/id10001/zELwAz2W6hM/00011.wav', '/home/jovyan/work/datasets/voxceleb-1/sample/wav/id10001/zELwAz2W6hM/00012.wav', '/home/jovyan/work/datasets/voxceleb-1/sample/wav/id10001/zELwAz2W6hM/00013.wav', '/home/jovyan/work/datasets/voxceleb-1/sample/wav/id10001/zELwAz2W6hM/00014.wav', '/home/jovyan/work/datasets/voxceleb-1/sample/wav/id10001/zELwAz2W6hM/00015.wav']\n"
     ]
    }
   ],
   "source": [
    "for k, v in all_files.items():\n",
    "    print(k, v)\n",
    "    break"
   ]
  },
  {
   "cell_type": "code",
   "execution_count": 17,
   "metadata": {
    "collapsed": true
   },
   "outputs": [
    {
     "name": "stdout",
     "output_type": "stream",
     "text": [
      "id10001 /home/jovyan/work/datasets/voxceleb-1/sample/wav/id10001\n",
      "id10002 /home/jovyan/work/datasets/voxceleb-1/sample/wav/id10002\n",
      "id10003 /home/jovyan/work/datasets/voxceleb-1/sample/wav/id10003\n",
      "id10004 /home/jovyan/work/datasets/voxceleb-1/sample/wav/id10004\n",
      "id10005 /home/jovyan/work/datasets/voxceleb-1/sample/wav/id10005\n",
      "id10006 /home/jovyan/work/datasets/voxceleb-1/sample/wav/id10006\n",
      "id10007 /home/jovyan/work/datasets/voxceleb-1/sample/wav/id10007\n",
      "id10008 /home/jovyan/work/datasets/voxceleb-1/sample/wav/id10008\n",
      "id10009 /home/jovyan/work/datasets/voxceleb-1/sample/wav/id10009\n",
      "id10010 /home/jovyan/work/datasets/voxceleb-1/sample/wav/id10010\n",
      "id10011 /home/jovyan/work/datasets/voxceleb-1/sample/wav/id10011\n",
      "id10012 /home/jovyan/work/datasets/voxceleb-1/sample/wav/id10012\n",
      "id10013 /home/jovyan/work/datasets/voxceleb-1/sample/wav/id10013\n",
      "id10014 /home/jovyan/work/datasets/voxceleb-1/sample/wav/id10014\n",
      "id10015 /home/jovyan/work/datasets/voxceleb-1/sample/wav/id10015\n",
      "id10016 /home/jovyan/work/datasets/voxceleb-1/sample/wav/id10016\n",
      "id10017 /home/jovyan/work/datasets/voxceleb-1/sample/wav/id10017\n",
      "id10018 /home/jovyan/work/datasets/voxceleb-1/sample/wav/id10018\n",
      "id10019 /home/jovyan/work/datasets/voxceleb-1/sample/wav/id10019\n"
     ]
    }
   ],
   "source": [
    "for folder in os.listdir(data_path):\n",
    "        speakerid = folder\n",
    "        folder = os.path.join(data_path, folder)\n",
    "        print(speakerid, folder)"
   ]
  },
  {
   "cell_type": "code",
   "execution_count": 8,
   "metadata": {},
   "outputs": [
    {
     "data": {
      "text/plain": [
       "'/home/jovyan/work/datasets/voxceleb-1/sample/wav/id10001/1zcIwhmdeo4/00001.wav'"
      ]
     },
     "execution_count": 8,
     "metadata": {},
     "output_type": "execute_result"
    }
   ],
   "source": [
    "all_files['id10001'][0]"
   ]
  }
 ],
 "metadata": {
  "kernelspec": {
   "display_name": "Python 3 (ipykernel)",
   "language": "python",
   "name": "python3"
  },
  "language_info": {
   "codemirror_mode": {
    "name": "ipython",
    "version": 3
   },
   "file_extension": ".py",
   "mimetype": "text/x-python",
   "name": "python",
   "nbconvert_exporter": "python",
   "pygments_lexer": "ipython3",
   "version": "3.9.5"
  }
 },
 "nbformat": 4,
 "nbformat_minor": 2
}

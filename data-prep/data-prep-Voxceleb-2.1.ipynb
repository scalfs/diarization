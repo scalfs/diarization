{
 "cells": [
  {
   "cell_type": "code",
   "execution_count": 1,
   "metadata": {},
   "outputs": [],
   "source": [
    "import os, pickle\n",
    "import logging\n",
    "from collections import defaultdict\n",
    "import librosa\n",
    "import numpy as np\n",
    "import matplotlib.pyplot as plt\n",
    "# from configuration import get_config\n",
    "# from utils import keyword_spot\n"
   ]
  },
  {
   "cell_type": "code",
   "execution_count": 2,
   "metadata": {},
   "outputs": [
    {
     "name": "stdout",
     "output_type": "stream",
     "text": [
      "Log path: /home/jovyan/work/voxsrc21-dia/data-prep/logs/data-prep-voxceleb-2.log\n"
     ]
    }
   ],
   "source": [
    "dataset_name = 'voxceleb-2'\n",
    "data_path = '/home/jovyan/work/datasets/voxceleb-2/sample/aac'\n",
    "save_path = \"/home/jovyan/work/datasets/vctk-vox1n2-libri-npy\"\n",
    "# Create log dir if not exists\n",
    "os.makedirs('logs', exist_ok=True)\n",
    "log_file = f'logs/data-prep-{dataset_name}.log'\n",
    "os.makedirs(save_path, exist_ok=True)\n",
    "# Structure /aac/id0551/videoid/audio.mp4\n",
    "logging.basicConfig(\n",
    "    filename=log_file,\n",
    "    level=logging.DEBUG,\n",
    "    format=\"%(asctime)s:%(levelname)s:%(message)s\"\n",
    "    )\n",
    "print(f'Log path: {os.path.abspath(log_file)}')\n",
    "logging.info(f'Data path: {data_path}\\nSave path: {save_path}')"
   ]
  },
  {
   "cell_type": "code",
   "execution_count": 3,
   "metadata": {},
   "outputs": [
    {
     "name": "stdout",
     "output_type": "stream",
     "text": [
      "Unique file extensions: {'.m4a'}\n"
     ]
    }
   ],
   "source": [
    "\n",
    "all_unique_extensions = []\n",
    "all_files = defaultdict(list)\n",
    "for base_id in os.listdir(data_path):\n",
    "#     print(f'Base id: {base_id}')\n",
    "    for video_id in os.listdir(os.path.join(data_path, base_id)):\n",
    "#         print(f'Base id: {base_id} Video id: {video_id}')\n",
    "        for audio_id in os.listdir(os.path.join(data_path, \n",
    "                                                base_id, \n",
    "                                                video_id)):\n",
    "#             print(f'Base id: {base_id} Video id: {video_id} Audio id: {audio_id}')\n",
    "            all_unique_extensions.append(os.path.splitext(audio_id)[1])\n",
    "            if os.path.splitext(audio_id)[1] == '.m4a':\n",
    "                # append the file path and save path to all_files\n",
    "                all_files[base_id].append(os.path.join(data_path, base_id, video_id, audio_id))\n",
    "            else:\n",
    "                print(f'Wrong file type in {os.path.join(data_path, base_id, video_id, audio_id)}')\n",
    "print(f'Unique file extensions: {set(all_unique_extensions)}')"
   ]
  },
  {
   "cell_type": "code",
   "execution_count": 4,
   "metadata": {},
   "outputs": [
    {
     "name": "stdout",
     "output_type": "stream",
     "text": [
      "Number of utterences: 18\n"
     ]
    }
   ],
   "source": [
    "print(f'Number of utterences: {len(all_files)}')"
   ]
  },
  {
   "cell_type": "code",
   "execution_count": 5,
   "metadata": {},
   "outputs": [
    {
     "name": "stdout",
     "output_type": "stream",
     "text": [
      "id01000 ['/home/jovyan/work/datasets/voxceleb-2/sample/aac/id01000/0lmrq0quo9M/00001.m4a', '/home/jovyan/work/datasets/voxceleb-2/sample/aac/id01000/0lmrq0quo9M/00002.m4a', '/home/jovyan/work/datasets/voxceleb-2/sample/aac/id01000/1jmivUh2rNU/00003.m4a', '/home/jovyan/work/datasets/voxceleb-2/sample/aac/id01000/1jmivUh2rNU/00004.m4a', '/home/jovyan/work/datasets/voxceleb-2/sample/aac/id01000/1jmivUh2rNU/00005.m4a', '/home/jovyan/work/datasets/voxceleb-2/sample/aac/id01000/7eYakM6qrTs/00006.m4a', '/home/jovyan/work/datasets/voxceleb-2/sample/aac/id01000/7eYakM6qrTs/00007.m4a', '/home/jovyan/work/datasets/voxceleb-2/sample/aac/id01000/7eYakM6qrTs/00008.m4a', '/home/jovyan/work/datasets/voxceleb-2/sample/aac/id01000/7eYakM6qrTs/00009.m4a', '/home/jovyan/work/datasets/voxceleb-2/sample/aac/id01000/7eYakM6qrTs/00010.m4a', '/home/jovyan/work/datasets/voxceleb-2/sample/aac/id01000/7eYakM6qrTs/00011.m4a', '/home/jovyan/work/datasets/voxceleb-2/sample/aac/id01000/7eYakM6qrTs/00012.m4a', '/home/jovyan/work/datasets/voxceleb-2/sample/aac/id01000/9DTbOatVbw4/00013.m4a', '/home/jovyan/work/datasets/voxceleb-2/sample/aac/id01000/9DTbOatVbw4/00014.m4a', '/home/jovyan/work/datasets/voxceleb-2/sample/aac/id01000/9DTbOatVbw4/00015.m4a', '/home/jovyan/work/datasets/voxceleb-2/sample/aac/id01000/9DTbOatVbw4/00016.m4a', '/home/jovyan/work/datasets/voxceleb-2/sample/aac/id01000/C93EOPOzqRA/00017.m4a', '/home/jovyan/work/datasets/voxceleb-2/sample/aac/id01000/CspIoS3ZZy4/00018.m4a', '/home/jovyan/work/datasets/voxceleb-2/sample/aac/id01000/CspIoS3ZZy4/00019.m4a', '/home/jovyan/work/datasets/voxceleb-2/sample/aac/id01000/CspIoS3ZZy4/00020.m4a', '/home/jovyan/work/datasets/voxceleb-2/sample/aac/id01000/CspIoS3ZZy4/00021.m4a', '/home/jovyan/work/datasets/voxceleb-2/sample/aac/id01000/CspIoS3ZZy4/00022.m4a', '/home/jovyan/work/datasets/voxceleb-2/sample/aac/id01000/CspIoS3ZZy4/00023.m4a', '/home/jovyan/work/datasets/voxceleb-2/sample/aac/id01000/CspIoS3ZZy4/00024.m4a', '/home/jovyan/work/datasets/voxceleb-2/sample/aac/id01000/CspIoS3ZZy4/00025.m4a', '/home/jovyan/work/datasets/voxceleb-2/sample/aac/id01000/Fl8US1mgdKE/00026.m4a', '/home/jovyan/work/datasets/voxceleb-2/sample/aac/id01000/Fl8US1mgdKE/00027.m4a', '/home/jovyan/work/datasets/voxceleb-2/sample/aac/id01000/KLnDf1zjMjc/00028.m4a', '/home/jovyan/work/datasets/voxceleb-2/sample/aac/id01000/KLnDf1zjMjc/00029.m4a', '/home/jovyan/work/datasets/voxceleb-2/sample/aac/id01000/KLnDf1zjMjc/00030.m4a', '/home/jovyan/work/datasets/voxceleb-2/sample/aac/id01000/KLnDf1zjMjc/00031.m4a', '/home/jovyan/work/datasets/voxceleb-2/sample/aac/id01000/KLnDf1zjMjc/00032.m4a', '/home/jovyan/work/datasets/voxceleb-2/sample/aac/id01000/KLnDf1zjMjc/00033.m4a', '/home/jovyan/work/datasets/voxceleb-2/sample/aac/id01000/KLnDf1zjMjc/00034.m4a', '/home/jovyan/work/datasets/voxceleb-2/sample/aac/id01000/KLnDf1zjMjc/00035.m4a', '/home/jovyan/work/datasets/voxceleb-2/sample/aac/id01000/KLnDf1zjMjc/00036.m4a', '/home/jovyan/work/datasets/voxceleb-2/sample/aac/id01000/KLnDf1zjMjc/00037.m4a', '/home/jovyan/work/datasets/voxceleb-2/sample/aac/id01000/KLnDf1zjMjc/00038.m4a', '/home/jovyan/work/datasets/voxceleb-2/sample/aac/id01000/KLnDf1zjMjc/00039.m4a', '/home/jovyan/work/datasets/voxceleb-2/sample/aac/id01000/KLnDf1zjMjc/00040.m4a', '/home/jovyan/work/datasets/voxceleb-2/sample/aac/id01000/KLnDf1zjMjc/00041.m4a', '/home/jovyan/work/datasets/voxceleb-2/sample/aac/id01000/KLnDf1zjMjc/00042.m4a', '/home/jovyan/work/datasets/voxceleb-2/sample/aac/id01000/OS2mUqhx-ko/00043.m4a', '/home/jovyan/work/datasets/voxceleb-2/sample/aac/id01000/RsZB8-YEt0I/00044.m4a', '/home/jovyan/work/datasets/voxceleb-2/sample/aac/id01000/RsZB8-YEt0I/00045.m4a', '/home/jovyan/work/datasets/voxceleb-2/sample/aac/id01000/RsZB8-YEt0I/00046.m4a', '/home/jovyan/work/datasets/voxceleb-2/sample/aac/id01000/RsZB8-YEt0I/00047.m4a', '/home/jovyan/work/datasets/voxceleb-2/sample/aac/id01000/RsZB8-YEt0I/00048.m4a', '/home/jovyan/work/datasets/voxceleb-2/sample/aac/id01000/RsZB8-YEt0I/00049.m4a', '/home/jovyan/work/datasets/voxceleb-2/sample/aac/id01000/RsZB8-YEt0I/00050.m4a', '/home/jovyan/work/datasets/voxceleb-2/sample/aac/id01000/RsZB8-YEt0I/00051.m4a', '/home/jovyan/work/datasets/voxceleb-2/sample/aac/id01000/RvjbLfo3XDM/00052.m4a', '/home/jovyan/work/datasets/voxceleb-2/sample/aac/id01000/RvjbLfo3XDM/00053.m4a', '/home/jovyan/work/datasets/voxceleb-2/sample/aac/id01000/RvjbLfo3XDM/00054.m4a', '/home/jovyan/work/datasets/voxceleb-2/sample/aac/id01000/RvjbLfo3XDM/00055.m4a', '/home/jovyan/work/datasets/voxceleb-2/sample/aac/id01000/RvjbLfo3XDM/00056.m4a', '/home/jovyan/work/datasets/voxceleb-2/sample/aac/id01000/RvjbLfo3XDM/00057.m4a', '/home/jovyan/work/datasets/voxceleb-2/sample/aac/id01000/RwdZkcM9J4s/00058.m4a', '/home/jovyan/work/datasets/voxceleb-2/sample/aac/id01000/RwdZkcM9J4s/00059.m4a', '/home/jovyan/work/datasets/voxceleb-2/sample/aac/id01000/TBmUwIYwbh0/00060.m4a', '/home/jovyan/work/datasets/voxceleb-2/sample/aac/id01000/TBmUwIYwbh0/00061.m4a', '/home/jovyan/work/datasets/voxceleb-2/sample/aac/id01000/YKnMlBt50wI/00062.m4a', '/home/jovyan/work/datasets/voxceleb-2/sample/aac/id01000/YXfD0Sx9O8Y/00063.m4a', '/home/jovyan/work/datasets/voxceleb-2/sample/aac/id01000/YXfD0Sx9O8Y/00064.m4a', '/home/jovyan/work/datasets/voxceleb-2/sample/aac/id01000/YXfD0Sx9O8Y/00065.m4a', '/home/jovyan/work/datasets/voxceleb-2/sample/aac/id01000/Yz1KCmgeLIc/00066.m4a', '/home/jovyan/work/datasets/voxceleb-2/sample/aac/id01000/Yz1KCmgeLIc/00067.m4a', '/home/jovyan/work/datasets/voxceleb-2/sample/aac/id01000/Yz1KCmgeLIc/00068.m4a', '/home/jovyan/work/datasets/voxceleb-2/sample/aac/id01000/ZGptvzM9U5k/00069.m4a', '/home/jovyan/work/datasets/voxceleb-2/sample/aac/id01000/ZGptvzM9U5k/00070.m4a', '/home/jovyan/work/datasets/voxceleb-2/sample/aac/id01000/ZGptvzM9U5k/00071.m4a', '/home/jovyan/work/datasets/voxceleb-2/sample/aac/id01000/_wrFoMLrznk/00072.m4a', '/home/jovyan/work/datasets/voxceleb-2/sample/aac/id01000/_wrFoMLrznk/00073.m4a', '/home/jovyan/work/datasets/voxceleb-2/sample/aac/id01000/_wrFoMLrznk/00074.m4a', '/home/jovyan/work/datasets/voxceleb-2/sample/aac/id01000/_wrFoMLrznk/00075.m4a', '/home/jovyan/work/datasets/voxceleb-2/sample/aac/id01000/_wrFoMLrznk/00076.m4a', '/home/jovyan/work/datasets/voxceleb-2/sample/aac/id01000/eGeGHhuOJJ0/00077.m4a', '/home/jovyan/work/datasets/voxceleb-2/sample/aac/id01000/eGeGHhuOJJ0/00078.m4a', '/home/jovyan/work/datasets/voxceleb-2/sample/aac/id01000/f-mjLyC1-4g/00079.m4a', '/home/jovyan/work/datasets/voxceleb-2/sample/aac/id01000/f-mjLyC1-4g/00080.m4a', '/home/jovyan/work/datasets/voxceleb-2/sample/aac/id01000/f-mjLyC1-4g/00081.m4a', '/home/jovyan/work/datasets/voxceleb-2/sample/aac/id01000/f-mjLyC1-4g/00082.m4a', '/home/jovyan/work/datasets/voxceleb-2/sample/aac/id01000/jiR910TySf0/00083.m4a', '/home/jovyan/work/datasets/voxceleb-2/sample/aac/id01000/jiR910TySf0/00084.m4a', '/home/jovyan/work/datasets/voxceleb-2/sample/aac/id01000/jiR910TySf0/00085.m4a', '/home/jovyan/work/datasets/voxceleb-2/sample/aac/id01000/lC9J8CcOsQU/00086.m4a', '/home/jovyan/work/datasets/voxceleb-2/sample/aac/id01000/lC9J8CcOsQU/00087.m4a', '/home/jovyan/work/datasets/voxceleb-2/sample/aac/id01000/lC9J8CcOsQU/00088.m4a', '/home/jovyan/work/datasets/voxceleb-2/sample/aac/id01000/lC9J8CcOsQU/00089.m4a', '/home/jovyan/work/datasets/voxceleb-2/sample/aac/id01000/le1irWE17hQ/00090.m4a', '/home/jovyan/work/datasets/voxceleb-2/sample/aac/id01000/oOXPEnnAPYk/00091.m4a', '/home/jovyan/work/datasets/voxceleb-2/sample/aac/id01000/rmTUCwB58NY/00092.m4a', '/home/jovyan/work/datasets/voxceleb-2/sample/aac/id01000/rmTUCwB58NY/00093.m4a', '/home/jovyan/work/datasets/voxceleb-2/sample/aac/id01000/rmTUCwB58NY/00094.m4a', '/home/jovyan/work/datasets/voxceleb-2/sample/aac/id01000/rmTUCwB58NY/00095.m4a', '/home/jovyan/work/datasets/voxceleb-2/sample/aac/id01000/rmTUCwB58NY/00096.m4a', '/home/jovyan/work/datasets/voxceleb-2/sample/aac/id01000/rmTUCwB58NY/00097.m4a', '/home/jovyan/work/datasets/voxceleb-2/sample/aac/id01000/v3rMmmfySg4/00098.m4a', '/home/jovyan/work/datasets/voxceleb-2/sample/aac/id01000/v3rMmmfySg4/00099.m4a', '/home/jovyan/work/datasets/voxceleb-2/sample/aac/id01000/v3rMmmfySg4/00100.m4a', '/home/jovyan/work/datasets/voxceleb-2/sample/aac/id01000/v3rMmmfySg4/00101.m4a', '/home/jovyan/work/datasets/voxceleb-2/sample/aac/id01000/w-heJCr7jto/00102.m4a', '/home/jovyan/work/datasets/voxceleb-2/sample/aac/id01000/w-heJCr7jto/00103.m4a', '/home/jovyan/work/datasets/voxceleb-2/sample/aac/id01000/w-heJCr7jto/00104.m4a', '/home/jovyan/work/datasets/voxceleb-2/sample/aac/id01000/w-heJCr7jto/00105.m4a', '/home/jovyan/work/datasets/voxceleb-2/sample/aac/id01000/w-heJCr7jto/00106.m4a', '/home/jovyan/work/datasets/voxceleb-2/sample/aac/id01000/w-heJCr7jto/00107.m4a', '/home/jovyan/work/datasets/voxceleb-2/sample/aac/id01000/w-heJCr7jto/00108.m4a', '/home/jovyan/work/datasets/voxceleb-2/sample/aac/id01000/w-heJCr7jto/00109.m4a', '/home/jovyan/work/datasets/voxceleb-2/sample/aac/id01000/w-heJCr7jto/00110.m4a', '/home/jovyan/work/datasets/voxceleb-2/sample/aac/id01000/w-heJCr7jto/00111.m4a', '/home/jovyan/work/datasets/voxceleb-2/sample/aac/id01000/w-heJCr7jto/00112.m4a', '/home/jovyan/work/datasets/voxceleb-2/sample/aac/id01000/w-heJCr7jto/00113.m4a', '/home/jovyan/work/datasets/voxceleb-2/sample/aac/id01000/w-heJCr7jto/00114.m4a', '/home/jovyan/work/datasets/voxceleb-2/sample/aac/id01000/w-heJCr7jto/00115.m4a', '/home/jovyan/work/datasets/voxceleb-2/sample/aac/id01000/w-heJCr7jto/00116.m4a', '/home/jovyan/work/datasets/voxceleb-2/sample/aac/id01000/w-heJCr7jto/00117.m4a', '/home/jovyan/work/datasets/voxceleb-2/sample/aac/id01000/w-heJCr7jto/00118.m4a', '/home/jovyan/work/datasets/voxceleb-2/sample/aac/id01000/w-heJCr7jto/00119.m4a', '/home/jovyan/work/datasets/voxceleb-2/sample/aac/id01000/w-heJCr7jto/00120.m4a', '/home/jovyan/work/datasets/voxceleb-2/sample/aac/id01000/w-heJCr7jto/00121.m4a', '/home/jovyan/work/datasets/voxceleb-2/sample/aac/id01000/w-heJCr7jto/00122.m4a', '/home/jovyan/work/datasets/voxceleb-2/sample/aac/id01000/w-heJCr7jto/00123.m4a', '/home/jovyan/work/datasets/voxceleb-2/sample/aac/id01000/w-heJCr7jto/00124.m4a', '/home/jovyan/work/datasets/voxceleb-2/sample/aac/id01000/w-heJCr7jto/00125.m4a', '/home/jovyan/work/datasets/voxceleb-2/sample/aac/id01000/w-heJCr7jto/00126.m4a', '/home/jovyan/work/datasets/voxceleb-2/sample/aac/id01000/w-heJCr7jto/00127.m4a', '/home/jovyan/work/datasets/voxceleb-2/sample/aac/id01000/w-heJCr7jto/00128.m4a', '/home/jovyan/work/datasets/voxceleb-2/sample/aac/id01000/w-heJCr7jto/00129.m4a', '/home/jovyan/work/datasets/voxceleb-2/sample/aac/id01000/w-heJCr7jto/00130.m4a', '/home/jovyan/work/datasets/voxceleb-2/sample/aac/id01000/w-heJCr7jto/00131.m4a', '/home/jovyan/work/datasets/voxceleb-2/sample/aac/id01000/w-heJCr7jto/00132.m4a', '/home/jovyan/work/datasets/voxceleb-2/sample/aac/id01000/w-heJCr7jto/00133.m4a', '/home/jovyan/work/datasets/voxceleb-2/sample/aac/id01000/w-heJCr7jto/00134.m4a', '/home/jovyan/work/datasets/voxceleb-2/sample/aac/id01000/w-heJCr7jto/00135.m4a', '/home/jovyan/work/datasets/voxceleb-2/sample/aac/id01000/w-heJCr7jto/00136.m4a', '/home/jovyan/work/datasets/voxceleb-2/sample/aac/id01000/w-heJCr7jto/00137.m4a', '/home/jovyan/work/datasets/voxceleb-2/sample/aac/id01000/w-heJCr7jto/00138.m4a', '/home/jovyan/work/datasets/voxceleb-2/sample/aac/id01000/w-heJCr7jto/00139.m4a', '/home/jovyan/work/datasets/voxceleb-2/sample/aac/id01000/w-heJCr7jto/00140.m4a', '/home/jovyan/work/datasets/voxceleb-2/sample/aac/id01000/w-heJCr7jto/00141.m4a', '/home/jovyan/work/datasets/voxceleb-2/sample/aac/id01000/w-heJCr7jto/00142.m4a', '/home/jovyan/work/datasets/voxceleb-2/sample/aac/id01000/w-heJCr7jto/00143.m4a', '/home/jovyan/work/datasets/voxceleb-2/sample/aac/id01000/w-heJCr7jto/00144.m4a', '/home/jovyan/work/datasets/voxceleb-2/sample/aac/id01000/w-heJCr7jto/00145.m4a', '/home/jovyan/work/datasets/voxceleb-2/sample/aac/id01000/w-heJCr7jto/00146.m4a', '/home/jovyan/work/datasets/voxceleb-2/sample/aac/id01000/w-heJCr7jto/00147.m4a', '/home/jovyan/work/datasets/voxceleb-2/sample/aac/id01000/w-heJCr7jto/00148.m4a', '/home/jovyan/work/datasets/voxceleb-2/sample/aac/id01000/xjC2r6OXgBo/00149.m4a', '/home/jovyan/work/datasets/voxceleb-2/sample/aac/id01000/xjC2r6OXgBo/00150.m4a', '/home/jovyan/work/datasets/voxceleb-2/sample/aac/id01000/yCKyUiCDAWQ/00151.m4a', '/home/jovyan/work/datasets/voxceleb-2/sample/aac/id01000/yCKyUiCDAWQ/00152.m4a', '/home/jovyan/work/datasets/voxceleb-2/sample/aac/id01000/yiFwTScQtMg/00153.m4a', '/home/jovyan/work/datasets/voxceleb-2/sample/aac/id01000/zHr3cREJJxs/00154.m4a']\n"
     ]
    }
   ],
   "source": [
    "for k, v in all_files.items():\n",
    "    print(k, v)\n",
    "    break"
   ]
  }
 ],
 "metadata": {
  "kernelspec": {
   "display_name": "Python 3 (ipykernel)",
   "language": "python",
   "name": "python3"
  },
  "language_info": {
   "codemirror_mode": {
    "name": "ipython",
    "version": 3
   },
   "file_extension": ".py",
   "mimetype": "text/x-python",
   "name": "python",
   "nbconvert_exporter": "python",
   "pygments_lexer": "ipython3",
   "version": "3.9.5"
  }
 },
 "nbformat": 4,
 "nbformat_minor": 2
}

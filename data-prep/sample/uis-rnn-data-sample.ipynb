{
 "cells": [
  {
   "cell_type": "markdown",
   "id": "bbafc04e",
   "metadata": {},
   "source": [
    "# Required datastructure for UIS-RNN training\n"
   ]
  },
  {
   "cell_type": "code",
   "execution_count": 1,
   "id": "b430e206",
   "metadata": {},
   "outputs": [],
   "source": [
    "import numpy as np"
   ]
  },
  {
   "cell_type": "code",
   "execution_count": 2,
   "id": "da5b3503",
   "metadata": {},
   "outputs": [],
   "source": [
    "# train_data = np.load('/datadrive/dalon/diarizer-dataset/VCTK-Corpus/vctk_training_data.npz') #'/datadrive/dalon/uis-rnn/data/training_data.npz')\n",
    "train_data = np.load('/home/jovyan/work/uis-rnn/data/toy_training_data.npz')\n",
    "test_data = np.load('/home/jovyan/work/uis-rnn/data/toy_testing_data.npz', allow_pickle=True)"
   ]
  },
  {
   "cell_type": "code",
   "execution_count": 3,
   "id": "dcdb38b6",
   "metadata": {},
   "outputs": [
    {
     "data": {
      "text/plain": [
       "numpy.lib.npyio.NpzFile"
      ]
     },
     "execution_count": 3,
     "metadata": {},
     "output_type": "execute_result"
    }
   ],
   "source": [
    "type(train_data)"
   ]
  },
  {
   "cell_type": "code",
   "execution_count": 4,
   "id": "a984f539",
   "metadata": {},
   "outputs": [
    {
     "data": {
      "text/plain": [
       "['train_sequence', 'train_cluster_id']"
      ]
     },
     "execution_count": 4,
     "metadata": {},
     "output_type": "execute_result"
    }
   ],
   "source": [
    "train_data.files"
   ]
  },
  {
   "cell_type": "code",
   "execution_count": 8,
   "id": "3b838fc0",
   "metadata": {},
   "outputs": [
    {
     "name": "stdout",
     "output_type": "stream",
     "text": [
      "train_sequence <class 'numpy.ndarray'>\n",
      "train_cluster_id <class 'numpy.ndarray'>\n"
     ]
    }
   ],
   "source": [
    "for keys in train_data:\n",
    "    print(keys, type(train_data[keys]))"
   ]
  },
  {
   "cell_type": "code",
   "execution_count": 6,
   "id": "cec4b016",
   "metadata": {},
   "outputs": [],
   "source": [
    "train_sequence = train_data['train_sequence']\n",
    "train_cluster_id = train_data['train_cluster_id']"
   ]
  },
  {
   "cell_type": "code",
   "execution_count": 15,
   "id": "3420e0dc",
   "metadata": {},
   "outputs": [
    {
     "data": {
      "text/plain": [
       "(256,)"
      ]
     },
     "execution_count": 15,
     "metadata": {},
     "output_type": "execute_result"
    }
   ],
   "source": [
    "train_sequence[0].shape"
   ]
  },
  {
   "cell_type": "code",
   "execution_count": 33,
   "id": "aa4f7401",
   "metadata": {},
   "outputs": [
    {
     "data": {
      "text/plain": [
       "array(['0_0', '0_0', '0_0', ..., '499_2', '499_2', '499_3'], dtype='<U5')"
      ]
     },
     "execution_count": 33,
     "metadata": {},
     "output_type": "execute_result"
    }
   ],
   "source": [
    "train_cluster_id"
   ]
  },
  {
   "cell_type": "code",
   "execution_count": 17,
   "id": "160e18d6",
   "metadata": {
    "scrolled": true
   },
   "outputs": [
    {
     "data": {
      "text/plain": [
       "array(['0_0', '0_0', '0_0', '0_0', '0_0'], dtype='<U5')"
      ]
     },
     "execution_count": 17,
     "metadata": {},
     "output_type": "execute_result"
    }
   ],
   "source": [
    "train_cluster_id[20:25]"
   ]
  },
  {
   "cell_type": "markdown",
   "id": "f98967a3",
   "metadata": {},
   "source": [
    "#### datastructure\n",
    "data = {'train_sequence': ndarray of embeddings,\n",
    "        'train_cluster_id': ndarray of labels}"
   ]
  },
  {
   "cell_type": "code",
   "execution_count": 12,
   "id": "556bb394",
   "metadata": {},
   "outputs": [],
   "source": [
    "# Analyse test data"
   ]
  },
  {
   "cell_type": "code",
   "execution_count": 13,
   "id": "9264c99b",
   "metadata": {},
   "outputs": [
    {
     "data": {
      "text/plain": [
       "['test_sequences', 'test_cluster_ids']"
      ]
     },
     "execution_count": 13,
     "metadata": {},
     "output_type": "execute_result"
    }
   ],
   "source": [
    "test_data.files"
   ]
  },
  {
   "cell_type": "code",
   "execution_count": 14,
   "id": "edf3d0f6",
   "metadata": {},
   "outputs": [
    {
     "name": "stdout",
     "output_type": "stream",
     "text": [
      "test_sequences <class 'numpy.ndarray'>\n",
      "test_cluster_ids <class 'numpy.ndarray'>\n"
     ]
    }
   ],
   "source": [
    "for keys in test_data:\n",
    "    print(keys, type(test_data[keys]))"
   ]
  },
  {
   "cell_type": "code",
   "execution_count": 18,
   "id": "196c176d",
   "metadata": {},
   "outputs": [],
   "source": [
    "test_sequence = test_data['test_sequences']\n",
    "test_cluster_id = test_data['test_cluster_ids']"
   ]
  },
  {
   "cell_type": "code",
   "execution_count": 31,
   "id": "a15a1a57",
   "metadata": {},
   "outputs": [
    {
     "data": {
      "text/plain": [
       "dtype('O')"
      ]
     },
     "execution_count": 31,
     "metadata": {},
     "output_type": "execute_result"
    }
   ],
   "source": [
    "test_sequence.dtype"
   ]
  },
  {
   "cell_type": "code",
   "execution_count": 27,
   "id": "a4002ded",
   "metadata": {},
   "outputs": [
    {
     "data": {
      "text/plain": [
       "(95, 256)"
      ]
     },
     "execution_count": 27,
     "metadata": {},
     "output_type": "execute_result"
    }
   ],
   "source": [
    "test_sequence[0].shape"
   ]
  },
  {
   "cell_type": "code",
   "execution_count": 30,
   "id": "df4b379e",
   "metadata": {},
   "outputs": [
    {
     "data": {
      "text/plain": [
       "95"
      ]
     },
     "execution_count": 30,
     "metadata": {},
     "output_type": "execute_result"
    }
   ],
   "source": [
    "len(test_cluster_id[0])"
   ]
  },
  {
   "cell_type": "code",
   "execution_count": 17,
   "id": "68f09891",
   "metadata": {},
   "outputs": [],
   "source": [
    "# test_cluster_ids is an array of list, this list consists of lables"
   ]
  },
  {
   "cell_type": "code",
   "execution_count": 18,
   "id": "44de0ea6",
   "metadata": {},
   "outputs": [],
   "source": [
    "# test_sequences is an array of array, second array consis of audio embeddings"
   ]
  },
  {
   "cell_type": "code",
   "execution_count": 19,
   "id": "9f3335a4",
   "metadata": {},
   "outputs": [
    {
     "data": {
      "text/plain": [
       "0.09571809014298133"
      ]
     },
     "execution_count": 19,
     "metadata": {},
     "output_type": "execute_result"
    }
   ],
   "source": [
    "test_data['test_sequences'][0][0][0]"
   ]
  },
  {
   "cell_type": "code",
   "execution_count": 20,
   "id": "3060b978",
   "metadata": {},
   "outputs": [
    {
     "data": {
      "text/plain": [
       "0.09571809014298133"
      ]
     },
     "execution_count": 20,
     "metadata": {},
     "output_type": "execute_result"
    }
   ],
   "source": [
    "test_data['test_sequences'][0][0][0]"
   ]
  },
  {
   "cell_type": "code",
   "execution_count": 21,
   "id": "d4bfb060",
   "metadata": {},
   "outputs": [
    {
     "name": "stdout",
     "output_type": "stream",
     "text": [
      "95 89 94 94 104 86 96 101 102 94 94 98 90 92 123 119 107 94 107 99 124 85 125 101 89\n"
     ]
    }
   ],
   "source": [
    "print(*map(len, test_data['test_cluster_ids']))"
   ]
  },
  {
   "cell_type": "code",
   "execution_count": null,
   "id": "8e62bdca",
   "metadata": {},
   "outputs": [],
   "source": [
    "for (test_sequence, test_cluster_id) in zip(test_data['test_sequences'], test_data['test_cluster_ids']):\n",
    "    print(not isinstance(test_sequence, np.ndarray))\n",
    "    print(test_sequence.dtype != float)\n",
    "    print((not isinstance(test_sequence, np.ndarray) or\n",
    "        test_sequence.dtype != float))"
   ]
  }
 ],
 "metadata": {
  "kernelspec": {
   "display_name": "Python 3 (ipykernel)",
   "language": "python",
   "name": "python3"
  },
  "language_info": {
   "codemirror_mode": {
    "name": "ipython",
    "version": 3
   },
   "file_extension": ".py",
   "mimetype": "text/x-python",
   "name": "python",
   "nbconvert_exporter": "python",
   "pygments_lexer": "ipython3",
   "version": "3.9.5"
  }
 },
 "nbformat": 4,
 "nbformat_minor": 5
}

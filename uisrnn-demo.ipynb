{
 "cells": [
  {
   "cell_type": "code",
   "execution_count": 2,
   "id": "38ba8044",
   "metadata": {},
   "outputs": [],
   "source": [
    "# Copyright 2018 Google LLC\n",
    "#\n",
    "# Licensed under the Apache License, Version 2.0 (the \"License\");\n",
    "# you may not use this file except in compliance with the License.\n",
    "# You may obtain a copy of the License at\n",
    "#\n",
    "#     https://www.apache.org/licenses/LICENSE-2.0\n",
    "#\n",
    "# Unless required by applicable law or agreed to in writing, software\n",
    "# distributed under the License is distributed on an \"AS IS\" BASIS,\n",
    "# WITHOUT WARRANTIES OR CONDITIONS OF ANY KIND, either express or implied.\n",
    "# See the License for the specific language governing permissions and\n",
    "# limitations under the License.\n",
    "\"\"\"A demo script showing how to use the uisrnn package on toy data.\"\"\"\n",
    "\n",
    "import numpy as np\n",
    "\n",
    "import uisrnn\n",
    "\n",
    "\n",
    "SAVED_MODEL_NAME = 'saved_model.uisrnn'\n",
    "\n",
    "\n",
    "def diarization_experiment(model_args, training_args, inference_args):\n",
    "  \"\"\"Experiment pipeline.\n",
    "\n",
    "  Load data --> train model --> test model --> output result\n",
    "\n",
    "  Args:\n",
    "    model_args: model configurations\n",
    "    training_args: training configurations\n",
    "    inference_args: inference configurations\n",
    "  \"\"\"\n",
    "\n",
    "  predicted_cluster_ids = []\n",
    "  test_record = []\n",
    "\n",
    "  train_data = np.load('./data/uisrnn/toy_training_data.npz', allow_pickle=True)\n",
    "  test_data = np.load('./data/uisrnn/toy_testing_data.npz', allow_pickle=True)\n",
    "  train_sequence = train_data['train_sequence']\n",
    "  train_cluster_id = train_data['train_cluster_id']\n",
    "  test_sequences = test_data['test_sequences'].tolist()\n",
    "  test_cluster_ids = test_data['test_cluster_ids'].tolist()\n",
    "\n",
    "  model = uisrnn.UISRNN(model_args)\n",
    "\n",
    "  # Training.\n",
    "  # If we have saved a mode previously, we can also skip training by\n",
    "  # calling：\n",
    "  # model.load(SAVED_MODEL_NAME)\n",
    "  model.fit(train_sequence, train_cluster_id, training_args)\n",
    "  model.save(SAVED_MODEL_NAME)\n",
    "\n",
    "  # Testing.\n",
    "  # You can also try uisrnn.parallel_predict to speed up with GPU.\n",
    "  # But that is a beta feature which is not thoroughly tested, so\n",
    "  # proceed with caution.\n",
    "  for (test_sequence, test_cluster_id) in zip(test_sequences, test_cluster_ids):\n",
    "    predicted_cluster_id = model.predict(test_sequence, inference_args)\n",
    "    predicted_cluster_ids.append(predicted_cluster_id)\n",
    "    accuracy = uisrnn.compute_sequence_match_accuracy(\n",
    "        test_cluster_id, predicted_cluster_id)\n",
    "    test_record.append((accuracy, len(test_cluster_id)))\n",
    "    print('Ground truth labels:')\n",
    "    print(test_cluster_id)\n",
    "    print('Predicted labels:')\n",
    "    print(predicted_cluster_id)\n",
    "    print('-' * 80)\n",
    "\n",
    "  output_string = uisrnn.output_result(model_args, training_args, test_record)\n",
    "\n",
    "  print('Finished diarization experiment')\n",
    "  print(output_string)\n",
    "\n",
    "\n",
    "def main():\n",
    "  \"\"\"The main function.\"\"\"\n",
    "  model_args, training_args, inference_args = uisrnn.parse_arguments()\n",
    "  diarization_experiment(model_args, training_args, inference_args)"
   ]
  },
  {
   "cell_type": "code",
   "execution_count": 4,
   "id": "cdbea183",
   "metadata": {},
   "outputs": [
    {
     "name": "stderr",
     "output_type": "stream",
     "text": [
      "usage: ipykernel_launcher.py [-h] [--observation_dim OBSERVATION_DIM]\n",
      "                             [--rnn_hidden_size RNN_HIDDEN_SIZE]\n",
      "                             [--rnn_depth RNN_DEPTH]\n",
      "                             [--rnn_dropout RNN_DROPOUT]\n",
      "                             [--transition_bias TRANSITION_BIAS]\n",
      "                             [--crp_alpha CRP_ALPHA] [--sigma2 SIGMA2]\n",
      "                             [--verbosity VERBOSITY]\n",
      "                             [--enable_cuda ENABLE_CUDA] [--optimizer {adam}]\n",
      "                             [--learning_rate LEARNING_RATE]\n",
      "                             [--train_iteration TRAIN_ITERATION]\n",
      "                             [--batch_size BATCH_SIZE]\n",
      "                             [--num_permutations NUM_PERMUTATIONS]\n",
      "                             [--sigma_alpha SIGMA_ALPHA]\n",
      "                             [--sigma_beta SIGMA_BETA]\n",
      "                             [--regularization_weight REGULARIZATION_WEIGHT]\n",
      "                             [--grad_max_norm GRAD_MAX_NORM]\n",
      "                             [--enforce_cluster_id_uniqueness ENFORCE_CLUSTER_ID_UNIQUENESS]\n",
      "                             [--beam_size BEAM_SIZE] [--look_ahead LOOK_AHEAD]\n",
      "                             [--test_iteration TEST_ITERATION]\n",
      "ipykernel_launcher.py: error: unrecognized arguments: -f /home/jovyan/.local/share/jupyter/runtime/kernel-1d163000-8a4b-49c6-b740-97e9d8518e46.json\n"
     ]
    },
    {
     "ename": "SystemExit",
     "evalue": "2",
     "output_type": "error",
     "traceback": [
      "An exception has occurred, use %tb to see the full traceback.\n",
      "\u001b[0;31mSystemExit\u001b[0m\u001b[0;31m:\u001b[0m 2\n"
     ]
    }
   ],
   "source": [
    "model_args, training_args, inference_args = uisrnn.parse_arguments()"
   ]
  }
 ],
 "metadata": {
  "kernelspec": {
   "display_name": "Python 3 (ipykernel)",
   "language": "python",
   "name": "python3"
  },
  "language_info": {
   "codemirror_mode": {
    "name": "ipython",
    "version": 3
   },
   "file_extension": ".py",
   "mimetype": "text/x-python",
   "name": "python",
   "nbconvert_exporter": "python",
   "pygments_lexer": "ipython3",
   "version": "3.9.5"
  }
 },
 "nbformat": 4,
 "nbformat_minor": 5
}

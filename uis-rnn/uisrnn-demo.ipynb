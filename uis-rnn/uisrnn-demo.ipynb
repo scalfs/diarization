{
 "cells": [
  {
   "cell_type": "code",
   "execution_count": 6,
   "metadata": {},
   "outputs": [
    {
     "data": {
      "text/plain": [
       "256"
      ]
     },
     "execution_count": 6,
     "metadata": {},
     "output_type": "execute_result"
    }
   ],
   "source": [
    "model_args[\"observation_dim\"]"
   ]
  },
  {
   "cell_type": "code",
   "execution_count": 3,
   "metadata": {},
   "outputs": [],
   "source": [
    "import numpy as np\n",
    "import uisrnn\n",
    "import defaultdict\n",
    "\n",
    "\n",
    "SAVED_MODEL_NAME = 'demo_model.uisrnn'\n",
    "\n",
    "model_args = {\"crp_alpha\":1.0, \"enable_cuda\":True, \"observation_dim\":256, \"rnn_depth\":1, \"rnn_dropout\":0.2, \"rnn_hidden_size\": 512, \"sigma2\": None, \"transition_bias\": None, \"verbosity\": 2}\n",
    "training_args = {\"batch_size\": 10, \"enforce_cluster_id_uniqueness\": True, \"grad_max_norm\": 5.0, \"learning_rate\": 0.001, \"num_permutations\": 10, \"optimizer\": 'adam', \"regularization_weight\": 1e-05, \"sigma_alpha\": 1.0, \"sigma_beta\": 1.0, \"train_iteration\": 20000} \n",
    "inference_args = {\"beam_size\": 10, \"look_ahead\": 1, \"test_iteration\": 2}\n",
    "\n",
    "# def diarization_experiment(model_args, training_args, inference_args):\n",
    "def diarization_experiment():\n",
    "    \"\"\"Experiment pipeline.\n",
    "\n",
    "    Load data --> train model --> test model --> output result\n",
    "\n",
    "    Args:\n",
    "    model_args: model configurations\n",
    "    training_args: training configurations\n",
    "    inference_args: inference configurations\n",
    "    \"\"\"\n",
    "\n",
    "    predicted_cluster_ids = []\n",
    "    test_record = []\n",
    "\n",
    "    train_data = np.load('../data/uisrnn/toy_training_data.npz', allow_pickle=True)\n",
    "    test_data = np.load('../data/uisrnn/toy_testing_data.npz', allow_pickle=True)\n",
    "    train_sequence = train_data['train_sequence']\n",
    "    train_cluster_id = train_data['train_cluster_id']\n",
    "    test_sequences = test_data['test_sequences'].tolist()\n",
    "    test_cluster_ids = test_data['test_cluster_ids'].tolist()\n",
    "\n",
    "    model = uisrnn.UISRNN(model_args)\n",
    "\n",
    "    # Training.\n",
    "    # If we have saved a mode previously, we can also skip training by\n",
    "    # calling：\n",
    "    # model.load(SAVED_MODEL_NAME)\n",
    "    model.fit(train_sequence, train_cluster_id, training_args)\n",
    "    model.save(SAVED_MODEL_NAME)\n",
    "\n",
    "    # Testing.\n",
    "    # You can also try uisrnn.parallel_predict to speed up with GPU.\n",
    "    # But that is a beta feature which is not thoroughly tested, so\n",
    "    # proceed with caution.\n",
    "    for (test_sequence, test_cluster_id) in zip(test_sequences, test_cluster_ids):\n",
    "        predicted_cluster_id = model.predict(test_sequence, inference_args)\n",
    "        predicted_cluster_ids.append(predicted_cluster_id)\n",
    "        accuracy = uisrnn.compute_sequence_match_accuracy(\n",
    "            test_cluster_id, predicted_cluster_id)\n",
    "        test_record.append((accuracy, len(test_cluster_id)))\n",
    "        print('Ground truth labels:')\n",
    "        print(test_cluster_id)\n",
    "        print('Predicted labels:')\n",
    "        print(predicted_cluster_id)\n",
    "        print('-' * 80)\n",
    "\n",
    "    output_string = uisrnn.output_result(model_args, training_args, test_record)\n",
    "\n",
    "    print('Finished diarization experiment')\n",
    "    print(output_string)\n",
    "\n",
    "\n",
    "def main():\n",
    "    \"\"\"The main function.\"\"\"\n",
    "#   model_args, training_args, inference_args = uisrnn.parse_arguments()\n",
    "#   diarization_experiment(model_args, training_args, inference_args)\n",
    "    diarization_experiment()\n",
    "    \n"
   ]
  },
  {
   "cell_type": "code",
   "execution_count": 7,
   "metadata": {},
   "outputs": [
    {
     "ename": "TypeError",
     "evalue": "parse_arguments() takes 0 positional arguments but 1 was given",
     "output_type": "error",
     "traceback": [
      "\u001b[0;31m---------------------------------------------------------------------------\u001b[0m",
      "\u001b[0;31mTypeError\u001b[0m                                 Traceback (most recent call last)",
      "\u001b[0;32m<ipython-input-7-007e064cceb9>\u001b[0m in \u001b[0;36m<module>\u001b[0;34m\u001b[0m\n\u001b[0;32m----> 1\u001b[0;31m \u001b[0mmodel_args\u001b[0m\u001b[0;34m,\u001b[0m \u001b[0mtraining_args\u001b[0m\u001b[0;34m,\u001b[0m \u001b[0minference_args\u001b[0m \u001b[0;34m=\u001b[0m \u001b[0muisrnn\u001b[0m\u001b[0;34m.\u001b[0m\u001b[0mparse_arguments\u001b[0m\u001b[0;34m(\u001b[0m\u001b[0;34m\"\"\u001b[0m\u001b[0;34m)\u001b[0m\u001b[0;34m\u001b[0m\u001b[0;34m\u001b[0m\u001b[0m\n\u001b[0m\u001b[1;32m      2\u001b[0m \u001b[0;31m# diarization_experiment(model_args, training_args, inference_args)\u001b[0m\u001b[0;34m\u001b[0m\u001b[0;34m\u001b[0m\u001b[0;34m\u001b[0m\u001b[0m\n",
      "\u001b[0;31mTypeError\u001b[0m: parse_arguments() takes 0 positional arguments but 1 was given"
     ]
    }
   ],
   "source": [
    "\n",
    "model_args, training_args, inference_args = uisrnn.parse_arguments(\"\")\n",
    "# diarization_experiment(model_args, training_args, inference_args)"
   ]
  }
 ],
 "metadata": {
  "kernelspec": {
   "display_name": "Python 3",
   "language": "python",
   "name": "python3"
  },
  "language_info": {
   "codemirror_mode": {
    "name": "ipython",
    "version": 3
   },
   "file_extension": ".py",
   "mimetype": "text/x-python",
   "name": "python",
   "nbconvert_exporter": "python",
   "pygments_lexer": "ipython3",
   "version": "3.7.3"
  }
 },
 "nbformat": 4,
 "nbformat_minor": 5
}

{
 "cells": [
  {
   "cell_type": "code",
   "execution_count": null,
   "metadata": {},
   "outputs": [],
   "source": [
    "train_sequence = np.load('/home/jovyan/work/fixed-voxcon-dev-sequences.npy', allow_pickle=True)\n",
    "train_cluster_id = np.load('/home/jovyan/work/voxsrc21-dia/embeddings/sequences/voxcon-dev-cluster-ids.npy', allow_pickle=True)"
   ]
  },
  {
   "cell_type": "code",
   "execution_count": 49,
   "metadata": {},
   "outputs": [],
   "source": []
  },
  {
   "cell_type": "code",
   "execution_count": null,
   "metadata": {},
   "outputs": [],
   "source": [
    "    \n",
    "concatenated_train_sequence = np.concatenate(train_sequence)\n",
    "concatenated_train_cluster_id = np.concatenate(train_cluster_id)"
   ]
  },
  {
   "cell_type": "code",
   "execution_count": null,
   "metadata": {},
   "outputs": [],
   "source": [
    "import numpy as np\n",
    "\n",
    "import uisrnn\n",
    "\n",
    "SAVED_MODEL_NAME = 'voxcon_dev_model.uisrnn'\n",
    "\n",
    "def diarization_experiment(model_args, training_args, inference_args):\n",
    "\n",
    "    train_sequence = np.load('/home/jovyan/work/fixed-voxcon-dev-sequences.npy', allow_pickle=True)\n",
    "    train_cluster_id = np.load('/home/jovyan/work/voxsrc21-dia/embeddings/sequences/voxcon-dev-cluster-ids.npy', allow_pickle=True)\n",
    "    \n",
    "    model = uisrnn.UISRNN(model_args)\n",
    "    \n",
    "    # How many elements each \n",
    "    # list should have \n",
    "    n = 53\n",
    "\n",
    "    # using list comprehension \n",
    "    split_train_sequence = [train_sequence[i:i + n] for i in range(0, len(train_sequence), n)]\n",
    "    split_train_cluster_id = [train_cluster_id[i:i + n] for i in range(0, len(train_cluster_id), n)]\n",
    "    \n",
    "    for sequence, cluster_id in zip(split_train_sequence, split_train_cluster_id):\n",
    "        concatenated_train_sequence = np.concatenate(sequence)\n",
    "        concatenated_train_cluster_id = np.concatenate(cluster_id)\n",
    "    \n",
    "        # Training\n",
    "        model.fit(concatenated_train_sequence, concatenated_train_cluster_id, training_args)\n",
    "        print('foi')\n",
    "    \n",
    "    \n",
    "    model.save(SAVED_MODEL_NAME)\n",
    "    \n",
    "    \n",
    "    \n",
    "def main():\n",
    "    \"\"\"The main function.\"\"\"\n",
    "    model_args, training_args, inference_args = uisrnn.parse_arguments()\n",
    "    print(training_args)\n",
    "    diarization_experiment(model_args, training_args, inference_args)\n",
    "\n",
    "\n",
    "if __name__ == \"__main__\":\n",
    "    main()\n",
    "    print('Program completed!')"
   ]
  }
 ],
 "metadata": {
  "kernelspec": {
   "display_name": "Python 3",
   "language": "python",
   "name": "python3"
  },
  "language_info": {
   "codemirror_mode": {
    "name": "ipython",
    "version": 3
   },
   "file_extension": ".py",
   "mimetype": "text/x-python",
   "name": "python",
   "nbconvert_exporter": "python",
   "pygments_lexer": "ipython3",
   "version": "3.7.3"
  }
 },
 "nbformat": 4,
 "nbformat_minor": 2
}

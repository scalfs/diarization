{
 "cells": [
  {
   "cell_type": "code",
   "execution_count": 1,
   "id": "59653c7f",
   "metadata": {},
   "outputs": [
    {
     "name": "stderr",
     "output_type": "stream",
     "text": [
      "Downloading: \"https://github.com/pyannote/pyannote-audio/archive/master.zip\" to /home/jovyan/.cache/torch/hub/master.zip\n"
     ]
    },
    {
     "name": "stdout",
     "output_type": "stream",
     "text": [
      "Downloading list of pretrained models and pipelines to \"/home/jovyan/.pyannote/hub/pretrained.yml\".\n"
     ]
    },
    {
     "data": {
      "application/vnd.jupyter.widget-view+json": {
       "model_id": "8d1646586d2e4f5fa6f2cf28894c2fc8",
       "version_major": 2,
       "version_minor": 0
      },
      "text/plain": [
       "  0%|          | 0.00/901 [00:00<?, ?B/s]"
      ]
     },
     "metadata": {},
     "output_type": "display_data"
    },
    {
     "name": "stdout",
     "output_type": "stream",
     "text": [
      "Downloading pretrained model \"emb_voxceleb\" to \"/home/jovyan/.pyannote/hub/models/emb_voxceleb.zip\".\n"
     ]
    },
    {
     "data": {
      "application/vnd.jupyter.widget-view+json": {
       "model_id": "e34312c7640444ae8517e7a7b77cd0ec",
       "version_major": 2,
       "version_minor": 0
      },
      "text/plain": [
       "  0%|          | 0.00/16.3M [00:00<?, ?B/s]"
      ]
     },
     "metadata": {},
     "output_type": "display_data"
    },
    {
     "name": "stderr",
     "output_type": "stream",
     "text": [
      "/opt/conda/lib/python3.9/site-packages/pyannote/audio/embedding/approaches/arcface_loss.py:170: FutureWarning: The 's' parameter is deprecated in favor of 'scale', and will be removed in a future release\n",
      "  warnings.warn(msg, FutureWarning)\n"
     ]
    },
    {
     "name": "stdout",
     "output_type": "stream",
     "text": [
      "Embedding has dimension 512.\n"
     ]
    }
   ],
   "source": [
    "import torch\n",
    "from pyannote.database import get_protocol, FileFinder\n",
    "\n",
    "# Load embedding model\n",
    "emb = torch.hub.load('pyannote/pyannote-audio', 'emb')\n",
    "print(f'Embedding has dimension {emb.dimension:d}.')"
   ]
  },
  {
   "cell_type": "markdown",
   "id": "ecd775d8",
   "metadata": {},
   "source": [
    "#### Load audio files protocol"
   ]
  },
  {
   "cell_type": "code",
   "execution_count": 2,
   "id": "d4ab51ba",
   "metadata": {
    "scrolled": true
   },
   "outputs": [],
   "source": [
    "preprocessors = {'audio': FileFinder()}\n",
    "protocol = get_protocol('VOXCON.SpeakerDiarization.Sample', preprocessors=preprocessors)"
   ]
  },
  {
   "cell_type": "markdown",
   "id": "be533f6e",
   "metadata": {},
   "source": [
    "#### Get single file for testing"
   ]
  },
  {
   "cell_type": "code",
   "execution_count": 3,
   "id": "fee03e11",
   "metadata": {},
   "outputs": [],
   "source": [
    "from pyannote.audio.features.utils import get_audio_duration\n",
    "\n",
    "train_file = next(protocol.train())\n",
    "duration = get_audio_duration(train_file)"
   ]
  },
  {
   "cell_type": "markdown",
   "id": "da7684d4",
   "metadata": {},
   "source": [
    "#### Create SlidingWindow for embedding extraction from utterances"
   ]
  },
  {
   "cell_type": "code",
   "execution_count": 4,
   "id": "94c1dde6",
   "metadata": {},
   "outputs": [],
   "source": [
    "from pyannote.core import SlidingWindow, Segment\n",
    "\n",
    "sw = SlidingWindow(duration=0.240, step=0.120, start=0.0, end=duration)\n",
    "\n",
    "# Test SlidingWindow\n",
    "# for chunk in sw(Segment(3, 7.5)):\n",
    "#     print(tuple(chunk))"
   ]
  },
  {
   "cell_type": "markdown",
   "id": "2af129f6",
   "metadata": {},
   "source": [
    "### D-Vector Create"
   ]
  },
  {
   "cell_type": "code",
   "execution_count": 5,
   "id": "b3446f04",
   "metadata": {},
   "outputs": [],
   "source": [
    "def concat_segs(times, segs):\n",
    "    #Concatenate continuous voiced segments\n",
    "    concat_seg = []\n",
    "    seg_concat = segs[0]\n",
    "    for i in range(0, len(times)-1):\n",
    "        if times[i][1] == times[i+1][0]:\n",
    "            seg_concat = np.concatenate((seg_concat, segs[i+1]))\n",
    "        else:\n",
    "            concat_seg.append(seg_concat)\n",
    "            seg_concat = segs[i+1]\n",
    "    else:\n",
    "        concat_seg.append(seg_concat)\n",
    "    return concat_seg\n",
    "\n",
    "def align_embeddings(embeddings):\n",
    "    partitions = []\n",
    "    start = 0\n",
    "    end = 0\n",
    "    j = 1\n",
    "    for i, embedding in enumerate(embeddings):\n",
    "        if (i*.12)+.24 < j*.401:\n",
    "            end = end + 1\n",
    "        else:\n",
    "            partitions.append((start,end))\n",
    "            start = end\n",
    "            end = end + 1\n",
    "            j += 1\n",
    "    else:\n",
    "        partitions.append((start,end))\n",
    "    avg_embeddings = np.zeros((len(partitions),512))\n",
    "    for i, partition in enumerate(partitions):\n",
    "        avg_embeddings[i] = np.average(embeddings[partition[0]:partition[1]],axis=0) \n",
    "    return avg_embeddings"
   ]
  },
  {
   "cell_type": "code",
   "execution_count": 6,
   "id": "401b06bf",
   "metadata": {},
   "outputs": [],
   "source": [
    "import glob\n",
    "import librosa\n",
    "import numpy as np\n",
    "import os\n",
    "import torch\n",
    "\n",
    "from hparam import hparam as hp\n",
    "from VAD_segments import VAD_chunk"
   ]
  },
  {
   "cell_type": "code",
   "execution_count": null,
   "id": "708ed718",
   "metadata": {},
   "outputs": [],
   "source": [
    "# Split test and train set from the same folder\n",
    "\n",
    "# audio_path = glob.glob(os.path.dirname(hp.unprocessed_data))  \n",
    "\n",
    "# total_speaker_num = len(audio_path)\n",
    "# train_speaker_num= (total_speaker_num//10)*9            # split total data 90% train and 10% test\n",
    "\n",
    "# audio_path"
   ]
  },
  {
   "cell_type": "code",
   "execution_count": 7,
   "id": "12b4426d",
   "metadata": {},
   "outputs": [
    {
     "data": {
      "text/plain": [
       "'/home/jovyan/work/voxsrc21-dia/data/voxconverse/sample/abjxc.wav'"
      ]
     },
     "execution_count": 7,
     "metadata": {},
     "output_type": "execute_result"
    }
   ],
   "source": [
    "next(protocol.train())['audio'].as_posix()"
   ]
  },
  {
   "cell_type": "code",
   "execution_count": 8,
   "id": "62169ab3",
   "metadata": {},
   "outputs": [],
   "source": [
    "train_sequence = []\n",
    "train_cluster_id = []\n",
    "label = 0\n",
    "count = 0\n",
    "train_saved = False\n",
    "listLength = len(list(protocol.train()))\n",
    "for i, file in enumerate(protocol.train()):\n",
    "    filePath = file['audio'].as_posix()\n",
    "    times, segs = VAD_chunk(2, filePath)\n",
    "    if segs == []:\n",
    "        print('No voice activity detected')\n",
    "        continue\n",
    "    concat_seg = concat_segs(times, segs)\n",
    "#     STFT_frames = get_STFTs(concat_seg)\n",
    "#     STFT_frames = np.stack(STFT_frames, axis=2)\n",
    "#     STFT_frames = torch.tensor(np.transpose(STFT_frames, axes=(2,1,0)))\n",
    "#     print(STFT_frames)"
   ]
  },
  {
   "cell_type": "code",
   "execution_count": 37,
   "id": "3efa4e1e",
   "metadata": {},
   "outputs": [
    {
     "data": {
      "text/plain": [
       "486"
      ]
     },
     "execution_count": 37,
     "metadata": {},
     "output_type": "execute_result"
    }
   ],
   "source": []
  },
  {
   "cell_type": "code",
   "execution_count": 21,
   "id": "dc20ffc0",
   "metadata": {
    "scrolled": true
   },
   "outputs": [
    {
     "name": "stdout",
     "output_type": "stream",
     "text": [
      "[(30.16, 30.52), (30.54, 30.94)]\n",
      "[(57.34, 57.38), (57.48, 57.88)]\n",
      "[(81.08, 81.28), (81.42, 81.82)]\n",
      "[(87.42, 87.68), (88.02, 88.42)]\n",
      "[(165.2, 165.46), (165.5, 165.9)]\n",
      "[(168.7, 168.86), (168.92, 169.32)]\n",
      "[(177.32, 177.58), (177.9, 178.3)]\n"
     ]
    },
    {
     "ename": "IndexError",
     "evalue": "list index out of range",
     "output_type": "error",
     "traceback": [
      "\u001b[0;31m---------------------------------------------------------------------------\u001b[0m",
      "\u001b[0;31mIndexError\u001b[0m                                Traceback (most recent call last)",
      "\u001b[0;32m/tmp/ipykernel_64/293954483.py\u001b[0m in \u001b[0;36m<module>\u001b[0;34m\u001b[0m\n\u001b[1;32m      1\u001b[0m \u001b[0;32mfor\u001b[0m \u001b[0midx\u001b[0m\u001b[0;34m,\u001b[0m \u001b[0mtime\u001b[0m \u001b[0;32min\u001b[0m \u001b[0menumerate\u001b[0m\u001b[0;34m(\u001b[0m\u001b[0mtimes\u001b[0m\u001b[0;34m)\u001b[0m\u001b[0;34m:\u001b[0m\u001b[0;34m\u001b[0m\u001b[0;34m\u001b[0m\u001b[0m\n\u001b[0;32m----> 2\u001b[0;31m     \u001b[0;32mif\u001b[0m \u001b[0;34m(\u001b[0m\u001b[0mtime\u001b[0m\u001b[0;34m[\u001b[0m\u001b[0;36m1\u001b[0m\u001b[0;34m]\u001b[0m\u001b[0;34m!=\u001b[0m\u001b[0mtimes\u001b[0m\u001b[0;34m[\u001b[0m\u001b[0midx\u001b[0m\u001b[0;34m+\u001b[0m\u001b[0;36m1\u001b[0m\u001b[0;34m]\u001b[0m\u001b[0;34m[\u001b[0m\u001b[0;36m0\u001b[0m\u001b[0;34m]\u001b[0m\u001b[0;34m)\u001b[0m\u001b[0;34m:\u001b[0m\u001b[0;34m\u001b[0m\u001b[0;34m\u001b[0m\u001b[0m\n\u001b[0m\u001b[1;32m      3\u001b[0m         \u001b[0mprint\u001b[0m\u001b[0;34m(\u001b[0m\u001b[0mtimes\u001b[0m\u001b[0;34m[\u001b[0m\u001b[0midx\u001b[0m\u001b[0;34m:\u001b[0m\u001b[0midx\u001b[0m\u001b[0;34m+\u001b[0m\u001b[0;36m2\u001b[0m\u001b[0;34m]\u001b[0m\u001b[0;34m)\u001b[0m\u001b[0;34m\u001b[0m\u001b[0;34m\u001b[0m\u001b[0m\n\u001b[1;32m      4\u001b[0m \u001b[0;34m\u001b[0m\u001b[0m\n",
      "\u001b[0;31mIndexError\u001b[0m: list index out of range"
     ]
    }
   ],
   "source": [
    "for idx, time in enumerate(times):\n",
    "    if (time[1]!=times[idx+1][0]):\n",
    "        print(times[idx:idx+2])\n",
    "        "
   ]
  },
  {
   "cell_type": "code",
   "execution_count": null,
   "id": "6a514720",
   "metadata": {},
   "outputs": [],
   "source": [
    "    embeddings = emb(file)\n",
    "    aligned_embeddings = align_embeddings(embeddings.data)\n",
    "    train_sequence.append(aligned_embeddings)\n",
    "    for embedding in aligned_embeddings:\n",
    "        train_cluster_id.append(str(label))\n",
    "    count = count + 1\n",
    "    if count % 100 == 0:\n",
    "        print('Processed {0}/{1} files'.format(count, listLength))\n",
    "    label = label + 1\n",
    "    \n",
    "#     if not train_saved and i > train_speaker_num:\n",
    "#         train_sequence = np.concatenate(train_sequence,axis=0)\n",
    "#         train_cluster_id = np.asarray(train_cluster_id)\n",
    "#         np.save('train_sequence',train_sequence)\n",
    "#         np.save('train_cluster_id',train_cluster_id)\n",
    "#         train_saved = True\n",
    "#         train_sequence = []\n",
    "#         train_cluster_id = []\n",
    "        \n",
    "train_sequence = np.concatenate(train_sequence,axis=0)\n",
    "train_cluster_id = np.asarray(train_cluster_id)\n",
    "np.save('test_sequence',train_sequence)\n",
    "np.save('test_cluster_id',train_cluster_id)"
   ]
  },
  {
   "cell_type": "code",
   "execution_count": 13,
   "id": "9caf4579",
   "metadata": {},
   "outputs": [],
   "source": [
    "lines = [\"1 id10270/x6uYqmx31kE/00001.wav id10270/8jEAjG6SegY/00008.wav\",\n",
    "         \"0 id10270/x6uYqmx31kE/00001.wav id10300/ize_eiCFEg0/00003.wav\",\n",
    "         \"1 id10270/x6uYqmx31kE/00001.wav id10270/GWXujl-xAVM/00017.wav\",\n",
    "         \"0 id10270/x6uYqmx31kE/00001.wav id10273/0OCW1HUxZyg/00001.wav\",\n",
    "         \"1 id10270/x6uYqmx31kE/00001.wav id10270/8jEAjG6SegY/00022.wav\",\n",
    "         \"0 id10270/x6uYqmx31kE/00001.wav id10284/Uzxv7Axh3Z8/00001.wav\",\n",
    "         \"1 id10270/x6uYqmx31kE/00001.wav id10270/GWXujl-xAVM/00033.wav\",\n",
    "         \"0 id10270/x6uYqmx31kE/00001.wav id10284/7yx9A0yzLYk/00029.wav\",\n",
    "         \"1 id10270/x6uYqmx31kE/00002.wav id10270/5r0dWxy17C8/00026.wav\",\n",
    "         \"0 id10270/x6uYqmx31kE/00002.wav id10285/m-uILToQ9ss/00009.wav\",\n",
    "         \"1 id10270/x6uYqmx31kE/00002.wav id10270/GWXujl-xAVM/00035.wav\",\n",
    "         \"0 id10270/x6uYqmx31kE/00002.wav id10306/uzt36PBzT2w/00001.wav\",\n",
    "         \"1 id10270/x6uYqmx31kE/00002.wav id10270/GWXujl-xAVM/00038.wav\",\n",
    "         \"0 id10270/x6uYqmx31kE/00002.wav id10307/kp_GCjLq4qA/00004.wav\",\n",
    "         \"1 id10270/x6uYqmx31kE/00002.wav id10270/GWXujl-xAVM/00033.wav\",\n",
    "         \"0 id10270/x6uYqmx31kE/00002.wav id10275/Mdk1SXywHck/00024.wav\",\n",
    "         \"1 id10270/x6uYqmx31kE/00003.wav id10270/GWXujl-xAVM/00038.wav\",\n",
    "         \"0 id10270/x6uYqmx31kE/00003.wav id10293/TwfthltapLg/00004.wav\",\n",
    "         \"1 id10270/x6uYqmx31kE/00003.wav id10270/5r0dWxy17C8/00004.wav\",\n",
    "         \"0 id10270/x6uYqmx31kE/00003.wav id10273/8cfyJEV7hP8/00004.wav\",\n",
    "         \"1 id10270/x6uYqmx31kE/00003.wav id10270/8jEAjG6SegY/00038.wav\",\n",
    "         \"0 id10270/x6uYqmx31kE/00003.wav id10300/SQzWyPhRqmk/00012.wav\",\n",
    "         \"1 id10270/x6uYqmx31kE/00003.wav id10270/5r0dWxy17C8/00010.wav\",\n",
    "         \"0 id10270/x6uYqmx31kE/00003.wav id10305/G50_Ix7IVjU/00001.wav\",\n",
    "         \"1 id10270/x6uYqmx31kE/00004.wav id10270/GWXujl-xAVM/00010.wav\",\n",
    "         \"0 id10270/x6uYqmx31kE/00004.wav id10306/2SaEbN8hYz4/00011.wav\",\n",
    "         \"1 id10270/x6uYqmx31kE/00004.wav id10270/GWXujl-xAVM/00045.wav\",\n",
    "         \"0 id10270/x6uYqmx31kE/00004.wav id10280/NXjT3732Ekg/00001.wav\",\n",
    "         \"1 id10270/x6uYqmx31kE/00004.wav id10270/OhfKF8FSq3Y/00003.wav\",\n",
    "         \"0 id10270/x6uYqmx31kE/00004.wav id10271/djK87iSSKQo/00001.wav\",\n",
    "         \"1 id10270/x6uYqmx31kE/00004.wav id10270/GWXujl-xAVM/00007.wav\",\n",
    "         \"0 id10270/x6uYqmx31kE/00004.wav id10286/isKyMAYUOgg/00012.wav\",\n",
    "         \"1 id10270/x6uYqmx31kE/00005.wav id10270/8jEAjG6SegY/00026.wav\",\n",
    "         \"0 id10270/x6uYqmx31kE/00005.wav id10278/LVXvQzNatXI/00001.wav\",\n",
    "         \"1 id10270/x6uYqmx31kE/00005.wav id10270/5r0dWxy17C8/00024.wav\",\n",
    "         \"0 id10270/x6uYqmx31kE/00005.wav id10295/3tvnlmkCiTw/00008.wav\",\n",
    "         \"1 id10270/x6uYqmx31kE/00005.wav id10270/8jEAjG6SegY/00035.wav\",\n",
    "         \"0 id10270/x6uYqmx31kE/00005.wav id10303/R5JGtwc4o1M/00005.wav\",\n",
    "         \"1 id10270/x6uYqmx31kE/00005.wav id10270/OXdd7Gmluts/00003.wav\",\n",
    "         \"0 id10270/x6uYqmx31kE/00005.wav id10281/NHARUN9OhSo/00002.wav\",\n",
    "         \"1 id10270/5r0dWxy17C8/00001.wav id10270/8jEAjG6SegY/00027.wav\",\n",
    "         \"0 id10270/5r0dWxy17C8/00001.wav id10292/gm6PJowclv0/00027.wav\",\n",
    "         \"1 id10270/5r0dWxy17C8/00001.wav id10270/5r0dWxy17C8/00022.wav\",\n",
    "         \"0 id10270/5r0dWxy17C8/00001.wav id10272/wb6ligRbbZ4/00001.wav\",\n",
    "         \"1 id10270/5r0dWxy17C8/00001.wav id10270/8jEAjG6SegY/00012.wav\",\n",
    "         \"0 id10270/5r0dWxy17C8/00001.wav id10302/WAbHmvQ9zME/00006.wav\",\n",
    "         \"1 id10270/5r0dWxy17C8/00001.wav id10270/8jEAjG6SegY/00030.wav\",\n",
    "         \"0 id10270/5r0dWxy17C8/00001.wav id10309/0cYFdtyWVds/00002.wav\",\n",
    "         \"1 id10270/5r0dWxy17C8/00002.wav id10270/8jEAjG6SegY/00018.wav\",\n",
    "         \"0 id10270/5r0dWxy17C8/00002.wav id10307/yUv37vQWmzE/00014.wav\",\n",
    "         \"1 id10270/5r0dWxy17C8/00002.wav id10270/GWXujl-xAVM/00044.wav\",\n",
    "         \"0 id10270/5r0dWxy17C8/00002.wav id10309/e-IdJ8a4gy4/00009.wav\",\n",
    "         \"1 id10270/5r0dWxy17C8/00002.wav id10270/8jEAjG6SegY/00035.wav\",\n",
    "         \"0 id10270/5r0dWxy17C8/00002.wav id10273/hW0Q6eHqN-U/00003.wav\"]"
   ]
  },
  {
   "cell_type": "code",
   "execution_count": 15,
   "id": "b4397785",
   "metadata": {
    "scrolled": true
   },
   "outputs": [
    {
     "name": "stdout",
     "output_type": "stream",
     "text": [
      "['id10270/5r0dWxy17C8/00001.wav', 'id10270/5r0dWxy17C8/00002.wav', 'id10270/5r0dWxy17C8/00004.wav', 'id10270/5r0dWxy17C8/00010.wav', 'id10270/5r0dWxy17C8/00022.wav', 'id10270/5r0dWxy17C8/00024.wav', 'id10270/5r0dWxy17C8/00026.wav', 'id10270/8jEAjG6SegY/00008.wav', 'id10270/8jEAjG6SegY/00012.wav', 'id10270/8jEAjG6SegY/00018.wav', 'id10270/8jEAjG6SegY/00022.wav', 'id10270/8jEAjG6SegY/00026.wav', 'id10270/8jEAjG6SegY/00027.wav', 'id10270/8jEAjG6SegY/00030.wav', 'id10270/8jEAjG6SegY/00035.wav', 'id10270/8jEAjG6SegY/00038.wav', 'id10270/GWXujl-xAVM/00007.wav', 'id10270/GWXujl-xAVM/00010.wav', 'id10270/GWXujl-xAVM/00017.wav', 'id10270/GWXujl-xAVM/00033.wav', 'id10270/GWXujl-xAVM/00035.wav', 'id10270/GWXujl-xAVM/00038.wav', 'id10270/GWXujl-xAVM/00044.wav', 'id10270/GWXujl-xAVM/00045.wav', 'id10270/OXdd7Gmluts/00003.wav', 'id10270/OhfKF8FSq3Y/00003.wav', 'id10270/x6uYqmx31kE/00001.wav', 'id10270/x6uYqmx31kE/00002.wav', 'id10270/x6uYqmx31kE/00003.wav', 'id10270/x6uYqmx31kE/00004.wav', 'id10270/x6uYqmx31kE/00005.wav', 'id10271/djK87iSSKQo/00001.wav', 'id10272/wb6ligRbbZ4/00001.wav', 'id10273/0OCW1HUxZyg/00001.wav', 'id10273/8cfyJEV7hP8/00004.wav', 'id10273/hW0Q6eHqN-U/00003.wav', 'id10275/Mdk1SXywHck/00024.wav', 'id10278/LVXvQzNatXI/00001.wav', 'id10280/NXjT3732Ekg/00001.wav', 'id10281/NHARUN9OhSo/00002.wav', 'id10284/7yx9A0yzLYk/00029.wav', 'id10284/Uzxv7Axh3Z8/00001.wav', 'id10285/m-uILToQ9ss/00009.wav', 'id10286/isKyMAYUOgg/00012.wav', 'id10292/gm6PJowclv0/00027.wav', 'id10293/TwfthltapLg/00004.wav', 'id10295/3tvnlmkCiTw/00008.wav', 'id10300/SQzWyPhRqmk/00012.wav', 'id10300/ize_eiCFEg0/00003.wav', 'id10302/WAbHmvQ9zME/00006.wav', 'id10303/R5JGtwc4o1M/00005.wav', 'id10305/G50_Ix7IVjU/00001.wav', 'id10306/2SaEbN8hYz4/00011.wav', 'id10306/uzt36PBzT2w/00001.wav', 'id10307/kp_GCjLq4qA/00004.wav', 'id10307/yUv37vQWmzE/00014.wav', 'id10309/0cYFdtyWVds/00002.wav', 'id10309/e-IdJ8a4gy4/00009.wav']\n"
     ]
    }
   ],
   "source": [
    "import itertools\n",
    "\n",
    "## Get a list of unique file names\n",
    "files = list(itertools.chain(*[x.strip().split()[-2:] for x in lines]))\n",
    "setfiles = list(set(files))\n",
    "setfiles.sort()\n",
    "\n",
    "print(setfiles)"
   ]
  },
  {
   "cell_type": "code",
   "execution_count": 17,
   "id": "252d7367",
   "metadata": {
    "collapsed": true
   },
   "outputs": [
    {
     "name": "stdout",
     "output_type": "stream",
     "text": [
      "['1', 'id10270/x6uYqmx31kE/00001.wav', 'id10270/8jEAjG6SegY/00008.wav']\n",
      "['0', 'id10270/x6uYqmx31kE/00001.wav', 'id10300/ize_eiCFEg0/00003.wav']\n",
      "['1', 'id10270/x6uYqmx31kE/00001.wav', 'id10270/GWXujl-xAVM/00017.wav']\n",
      "['0', 'id10270/x6uYqmx31kE/00001.wav', 'id10273/0OCW1HUxZyg/00001.wav']\n",
      "['1', 'id10270/x6uYqmx31kE/00001.wav', 'id10270/8jEAjG6SegY/00022.wav']\n",
      "['0', 'id10270/x6uYqmx31kE/00001.wav', 'id10284/Uzxv7Axh3Z8/00001.wav']\n",
      "['1', 'id10270/x6uYqmx31kE/00001.wav', 'id10270/GWXujl-xAVM/00033.wav']\n",
      "['0', 'id10270/x6uYqmx31kE/00001.wav', 'id10284/7yx9A0yzLYk/00029.wav']\n",
      "['1', 'id10270/x6uYqmx31kE/00002.wav', 'id10270/5r0dWxy17C8/00026.wav']\n",
      "['0', 'id10270/x6uYqmx31kE/00002.wav', 'id10285/m-uILToQ9ss/00009.wav']\n",
      "['1', 'id10270/x6uYqmx31kE/00002.wav', 'id10270/GWXujl-xAVM/00035.wav']\n",
      "['0', 'id10270/x6uYqmx31kE/00002.wav', 'id10306/uzt36PBzT2w/00001.wav']\n",
      "['1', 'id10270/x6uYqmx31kE/00002.wav', 'id10270/GWXujl-xAVM/00038.wav']\n",
      "['0', 'id10270/x6uYqmx31kE/00002.wav', 'id10307/kp_GCjLq4qA/00004.wav']\n",
      "['1', 'id10270/x6uYqmx31kE/00002.wav', 'id10270/GWXujl-xAVM/00033.wav']\n",
      "['0', 'id10270/x6uYqmx31kE/00002.wav', 'id10275/Mdk1SXywHck/00024.wav']\n",
      "['1', 'id10270/x6uYqmx31kE/00003.wav', 'id10270/GWXujl-xAVM/00038.wav']\n",
      "['0', 'id10270/x6uYqmx31kE/00003.wav', 'id10293/TwfthltapLg/00004.wav']\n",
      "['1', 'id10270/x6uYqmx31kE/00003.wav', 'id10270/5r0dWxy17C8/00004.wav']\n",
      "['0', 'id10270/x6uYqmx31kE/00003.wav', 'id10273/8cfyJEV7hP8/00004.wav']\n",
      "['1', 'id10270/x6uYqmx31kE/00003.wav', 'id10270/8jEAjG6SegY/00038.wav']\n",
      "['0', 'id10270/x6uYqmx31kE/00003.wav', 'id10300/SQzWyPhRqmk/00012.wav']\n",
      "['1', 'id10270/x6uYqmx31kE/00003.wav', 'id10270/5r0dWxy17C8/00010.wav']\n",
      "['0', 'id10270/x6uYqmx31kE/00003.wav', 'id10305/G50_Ix7IVjU/00001.wav']\n",
      "['1', 'id10270/x6uYqmx31kE/00004.wav', 'id10270/GWXujl-xAVM/00010.wav']\n",
      "['0', 'id10270/x6uYqmx31kE/00004.wav', 'id10306/2SaEbN8hYz4/00011.wav']\n",
      "['1', 'id10270/x6uYqmx31kE/00004.wav', 'id10270/GWXujl-xAVM/00045.wav']\n",
      "['0', 'id10270/x6uYqmx31kE/00004.wav', 'id10280/NXjT3732Ekg/00001.wav']\n",
      "['1', 'id10270/x6uYqmx31kE/00004.wav', 'id10270/OhfKF8FSq3Y/00003.wav']\n",
      "['0', 'id10270/x6uYqmx31kE/00004.wav', 'id10271/djK87iSSKQo/00001.wav']\n",
      "['1', 'id10270/x6uYqmx31kE/00004.wav', 'id10270/GWXujl-xAVM/00007.wav']\n",
      "['0', 'id10270/x6uYqmx31kE/00004.wav', 'id10286/isKyMAYUOgg/00012.wav']\n",
      "['1', 'id10270/x6uYqmx31kE/00005.wav', 'id10270/8jEAjG6SegY/00026.wav']\n",
      "['0', 'id10270/x6uYqmx31kE/00005.wav', 'id10278/LVXvQzNatXI/00001.wav']\n",
      "['1', 'id10270/x6uYqmx31kE/00005.wav', 'id10270/5r0dWxy17C8/00024.wav']\n",
      "['0', 'id10270/x6uYqmx31kE/00005.wav', 'id10295/3tvnlmkCiTw/00008.wav']\n",
      "['1', 'id10270/x6uYqmx31kE/00005.wav', 'id10270/8jEAjG6SegY/00035.wav']\n",
      "['0', 'id10270/x6uYqmx31kE/00005.wav', 'id10303/R5JGtwc4o1M/00005.wav']\n",
      "['1', 'id10270/x6uYqmx31kE/00005.wav', 'id10270/OXdd7Gmluts/00003.wav']\n",
      "['0', 'id10270/x6uYqmx31kE/00005.wav', 'id10281/NHARUN9OhSo/00002.wav']\n",
      "['1', 'id10270/5r0dWxy17C8/00001.wav', 'id10270/8jEAjG6SegY/00027.wav']\n",
      "['0', 'id10270/5r0dWxy17C8/00001.wav', 'id10292/gm6PJowclv0/00027.wav']\n",
      "['1', 'id10270/5r0dWxy17C8/00001.wav', 'id10270/5r0dWxy17C8/00022.wav']\n",
      "['0', 'id10270/5r0dWxy17C8/00001.wav', 'id10272/wb6ligRbbZ4/00001.wav']\n",
      "['1', 'id10270/5r0dWxy17C8/00001.wav', 'id10270/8jEAjG6SegY/00012.wav']\n",
      "['0', 'id10270/5r0dWxy17C8/00001.wav', 'id10302/WAbHmvQ9zME/00006.wav']\n",
      "['1', 'id10270/5r0dWxy17C8/00001.wav', 'id10270/8jEAjG6SegY/00030.wav']\n",
      "['0', 'id10270/5r0dWxy17C8/00001.wav', 'id10309/0cYFdtyWVds/00002.wav']\n",
      "['1', 'id10270/5r0dWxy17C8/00002.wav', 'id10270/8jEAjG6SegY/00018.wav']\n",
      "['0', 'id10270/5r0dWxy17C8/00002.wav', 'id10307/yUv37vQWmzE/00014.wav']\n",
      "['1', 'id10270/5r0dWxy17C8/00002.wav', 'id10270/GWXujl-xAVM/00044.wav']\n",
      "['0', 'id10270/5r0dWxy17C8/00002.wav', 'id10309/e-IdJ8a4gy4/00009.wav']\n",
      "['1', 'id10270/5r0dWxy17C8/00002.wav', 'id10270/8jEAjG6SegY/00035.wav']\n",
      "['0', 'id10270/5r0dWxy17C8/00002.wav', 'id10273/hW0Q6eHqN-U/00003.wav']\n"
     ]
    }
   ],
   "source": [
    "for idx, line in enumerate(lines):\n",
    "    data = line.split()\n",
    "\n",
    "    # Append random label if missing\n",
    "    if len(data) == 2:\n",
    "        data = [random.randint(0, 1)] + data\n",
    "\n",
    "    print(data)"
   ]
  },
  {
   "cell_type": "code",
   "execution_count": 19,
   "id": "a4da6d10",
   "metadata": {},
   "outputs": [
    {
     "name": "stdout",
     "output_type": "stream",
     "text": [
      "<built-in method dim of Tensor object at 0x7f158d541580>\n"
     ]
    }
   ],
   "source": [
    "x = torch.tensor([1, 2, 3, 4])\n",
    "print(torch.unsqueeze(x, -1).dim)"
   ]
  }
 ],
 "metadata": {
  "kernelspec": {
   "display_name": "Python 3 (ipykernel)",
   "language": "python",
   "name": "python3"
  },
  "language_info": {
   "codemirror_mode": {
    "name": "ipython",
    "version": 3
   },
   "file_extension": ".py",
   "mimetype": "text/x-python",
   "name": "python",
   "nbconvert_exporter": "python",
   "pygments_lexer": "ipython3",
   "version": "3.9.5"
  }
 },
 "nbformat": 4,
 "nbformat_minor": 5
}

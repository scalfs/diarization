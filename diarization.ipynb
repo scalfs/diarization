{
 "cells": [
  {
   "cell_type": "code",
   "execution_count": null,
   "id": "abbfa361",
   "metadata": {},
   "outputs": [],
   "source": [
    "import torch\n",
    "from pyannote.database import get_protocol, FileFinder\n",
    "\n",
    "preprocessors = {'audio': FileFinder()}\n",
    "protocol = get_protocol('VOXCON.SpeakerDiarization.Sample', preprocessors=preprocessors)\n",
    "\n",
    "pipeline = torch.hub.load('pyannote/pyannote-audio', 'dia_dihard')"
   ]
  },
  {
   "cell_type": "code",
   "execution_count": null,
   "id": "60ed3a69",
   "metadata": {},
   "outputs": [],
   "source": [
    "test_file = next(protocol.test())\n",
    "\n",
    "diarization = pipeline(test_file)"
   ]
  },
  {
   "cell_type": "code",
   "execution_count": null,
   "id": "f5696af2",
   "metadata": {},
   "outputs": [],
   "source": [
    "from pyannote.metrics.diarization import DiarizationErrorRate\n",
    "\n",
    "metric = DiarizationErrorRate()\n",
    "groundtruth = test_file[\"annotation\"]\n",
    "\n",
    "der = metric(groundtruth, diarization)\n",
    "\n",
    "print(f'diarization error rate = {100 * der:.1f}%')"
   ]
  },
  {
   "cell_type": "code",
   "execution_count": null,
   "id": "5b38bffb",
   "metadata": {},
   "outputs": [],
   "source": [
    "diarization"
   ]
  },
  {
   "cell_type": "code",
   "execution_count": null,
   "id": "90148580",
   "metadata": {
    "scrolled": true
   },
   "outputs": [],
   "source": [
    "groundtruth"
   ]
  },
  {
   "cell_type": "code",
   "execution_count": null,
   "id": "66c19c0a",
   "metadata": {},
   "outputs": [],
   "source": [
    "from pyannote.database.util import load_rttm\n",
    "rttm = load_rttm('/home/jovyan/work/uis-rnn-voxsrc20/lists/voxconverse/sample.rttm')[test_file['uri']]\n",
    "test_file['uri']"
   ]
  },
  {
   "cell_type": "code",
   "execution_count": null,
   "id": "97f06c83",
   "metadata": {},
   "outputs": [],
   "source": [
    "from pyannote.audio.features import RawAudio\n",
    "from pyannote.core import Segment, notebook\n",
    "from IPython.display import Audio\n",
    "\n",
    "# make notebook visualization zoom on 600s < t < 660s time range\n",
    "# EXCERPT = Segment(600, 660)\n",
    "# notebook.crop = EXCERPT\n",
    "\n",
    "# visualize excerpt groundtruth\n",
    "groundtruth\n",
    "\n",
    "file = {'uri': test_file['uri'], 'audio': test_file['audio']}\n",
    "\n",
    "# load audio waveform, crop excerpt, and play it\n",
    "waveform = RawAudio(sample_rate=16000)(file).data\n",
    "Audio(data=waveform.squeeze(), rate=16000, autoplay=True)"
   ]
  },
  {
   "cell_type": "code",
   "execution_count": null,
   "id": "e76060c1",
   "metadata": {},
   "outputs": [],
   "source": [
    "for turn, _, speaker in diarization.itertracks(yield_label=True):\n",
    "    print(f'Speaker \"{speaker}\" speaks between t={turn.start:.1f}s and t={turn.end:.1f}s.')\n",
    "\n",
    "mapping = metric.optimal_mapping(groundtruth, diarization)\n",
    "diarization.rename_labels(mapping=mapping)"
   ]
  }
 ],
 "metadata": {
  "kernelspec": {
   "display_name": "Python 3 (ipykernel)",
   "language": "python",
   "name": "python3"
  },
  "language_info": {
   "codemirror_mode": {
    "name": "ipython",
    "version": 3
   },
   "file_extension": ".py",
   "mimetype": "text/x-python",
   "name": "python",
   "nbconvert_exporter": "python",
   "pygments_lexer": "ipython3",
   "version": "3.9.5"
  }
 },
 "nbformat": 4,
 "nbformat_minor": 5
}

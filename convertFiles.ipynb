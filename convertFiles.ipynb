{
 "cells": [
  {
   "cell_type": "code",
   "execution_count": 14,
   "source": [
    "# Convert RTTM files to UEM\n",
    "# Also createas a LST file\n",
    "# Reference: https://github.com/nryant/dscore#uem\n",
    "\n",
    "dataPath = \"/home/jovyan/work/data/voxconverse/sample\"\n",
    "rttmPath = \"/home/jovyan/work/lists/voxconverse/sample.rttm\"\n",
    "lstPath = \"/home/jovyan/work/lists/voxconverse/sample.lst\"\n",
    "uemPath = \"/home/jovyan/work/lists/voxconverse/sample.uem\""
   ],
   "outputs": [],
   "metadata": {}
  },
  {
   "cell_type": "code",
   "execution_count": 63,
   "source": [
    "rttmLines = []\n",
    "with open(rttmPath, 'r') as file:\n",
    "    for line in file.readlines():\n",
    "        rttmLines.append(line.strip())"
   ],
   "outputs": [],
   "metadata": {}
  },
  {
   "cell_type": "code",
   "execution_count": 68,
   "source": [
    "fileIds = []\n",
    "fileInfos = []\n",
    "\n",
    "for idx,line in enumerate(rttmLines):\n",
    "    rttmInfo = line.split()\n",
    "    fileId = rttmInfo[1]\n",
    "    \n",
    "    if fileId in fileIds:\n",
    "        continue\n",
    "\n",
    "    fileInfo = {\n",
    "        \"fileId\": fileId,\n",
    "        \"firstTurnIndex\": idx,\n",
    "        \"turnOnset\": rttmInfo[3],\n",
    "        \"turnDuration\": rttmInfo[4]\n",
    "    }\n",
    "    fileIds.append(fileId)\n",
    "    fileInfos.append(fileInfo)    "
   ],
   "outputs": [],
   "metadata": {}
  },
  {
   "cell_type": "code",
   "execution_count": 69,
   "source": [
    "uemLines=[]\n",
    "lastFileIndex = len(fileInfos) - 1\n",
    "\n",
    "for fileIdx, info in enumerate(fileInfos):\n",
    "    firstTurnIndex= info[\"firstTurnIndex\"]\n",
    "    firstTurnOnset = info[\"turnOnset\"]\n",
    "    lastTurnOnset = 0\n",
    "    lastTurnDuration = 0\n",
    "\n",
    "    if fileIdx == lastFileIndex:\n",
    "        lastTurnInfos = rttmLines[-1].split()\n",
    "        lastTurnOnset = lastTurnInfos[3]\n",
    "        lastTurnDuration = lastTurnInfos[4]\n",
    "    else:\n",
    "        nextFileInfos = fileInfos[int(fileIdx)+1]        \n",
    "        nextFileFirstTurnIndex = nextFileInfos['firstTurnIndex']\n",
    "\n",
    "        lastTurnInfos = rttmLines[nextFileFirstTurnIndex-1].split()\n",
    "        lastTurnOnset = lastTurnInfos[3]\n",
    "        lastTurnDuration = lastTurnInfos[4]\n",
    "\n",
    "\n",
    "    fileId = info['fileId']\n",
    "    channelId = 1\n",
    "    onset = firstTurnOnset\n",
    "    offset = float(lastTurnOnset) + float(lastTurnDuration)\n",
    "\n",
    "    uemLine = \"{} {} {} {}\".format(fileId, channelId, onset, round(offset, 2))\n",
    "    uemLines.append(uemLine)"
   ],
   "outputs": [],
   "metadata": {}
  },
  {
   "cell_type": "code",
   "execution_count": 70,
   "source": [
    "with open(lstPath, \"w\") as lstFile:\n",
    "    lstFile.write(\"\\n\".join(fileIds))\n",
    "\n",
    "with open(uemPath, \"w\") as uemFile:\n",
    "    uemFile.write(\"\\n\".join(uemLines))"
   ],
   "outputs": [],
   "metadata": {}
  }
 ],
 "metadata": {
  "orig_nbformat": 4,
  "language_info": {
   "name": "python"
  }
 },
 "nbformat": 4,
 "nbformat_minor": 2
}
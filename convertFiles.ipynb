{
 "cells": [
  {
   "cell_type": "code",
   "execution_count": 14,
   "metadata": {},
   "outputs": [],
   "source": [
    "# Convert RTTM files to UEM\n",
    "# Also createas a LST file\n",
    "# Reference: https://github.com/nryant/dscore#uem\n",
    "\n",
    "dataPath = \"/home/jovyan/work/data/voxconverse/sample\"\n",
    "rttmPath = \"/home/jovyan/work/lists/voxconverse/sample.rttm\"\n",
    "lstPath = \"/home/jovyan/work/lists/voxconverse/sample.lst\"\n",
    "uemPath = \"/home/jovyan/work/lists/voxconverse/sample.uem\""
   ]
  },
  {
   "cell_type": "code",
   "execution_count": 63,
   "metadata": {},
   "outputs": [],
   "source": [
    "rttmLines = []\n",
    "with open(rttmPath, 'r') as file:\n",
    "    for line in file.readlines():\n",
    "        rttmLines.append(line.strip())"
   ]
  },
  {
   "cell_type": "code",
   "execution_count": 68,
   "metadata": {},
   "outputs": [],
   "source": [
    "fileIds = []\n",
    "fileInfos = []\n",
    "\n",
    "for idx,line in enumerate(rttmLines):\n",
    "    rttmInfo = line.split()\n",
    "    fileId = rttmInfo[1]\n",
    "    \n",
    "    if fileId in fileIds:\n",
    "        continue\n",
    "\n",
    "    fileInfo = {\n",
    "        \"fileId\": fileId,\n",
    "        \"firstTurnIndex\": idx,\n",
    "        \"turnOnset\": rttmInfo[3],\n",
    "        \"turnDuration\": rttmInfo[4]\n",
    "    }\n",
    "    fileIds.append(fileId)\n",
    "    fileInfos.append(fileInfo)    "
   ]
  },
  {
   "cell_type": "code",
   "execution_count": 69,
   "metadata": {},
   "outputs": [],
   "source": [
    "uemLines=[]\n",
    "lastFileIndex = len(fileInfos) - 1\n",
    "\n",
    "for fileIdx, info in enumerate(fileInfos):\n",
    "    firstTurnIndex= info[\"firstTurnIndex\"]\n",
    "    firstTurnOnset = info[\"turnOnset\"]\n",
    "    lastTurnOnset = 0\n",
    "    lastTurnDuration = 0\n",
    "\n",
    "    if fileIdx == lastFileIndex:\n",
    "        lastTurnInfos = rttmLines[-1].split()\n",
    "        lastTurnOnset = lastTurnInfos[3]\n",
    "        lastTurnDuration = lastTurnInfos[4]\n",
    "    else:\n",
    "        nextFileInfos = fileInfos[int(fileIdx)+1]        \n",
    "        nextFileFirstTurnIndex = nextFileInfos['firstTurnIndex']\n",
    "\n",
    "        lastTurnInfos = rttmLines[nextFileFirstTurnIndex-1].split()\n",
    "        lastTurnOnset = lastTurnInfos[3]\n",
    "        lastTurnDuration = lastTurnInfos[4]\n",
    "\n",
    "\n",
    "    fileId = info['fileId']\n",
    "    channelId = 1\n",
    "    onset = firstTurnOnset\n",
    "    offset = float(lastTurnOnset) + float(lastTurnDuration)\n",
    "\n",
    "    uemLine = \"{} {} {} {}\".format(fileId, channelId, onset, round(offset, 2))\n",
    "    uemLines.append(uemLine)"
   ]
  },
  {
   "cell_type": "code",
   "execution_count": 70,
   "metadata": {},
   "outputs": [],
   "source": [
    "with open(lstPath, \"w\") as lstFile:\n",
    "    lstFile.write(\"\\n\".join(fileIds))\n",
    "\n",
    "with open(uemPath, \"w\") as uemFile:\n",
    "    uemFile.write(\"\\n\".join(uemLines))"
   ]
  },
  {
   "cell_type": "code",
   "execution_count": 13,
   "metadata": {},
   "outputs": [],
   "source": [
    "import fnmatch\n",
    "import os\n",
    "\n",
    "matches = []\n",
    "\n",
    "rttmPath = '/home/jovyan/work/datasets/voxsrc2021/dev/rttm'\n",
    "testPath = '/home/jovyan/work/datasets/voxsrc2021/test/rttm'\n",
    "\n",
    "for root, dirnames, filenames in os.walk(testPath):\n",
    "    for filename in fnmatch.filter(filenames, '*.rttm'):\n",
    "        matches.append(os.path.join(filename))"
   ]
  },
  {
   "cell_type": "code",
   "execution_count": null,
   "metadata": {},
   "outputs": [],
   "source": [
    "from os import walk\n",
    "\n",
    "f = []\n",
    "for (dirpath, dirnames, filenames) in walk(testPath):\n",
    "    print(filenames)"
   ]
  }
 ],
 "metadata": {
  "kernelspec": {
   "display_name": "Python 3 (ipykernel)",
   "language": "python",
   "name": "python3"
  },
  "language_info": {
   "codemirror_mode": {
    "name": "ipython",
    "version": 3
   },
   "file_extension": ".py",
   "mimetype": "text/x-python",
   "name": "python",
   "nbconvert_exporter": "python",
   "pygments_lexer": "ipython3",
   "version": "3.9.5"
  }
 },
 "nbformat": 4,
 "nbformat_minor": 2
}

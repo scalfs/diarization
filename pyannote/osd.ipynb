{
 "cells": [
  {
   "cell_type": "code",
   "execution_count": null,
   "metadata": {},
   "outputs": [],
   "source": [
    "import torch\n",
    "\n",
    "ovl = torch.hub.load('pyannote/pyannote-audio', 'ovl')"
   ]
  },
  {
   "cell_type": "code",
   "execution_count": null,
   "metadata": {},
   "outputs": [],
   "source": [
    "test_file = {'uri': audio_id, 'audio': audio_files.get(audio_id)[0]}\n",
    "ovl_scores = ovl(test_file)"
   ]
  },
  {
   "cell_type": "code",
   "execution_count": null,
   "metadata": {},
   "outputs": [],
   "source": [
    "from pyannote.audio.utils.signal import Binarize\n",
    "binarize = Binarize(offset=0.55, onset=0.55, log_scale=True, \n",
    "                    min_duration_off=0.1, min_duration_on=0.1)\n",
    "\n",
    "# overlapped speech regions (as `pyannote.core.Timeline` instance)\n",
    "overlap = binarize.apply(ovl_scores, dimension=1)"
   ]
  },
  {
   "cell_type": "code",
   "execution_count": null,
   "metadata": {},
   "outputs": [],
   "source": [
    "import numpy as np\n",
    "from matplotlib import pyplot as plt\n",
    "from pyannote.core import Segment, notebook\n",
    "\n",
    "# only plot one minute (between t=120s and t=180s)\n",
    "notebook.crop = Segment(20, 130)\n",
    "\n",
    "# helper function to make visualization prettier\n",
    "from pyannote.core import SlidingWindowFeature\n",
    "plot_ready = lambda scores: SlidingWindowFeature(np.exp(scores.data[:, 1:]), scores.sliding_window)\n",
    "\n",
    "nrows = 3\n",
    "fig, ax = plt.subplots(nrows=nrows, ncols=1)\n",
    "fig.set_figwidth(20)\n",
    "fig.set_figheight(nrows * 2)\n",
    "\n",
    "notebook.plot_annotation(annotation['bauzd'], ax=ax[0], time=False)\n",
    "ax[0].text(notebook.crop.start + 0.5, 0.1, 'referência', fontsize=14)\n",
    "\n",
    "notebook.plot_feature(plot_ready(ovl_scores), ax=ax[1], time=False)\n",
    "ax[1].text(notebook.crop.start + 0.5, 0.2, 'pontuação\\nfalas sobrepostas', fontsize=14)\n",
    "ax[1].set_ylim(-0.1, 1.1)\n",
    "\n",
    "# 7th row: OVL result\n",
    "notebook.plot_timeline(overlap, ax=ax[2], time=False)\n",
    "ax[2].text(notebook.crop.start + 0.5, 0.1, 'detecção de falas sobrepostas', fontsize=14)"
   ]
  }
 ],
 "metadata": {
  "kernelspec": {
   "display_name": "Python 3",
   "language": "python",
   "name": "python3"
  },
  "language_info": {
   "codemirror_mode": {
    "name": "ipython",
    "version": 3
   },
   "file_extension": ".py",
   "mimetype": "text/x-python",
   "name": "python",
   "nbconvert_exporter": "python",
   "pygments_lexer": "ipython3",
   "version": "3.7.3"
  }
 },
 "nbformat": 4,
 "nbformat_minor": 2
}
